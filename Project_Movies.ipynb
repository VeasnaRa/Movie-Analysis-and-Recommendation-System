{
 "cells": [
  {
   "cell_type": "code",
   "execution_count": 1,
   "id": "a854ec2e-d08b-4a07-8184-2bb08ee8c738",
   "metadata": {},
   "outputs": [],
   "source": [
    "import pandas as pd\n",
    "import seaborn as sns\n",
    "import matplotlib.pyplot as plt\n",
    "from scipy.stats import skew\n",
    "import numpy as np"
   ]
  },
  {
   "cell_type": "markdown",
   "id": "1ee3ab4d-7245-450d-b4bb-b8d2f109a38d",
   "metadata": {},
   "source": [
    "# Load and check the"
   ]
  },
  {
   "cell_type": "code",
   "execution_count": 2,
   "id": "98421bbb-8512-49e5-98a0-ba75d109768f",
   "metadata": {},
   "outputs": [
    {
     "ename": "FileNotFoundError",
     "evalue": "[Errno 2] No such file or directory: 'IMDB-Movie-Data.csv'",
     "output_type": "error",
     "traceback": [
      "\u001b[1;31m---------------------------------------------------------------------------\u001b[0m",
      "\u001b[1;31mFileNotFoundError\u001b[0m                         Traceback (most recent call last)",
      "Cell \u001b[1;32mIn[2], line 1\u001b[0m\n\u001b[1;32m----> 1\u001b[0m movie \u001b[38;5;241m=\u001b[39m \u001b[43mpd\u001b[49m\u001b[38;5;241;43m.\u001b[39;49m\u001b[43mread_csv\u001b[49m\u001b[43m(\u001b[49m\u001b[38;5;124;43m\"\u001b[39;49m\u001b[38;5;124;43mIMDB-Movie-Data.csv\u001b[39;49m\u001b[38;5;124;43m\"\u001b[39;49m\u001b[43m)\u001b[49m\n\u001b[0;32m      2\u001b[0m movie\n",
      "File \u001b[1;32mc:\\Users\\ASUS\\anaconda3\\Lib\\site-packages\\pandas\\io\\parsers\\readers.py:912\u001b[0m, in \u001b[0;36mread_csv\u001b[1;34m(filepath_or_buffer, sep, delimiter, header, names, index_col, usecols, dtype, engine, converters, true_values, false_values, skipinitialspace, skiprows, skipfooter, nrows, na_values, keep_default_na, na_filter, verbose, skip_blank_lines, parse_dates, infer_datetime_format, keep_date_col, date_parser, date_format, dayfirst, cache_dates, iterator, chunksize, compression, thousands, decimal, lineterminator, quotechar, quoting, doublequote, escapechar, comment, encoding, encoding_errors, dialect, on_bad_lines, delim_whitespace, low_memory, memory_map, float_precision, storage_options, dtype_backend)\u001b[0m\n\u001b[0;32m    899\u001b[0m kwds_defaults \u001b[38;5;241m=\u001b[39m _refine_defaults_read(\n\u001b[0;32m    900\u001b[0m     dialect,\n\u001b[0;32m    901\u001b[0m     delimiter,\n\u001b[1;32m   (...)\u001b[0m\n\u001b[0;32m    908\u001b[0m     dtype_backend\u001b[38;5;241m=\u001b[39mdtype_backend,\n\u001b[0;32m    909\u001b[0m )\n\u001b[0;32m    910\u001b[0m kwds\u001b[38;5;241m.\u001b[39mupdate(kwds_defaults)\n\u001b[1;32m--> 912\u001b[0m \u001b[38;5;28;01mreturn\u001b[39;00m \u001b[43m_read\u001b[49m\u001b[43m(\u001b[49m\u001b[43mfilepath_or_buffer\u001b[49m\u001b[43m,\u001b[49m\u001b[43m \u001b[49m\u001b[43mkwds\u001b[49m\u001b[43m)\u001b[49m\n",
      "File \u001b[1;32mc:\\Users\\ASUS\\anaconda3\\Lib\\site-packages\\pandas\\io\\parsers\\readers.py:577\u001b[0m, in \u001b[0;36m_read\u001b[1;34m(filepath_or_buffer, kwds)\u001b[0m\n\u001b[0;32m    574\u001b[0m _validate_names(kwds\u001b[38;5;241m.\u001b[39mget(\u001b[38;5;124m\"\u001b[39m\u001b[38;5;124mnames\u001b[39m\u001b[38;5;124m\"\u001b[39m, \u001b[38;5;28;01mNone\u001b[39;00m))\n\u001b[0;32m    576\u001b[0m \u001b[38;5;66;03m# Create the parser.\u001b[39;00m\n\u001b[1;32m--> 577\u001b[0m parser \u001b[38;5;241m=\u001b[39m \u001b[43mTextFileReader\u001b[49m\u001b[43m(\u001b[49m\u001b[43mfilepath_or_buffer\u001b[49m\u001b[43m,\u001b[49m\u001b[43m \u001b[49m\u001b[38;5;241;43m*\u001b[39;49m\u001b[38;5;241;43m*\u001b[39;49m\u001b[43mkwds\u001b[49m\u001b[43m)\u001b[49m\n\u001b[0;32m    579\u001b[0m \u001b[38;5;28;01mif\u001b[39;00m chunksize \u001b[38;5;129;01mor\u001b[39;00m iterator:\n\u001b[0;32m    580\u001b[0m     \u001b[38;5;28;01mreturn\u001b[39;00m parser\n",
      "File \u001b[1;32mc:\\Users\\ASUS\\anaconda3\\Lib\\site-packages\\pandas\\io\\parsers\\readers.py:1407\u001b[0m, in \u001b[0;36mTextFileReader.__init__\u001b[1;34m(self, f, engine, **kwds)\u001b[0m\n\u001b[0;32m   1404\u001b[0m     \u001b[38;5;28mself\u001b[39m\u001b[38;5;241m.\u001b[39moptions[\u001b[38;5;124m\"\u001b[39m\u001b[38;5;124mhas_index_names\u001b[39m\u001b[38;5;124m\"\u001b[39m] \u001b[38;5;241m=\u001b[39m kwds[\u001b[38;5;124m\"\u001b[39m\u001b[38;5;124mhas_index_names\u001b[39m\u001b[38;5;124m\"\u001b[39m]\n\u001b[0;32m   1406\u001b[0m \u001b[38;5;28mself\u001b[39m\u001b[38;5;241m.\u001b[39mhandles: IOHandles \u001b[38;5;241m|\u001b[39m \u001b[38;5;28;01mNone\u001b[39;00m \u001b[38;5;241m=\u001b[39m \u001b[38;5;28;01mNone\u001b[39;00m\n\u001b[1;32m-> 1407\u001b[0m \u001b[38;5;28mself\u001b[39m\u001b[38;5;241m.\u001b[39m_engine \u001b[38;5;241m=\u001b[39m \u001b[38;5;28;43mself\u001b[39;49m\u001b[38;5;241;43m.\u001b[39;49m\u001b[43m_make_engine\u001b[49m\u001b[43m(\u001b[49m\u001b[43mf\u001b[49m\u001b[43m,\u001b[49m\u001b[43m \u001b[49m\u001b[38;5;28;43mself\u001b[39;49m\u001b[38;5;241;43m.\u001b[39;49m\u001b[43mengine\u001b[49m\u001b[43m)\u001b[49m\n",
      "File \u001b[1;32mc:\\Users\\ASUS\\anaconda3\\Lib\\site-packages\\pandas\\io\\parsers\\readers.py:1661\u001b[0m, in \u001b[0;36mTextFileReader._make_engine\u001b[1;34m(self, f, engine)\u001b[0m\n\u001b[0;32m   1659\u001b[0m     \u001b[38;5;28;01mif\u001b[39;00m \u001b[38;5;124m\"\u001b[39m\u001b[38;5;124mb\u001b[39m\u001b[38;5;124m\"\u001b[39m \u001b[38;5;129;01mnot\u001b[39;00m \u001b[38;5;129;01min\u001b[39;00m mode:\n\u001b[0;32m   1660\u001b[0m         mode \u001b[38;5;241m+\u001b[39m\u001b[38;5;241m=\u001b[39m \u001b[38;5;124m\"\u001b[39m\u001b[38;5;124mb\u001b[39m\u001b[38;5;124m\"\u001b[39m\n\u001b[1;32m-> 1661\u001b[0m \u001b[38;5;28mself\u001b[39m\u001b[38;5;241m.\u001b[39mhandles \u001b[38;5;241m=\u001b[39m \u001b[43mget_handle\u001b[49m\u001b[43m(\u001b[49m\n\u001b[0;32m   1662\u001b[0m \u001b[43m    \u001b[49m\u001b[43mf\u001b[49m\u001b[43m,\u001b[49m\n\u001b[0;32m   1663\u001b[0m \u001b[43m    \u001b[49m\u001b[43mmode\u001b[49m\u001b[43m,\u001b[49m\n\u001b[0;32m   1664\u001b[0m \u001b[43m    \u001b[49m\u001b[43mencoding\u001b[49m\u001b[38;5;241;43m=\u001b[39;49m\u001b[38;5;28;43mself\u001b[39;49m\u001b[38;5;241;43m.\u001b[39;49m\u001b[43moptions\u001b[49m\u001b[38;5;241;43m.\u001b[39;49m\u001b[43mget\u001b[49m\u001b[43m(\u001b[49m\u001b[38;5;124;43m\"\u001b[39;49m\u001b[38;5;124;43mencoding\u001b[39;49m\u001b[38;5;124;43m\"\u001b[39;49m\u001b[43m,\u001b[49m\u001b[43m \u001b[49m\u001b[38;5;28;43;01mNone\u001b[39;49;00m\u001b[43m)\u001b[49m\u001b[43m,\u001b[49m\n\u001b[0;32m   1665\u001b[0m \u001b[43m    \u001b[49m\u001b[43mcompression\u001b[49m\u001b[38;5;241;43m=\u001b[39;49m\u001b[38;5;28;43mself\u001b[39;49m\u001b[38;5;241;43m.\u001b[39;49m\u001b[43moptions\u001b[49m\u001b[38;5;241;43m.\u001b[39;49m\u001b[43mget\u001b[49m\u001b[43m(\u001b[49m\u001b[38;5;124;43m\"\u001b[39;49m\u001b[38;5;124;43mcompression\u001b[39;49m\u001b[38;5;124;43m\"\u001b[39;49m\u001b[43m,\u001b[49m\u001b[43m \u001b[49m\u001b[38;5;28;43;01mNone\u001b[39;49;00m\u001b[43m)\u001b[49m\u001b[43m,\u001b[49m\n\u001b[0;32m   1666\u001b[0m \u001b[43m    \u001b[49m\u001b[43mmemory_map\u001b[49m\u001b[38;5;241;43m=\u001b[39;49m\u001b[38;5;28;43mself\u001b[39;49m\u001b[38;5;241;43m.\u001b[39;49m\u001b[43moptions\u001b[49m\u001b[38;5;241;43m.\u001b[39;49m\u001b[43mget\u001b[49m\u001b[43m(\u001b[49m\u001b[38;5;124;43m\"\u001b[39;49m\u001b[38;5;124;43mmemory_map\u001b[39;49m\u001b[38;5;124;43m\"\u001b[39;49m\u001b[43m,\u001b[49m\u001b[43m \u001b[49m\u001b[38;5;28;43;01mFalse\u001b[39;49;00m\u001b[43m)\u001b[49m\u001b[43m,\u001b[49m\n\u001b[0;32m   1667\u001b[0m \u001b[43m    \u001b[49m\u001b[43mis_text\u001b[49m\u001b[38;5;241;43m=\u001b[39;49m\u001b[43mis_text\u001b[49m\u001b[43m,\u001b[49m\n\u001b[0;32m   1668\u001b[0m \u001b[43m    \u001b[49m\u001b[43merrors\u001b[49m\u001b[38;5;241;43m=\u001b[39;49m\u001b[38;5;28;43mself\u001b[39;49m\u001b[38;5;241;43m.\u001b[39;49m\u001b[43moptions\u001b[49m\u001b[38;5;241;43m.\u001b[39;49m\u001b[43mget\u001b[49m\u001b[43m(\u001b[49m\u001b[38;5;124;43m\"\u001b[39;49m\u001b[38;5;124;43mencoding_errors\u001b[39;49m\u001b[38;5;124;43m\"\u001b[39;49m\u001b[43m,\u001b[49m\u001b[43m \u001b[49m\u001b[38;5;124;43m\"\u001b[39;49m\u001b[38;5;124;43mstrict\u001b[39;49m\u001b[38;5;124;43m\"\u001b[39;49m\u001b[43m)\u001b[49m\u001b[43m,\u001b[49m\n\u001b[0;32m   1669\u001b[0m \u001b[43m    \u001b[49m\u001b[43mstorage_options\u001b[49m\u001b[38;5;241;43m=\u001b[39;49m\u001b[38;5;28;43mself\u001b[39;49m\u001b[38;5;241;43m.\u001b[39;49m\u001b[43moptions\u001b[49m\u001b[38;5;241;43m.\u001b[39;49m\u001b[43mget\u001b[49m\u001b[43m(\u001b[49m\u001b[38;5;124;43m\"\u001b[39;49m\u001b[38;5;124;43mstorage_options\u001b[39;49m\u001b[38;5;124;43m\"\u001b[39;49m\u001b[43m,\u001b[49m\u001b[43m \u001b[49m\u001b[38;5;28;43;01mNone\u001b[39;49;00m\u001b[43m)\u001b[49m\u001b[43m,\u001b[49m\n\u001b[0;32m   1670\u001b[0m \u001b[43m\u001b[49m\u001b[43m)\u001b[49m\n\u001b[0;32m   1671\u001b[0m \u001b[38;5;28;01massert\u001b[39;00m \u001b[38;5;28mself\u001b[39m\u001b[38;5;241m.\u001b[39mhandles \u001b[38;5;129;01mis\u001b[39;00m \u001b[38;5;129;01mnot\u001b[39;00m \u001b[38;5;28;01mNone\u001b[39;00m\n\u001b[0;32m   1672\u001b[0m f \u001b[38;5;241m=\u001b[39m \u001b[38;5;28mself\u001b[39m\u001b[38;5;241m.\u001b[39mhandles\u001b[38;5;241m.\u001b[39mhandle\n",
      "File \u001b[1;32mc:\\Users\\ASUS\\anaconda3\\Lib\\site-packages\\pandas\\io\\common.py:859\u001b[0m, in \u001b[0;36mget_handle\u001b[1;34m(path_or_buf, mode, encoding, compression, memory_map, is_text, errors, storage_options)\u001b[0m\n\u001b[0;32m    854\u001b[0m \u001b[38;5;28;01melif\u001b[39;00m \u001b[38;5;28misinstance\u001b[39m(handle, \u001b[38;5;28mstr\u001b[39m):\n\u001b[0;32m    855\u001b[0m     \u001b[38;5;66;03m# Check whether the filename is to be opened in binary mode.\u001b[39;00m\n\u001b[0;32m    856\u001b[0m     \u001b[38;5;66;03m# Binary mode does not support 'encoding' and 'newline'.\u001b[39;00m\n\u001b[0;32m    857\u001b[0m     \u001b[38;5;28;01mif\u001b[39;00m ioargs\u001b[38;5;241m.\u001b[39mencoding \u001b[38;5;129;01mand\u001b[39;00m \u001b[38;5;124m\"\u001b[39m\u001b[38;5;124mb\u001b[39m\u001b[38;5;124m\"\u001b[39m \u001b[38;5;129;01mnot\u001b[39;00m \u001b[38;5;129;01min\u001b[39;00m ioargs\u001b[38;5;241m.\u001b[39mmode:\n\u001b[0;32m    858\u001b[0m         \u001b[38;5;66;03m# Encoding\u001b[39;00m\n\u001b[1;32m--> 859\u001b[0m         handle \u001b[38;5;241m=\u001b[39m \u001b[38;5;28;43mopen\u001b[39;49m\u001b[43m(\u001b[49m\n\u001b[0;32m    860\u001b[0m \u001b[43m            \u001b[49m\u001b[43mhandle\u001b[49m\u001b[43m,\u001b[49m\n\u001b[0;32m    861\u001b[0m \u001b[43m            \u001b[49m\u001b[43mioargs\u001b[49m\u001b[38;5;241;43m.\u001b[39;49m\u001b[43mmode\u001b[49m\u001b[43m,\u001b[49m\n\u001b[0;32m    862\u001b[0m \u001b[43m            \u001b[49m\u001b[43mencoding\u001b[49m\u001b[38;5;241;43m=\u001b[39;49m\u001b[43mioargs\u001b[49m\u001b[38;5;241;43m.\u001b[39;49m\u001b[43mencoding\u001b[49m\u001b[43m,\u001b[49m\n\u001b[0;32m    863\u001b[0m \u001b[43m            \u001b[49m\u001b[43merrors\u001b[49m\u001b[38;5;241;43m=\u001b[39;49m\u001b[43merrors\u001b[49m\u001b[43m,\u001b[49m\n\u001b[0;32m    864\u001b[0m \u001b[43m            \u001b[49m\u001b[43mnewline\u001b[49m\u001b[38;5;241;43m=\u001b[39;49m\u001b[38;5;124;43m\"\u001b[39;49m\u001b[38;5;124;43m\"\u001b[39;49m\u001b[43m,\u001b[49m\n\u001b[0;32m    865\u001b[0m \u001b[43m        \u001b[49m\u001b[43m)\u001b[49m\n\u001b[0;32m    866\u001b[0m     \u001b[38;5;28;01melse\u001b[39;00m:\n\u001b[0;32m    867\u001b[0m         \u001b[38;5;66;03m# Binary mode\u001b[39;00m\n\u001b[0;32m    868\u001b[0m         handle \u001b[38;5;241m=\u001b[39m \u001b[38;5;28mopen\u001b[39m(handle, ioargs\u001b[38;5;241m.\u001b[39mmode)\n",
      "\u001b[1;31mFileNotFoundError\u001b[0m: [Errno 2] No such file or directory: 'IMDB-Movie-Data.csv'"
     ]
    }
   ],
   "source": [
    "movie = pd.read_csv(\"IMDB-Movie-Data.csv\")\n",
    "movie"
   ]
  },
  {
   "cell_type": "code",
   "execution_count": null,
   "id": "ff169e1a-7910-4042-a7e3-1aebd02424b6",
   "metadata": {},
   "outputs": [],
   "source": [
    "movie.head(10)"
   ]
  },
  {
   "cell_type": "code",
   "execution_count": null,
   "id": "91602eaf-7893-45ec-accc-c6931198b7a2",
   "metadata": {},
   "outputs": [],
   "source": [
    "movie.shape"
   ]
  },
  {
   "cell_type": "code",
   "execution_count": null,
   "id": "018b43cd-12a1-459c-b52e-87cce0f9a020",
   "metadata": {},
   "outputs": [],
   "source": [
    "movie.info()"
   ]
  },
  {
   "cell_type": "markdown",
   "id": "d81e708f-fe02-4d89-989f-8f7a491d9f49",
   "metadata": {},
   "source": [
    "# 1. Check Missing value"
   ]
  },
  {
   "cell_type": "code",
   "execution_count": null,
   "id": "772fcee6-078e-4ef3-97a8-94da59e5b098",
   "metadata": {},
   "outputs": [],
   "source": [
    "print('Any missing value==> ',movie.isnull().values.any())"
   ]
  },
  {
   "cell_type": "code",
   "execution_count": null,
   "id": "07ac9929-1a86-4bb6-95f2-36f5c59d6f3c",
   "metadata": {},
   "outputs": [],
   "source": [
    "movie.isnull().sum()"
   ]
  },
  {
   "cell_type": "code",
   "execution_count": null,
   "id": "04f238f5-9cde-439c-937f-5726325436dc",
   "metadata": {},
   "outputs": [],
   "source": [
    "sns.heatmap(movie.isnull())"
   ]
  },
  {
   "cell_type": "code",
   "execution_count": null,
   "id": "ebb64ad9-86d1-46c5-83a6-6bfabe36a853",
   "metadata": {},
   "outputs": [],
   "source": [
    "per_missing = movie.isnull().sum() * 100/ len(movie)\n",
    "per_missing"
   ]
  },
  {
   "cell_type": "markdown",
   "id": "ae2ae8d9-a2f2-4dce-833e-d91bacbd5ac5",
   "metadata": {},
   "source": [
    "# 2. Drop missing values"
   ]
  },
  {
   "cell_type": "code",
   "execution_count": null,
   "id": "3d8a1bf5-5fd0-4e7c-bfd1-9d3cd7815092",
   "metadata": {
    "scrolled": true
   },
   "outputs": [],
   "source": [
    "movie.dropna(axis=0)\n",
    "movie"
   ]
  },
  {
   "cell_type": "markdown",
   "id": "dbbb5352-695a-41f9-8a08-bbf2a573dc8c",
   "metadata": {},
   "source": [
    "# 3. Check for duplicate data"
   ]
  },
  {
   "cell_type": "code",
   "execution_count": null,
   "id": "25f5c7e4-ddb7-4b06-bbe6-a1f8585e46a8",
   "metadata": {},
   "outputs": [],
   "source": [
    "print('Are there any duplicate values?',movie.duplicated().any())"
   ]
  },
  {
   "cell_type": "code",
   "execution_count": null,
   "id": "ddbc6144-e6a6-41eb-88b9-b4790671d925",
   "metadata": {},
   "outputs": [],
   "source": [
    "movie.drop_duplicates()\n",
    "movie"
   ]
  },
  {
   "cell_type": "markdown",
   "id": "9163b1f9-486d-4d7e-8092-a8dcccbcad45",
   "metadata": {},
   "source": [
    "# 4. Plot boxplot for each dataset"
   ]
  },
  {
   "cell_type": "code",
   "execution_count": null,
   "id": "6553b6e5-1d6e-465d-b258-c69462eddd8d",
   "metadata": {},
   "outputs": [],
   "source": [
    "fig, axes = plt.subplots(2, 2, figsize=(10, 10))\n",
    "axes = axes.flatten()\n",
    "sns.boxplot(data=movie, x='Rating', color='blue', ax=axes[0])\n",
    "axes[0].set_title('Rating')\n",
    "sns.boxplot(data=movie, x='Votes', color='green', ax=axes[1])\n",
    "axes[1].set_title('Votes')\n",
    "sns.boxplot(data=movie, x='Revenue (Millions)', color='red', ax=axes[2])\n",
    "axes[2].set_title('Revenue (Millions)')\n",
    "sns.boxplot(data=movie, x='Metascore', color='purple', ax=axes[3])\n",
    "axes[3].set_title('Metascore')"
   ]
  },
  {
   "cell_type": "markdown",
   "id": "28aac538-93eb-49cf-9b68-a3f7f1e23201",
   "metadata": {},
   "source": [
    "# 5. Replace Outlier"
   ]
  },
  {
   "cell_type": "code",
   "execution_count": null,
   "id": "ac9f6a2b-449b-427a-89d6-8c15ebb3820b",
   "metadata": {},
   "outputs": [],
   "source": [
    "for column in ['Rating', 'Votes']:\n",
    "    q1 = movie[column].quantile(0.25)\n",
    "    q2 = movie[column].quantile(0.75)\n",
    "    IQR = q2-q1\n",
    "    max_limit = q2 + (1.5 * IQR)\n",
    "    min_limit = q1 - (1.5 * IQR)\n",
    "    movie[column] = pd.DataFrame(np.where(movie[column] > max_limit, max_limit,\n",
    "     (np.where(movie[column] < min_limit, min_limit, movie[column]))), columns=[column])\n",
    "        "
   ]
  },
  {
   "cell_type": "code",
   "execution_count": null,
   "id": "1200532e-2509-48ec-9252-469211844fe7",
   "metadata": {},
   "outputs": [],
   "source": [
    "fig, axes = plt.subplots(2, 2, figsize=(10, 10))\n",
    "axes = axes.flatten()\n",
    "sns.boxplot(data=movie, x='Rating', color='blue', ax=axes[0])\n",
    "axes[0].set_title('Rating')\n",
    "sns.boxplot(data=movie, x='Votes', color='green', ax=axes[1])\n",
    "axes[1].set_title('Votes')\n",
    "sns.boxplot(data=movie, x='Metascore', color='purple', ax=axes[3])\n",
    "axes[3].set_title('Metascore')"
   ]
  },
  {
   "cell_type": "markdown",
   "id": "0d64e3b1-1627-4ef8-a91c-5f5bad1c4c7a",
   "metadata": {},
   "source": [
    "# 6. Get overall statistics about the data"
   ]
  },
  {
   "cell_type": "code",
   "execution_count": null,
   "id": "a939952f-8c5e-4b07-a5ba-90a13beed305",
   "metadata": {
    "scrolled": true
   },
   "outputs": [],
   "source": [
    "movie.describe(include='all')"
   ]
  },
  {
   "cell_type": "markdown",
   "id": "0cc6a528-2c4c-4eed-a7ae-1cadefd49628",
   "metadata": {},
   "source": [
    "# 7. Which year there was the higest average voting?"
   ]
  },
  {
   "cell_type": "code",
   "execution_count": null,
   "id": "319d3cc5-52ef-4a45-9a64-9ce9f1572726",
   "metadata": {},
   "outputs": [],
   "source": [
    "movie.groupby('Year')['Votes'].mean().sort_values(ascending=False)"
   ]
  },
  {
   "cell_type": "code",
   "execution_count": null,
   "id": "b7a1c8a3-4b2a-4dd4-b9f6-a467f9f3b553",
   "metadata": {},
   "outputs": [],
   "source": [
    "sns.barplot(x='Year',y='Votes',data=movie)\n",
    "plt.title(\"Votes By Year\")\n",
    "plt.show()"
   ]
  },
  {
   "cell_type": "markdown",
   "id": "f02bd123-298a-4e7c-bfb8-fcf316afafcf",
   "metadata": {},
   "source": [
    "# 8. Which year there was the highest average revenue?"
   ]
  },
  {
   "cell_type": "code",
   "execution_count": null,
   "id": "79800c0d-2fc7-42ce-b379-e0bc391ffc6b",
   "metadata": {},
   "outputs": [],
   "source": [
    "movie.groupby('Year')['Revenue (Millions)'].mean().sort_values(ascending=False)"
   ]
  },
  {
   "cell_type": "code",
   "execution_count": null,
   "id": "eb75adcd-5cbd-4019-8e65-54138f0934a9",
   "metadata": {},
   "outputs": [],
   "source": [
    "sns.barplot(x='Year',y='Revenue (Millions)',data=movie)\n",
    "plt.title(\"Revenue By Year\")\n",
    "plt.show()"
   ]
  },
  {
   "cell_type": "markdown",
   "id": "6b5dfc0e-5b74-4df8-9133-12bf7eda4945",
   "metadata": {},
   "source": [
    "# 9. Find the average rating for each Title"
   ]
  },
  {
   "cell_type": "code",
   "execution_count": null,
   "id": "20c14d3e-c415-4195-bfa8-12843a71a657",
   "metadata": {},
   "outputs": [],
   "source": [
    "movie.columns"
   ]
  },
  {
   "cell_type": "code",
   "execution_count": null,
   "id": "bb8d482e-7a04-4fbb-96dd-f6462a16ebf8",
   "metadata": {},
   "outputs": [],
   "source": [
    "movie.groupby('Title')['Rating'].mean().sort_values(ascending=False)"
   ]
  },
  {
   "cell_type": "markdown",
   "id": "7bce2616-6499-4aef-8d43-1fcec1697390",
   "metadata": {},
   "source": [
    "# 10. Display top 10 movies title and rating"
   ]
  },
  {
   "cell_type": "code",
   "execution_count": null,
   "id": "a52471a3-2b76-48c1-84df-d446ee6ebb63",
   "metadata": {},
   "outputs": [],
   "source": [
    "top10_rating = movie.nlargest(10,'Rating')[['Title','Rating']].set_index('Title')\n",
    "top10_rating"
   ]
  },
  {
   "cell_type": "code",
   "execution_count": null,
   "id": "492a2f07-73f6-4128-9e7b-eb8f2380875b",
   "metadata": {},
   "outputs": [],
   "source": [
    "sns.barplot(x='Rating',y=top10_rating.index,data=top10_rating)"
   ]
  },
  {
   "cell_type": "markdown",
   "id": "96850bc4-182e-4ebf-a929-ec387b0f2c44",
   "metadata": {},
   "source": [
    "# 11. Count number of movies in year"
   ]
  },
  {
   "cell_type": "code",
   "execution_count": null,
   "id": "0e783980-aeaa-49be-b447-006bcfbf79aa",
   "metadata": {},
   "outputs": [],
   "source": [
    "movie['Year'].value_counts()"
   ]
  },
  {
   "cell_type": "code",
   "execution_count": null,
   "id": "59b335a7-0002-4f58-815a-8976b5827b30",
   "metadata": {},
   "outputs": [],
   "source": [
    "sns.countplot(x='Year',data=movie)\n",
    "plt.title(\"The Number of movies for year\")\n",
    "plt.show()"
   ]
  },
  {
   "cell_type": "code",
   "execution_count": null,
   "id": "09f77d16-1336-460c-a4ec-58522def2f3d",
   "metadata": {},
   "outputs": [],
   "source": []
  },
  {
   "cell_type": "markdown",
   "id": "9d7faca8-2622-4291-90fc-507952f9bd30",
   "metadata": {},
   "source": [
    "# 12. Find most popular movie title(Higest Revenue)"
   ]
  },
  {
   "cell_type": "code",
   "execution_count": null,
   "id": "56f42628-986f-4e6b-b91e-a4840b33fc3b",
   "metadata": {},
   "outputs": [],
   "source": [
    "movie[movie['Revenue (Millions)'].max()==movie['Revenue (Millions)']]['Title']"
   ]
  },
  {
   "cell_type": "code",
   "execution_count": null,
   "id": "1702094f-ef26-4979-8690-8afdd3551696",
   "metadata": {},
   "outputs": [],
   "source": []
  },
  {
   "cell_type": "markdown",
   "id": "c92524fd-efa0-46c0-b03a-571b6ad349b0",
   "metadata": {},
   "source": [
    "# 13. Display 10 higest rated movie titles and its directors"
   ]
  },
  {
   "cell_type": "code",
   "execution_count": null,
   "id": "d8a8fb68-83b8-42e2-8f29-45b3cb0458d8",
   "metadata": {
    "scrolled": true
   },
   "outputs": [],
   "source": [
    "top10_title = movie.nlargest(10,'Rating')[['Title','Rating','Director','Votes']].set_index('Title')\n",
    "top10_title"
   ]
  },
  {
   "cell_type": "code",
   "execution_count": null,
   "id": "7eb42364-1af3-49b9-9e03-3531fa3161a0",
   "metadata": {},
   "outputs": [],
   "source": [
    "sns.barplot(x='Rating',y=top10_title.index,data=top10_title,hue='Director',dodge=False)\n",
    "plt.legend(bbox_to_anchor=(1.05,1),loc=2)"
   ]
  },
  {
   "cell_type": "code",
   "execution_count": null,
   "id": "428e42ed-856f-479e-8410-b3ad403aa242",
   "metadata": {},
   "outputs": [],
   "source": []
  },
  {
   "cell_type": "markdown",
   "id": "786279a5-90ca-45ea-9205-f37ba18fb366",
   "metadata": {},
   "source": [
    "# 14. Find the highest 10 revenue movies"
   ]
  },
  {
   "cell_type": "code",
   "execution_count": null,
   "id": "f0b30733-c3ed-4580-9819-59ba735b72d1",
   "metadata": {},
   "outputs": [],
   "source": [
    "top10_revenue=movie.nlargest(10,'Revenue (Millions)')[['Title','Revenue (Millions)','Director','Year']].set_index('Title')\n",
    "top10_revenue"
   ]
  },
  {
   "cell_type": "code",
   "execution_count": null,
   "id": "4adf2fce-4a27-47c0-b861-ff9dd46c1e80",
   "metadata": {},
   "outputs": [],
   "source": [
    "sns.barplot(x='Revenue (Millions)',y=top10_revenue.index,data=top10_revenue,hue='Director',dodge=False)\n",
    "plt.legend(bbox_to_anchor=(1.05,1),loc=2)\n",
    "plt.title(\"The highest revenue movies\")\n",
    "plt.show()"
   ]
  },
  {
   "cell_type": "code",
   "execution_count": null,
   "id": "0a408abb-520b-4e7a-9100-2747db01eccf",
   "metadata": {},
   "outputs": [],
   "source": []
  },
  {
   "cell_type": "markdown",
   "id": "07015aec-3131-4044-8d93-4438f4012840",
   "metadata": {},
   "source": [
    "# 15. Classification rating movies(Excellent,Good,Average)"
   ]
  },
  {
   "cell_type": "code",
   "execution_count": null,
   "id": "5435b974-9455-4c7d-8b68-6ab079a87379",
   "metadata": {},
   "outputs": [],
   "source": [
    "def rating(rating):\n",
    "    if rating>=7.0:\n",
    "        return \"Excellent\"\n",
    "    elif rating>=6.0:\n",
    "        return \"Good\"\n",
    "    else:\n",
    "        return \"Average\""
   ]
  },
  {
   "cell_type": "code",
   "execution_count": null,
   "id": "67f58fb7-e412-47e5-b504-bf0e5d7bef0c",
   "metadata": {},
   "outputs": [],
   "source": [
    "movie['rating_cat'] = movie['Rating'].apply(rating)"
   ]
  },
  {
   "cell_type": "code",
   "execution_count": null,
   "id": "398b6d9e-ef04-4003-be0d-c74d939bd784",
   "metadata": {},
   "outputs": [],
   "source": [
    "movie"
   ]
  },
  {
   "cell_type": "markdown",
   "id": "7cafb7b4-c3f3-4519-a1be-4739bd796867",
   "metadata": {},
   "source": [
    "# 16. Univariate Analysis"
   ]
  },
  {
   "cell_type": "code",
   "execution_count": null,
   "id": "3789ecaa-ba0c-40a8-aceb-477701a5ffb4",
   "metadata": {},
   "outputs": [],
   "source": [
    "sns.histplot(data=movie['Rating'],kde=True)\n",
    "plt.title(\"Distribution Rating of movies\")\n",
    "plt.show()"
   ]
  },
  {
   "cell_type": "code",
   "execution_count": null,
   "id": "547e65c3-5cbe-48b9-a0b3-cc3e7d11f74a",
   "metadata": {},
   "outputs": [],
   "source": [
    "skew(movie[\"Rating\"])"
   ]
  },
  {
   "cell_type": "code",
   "execution_count": null,
   "id": "bface98b-ce39-49fe-8ff3-bbde5d77bc88",
   "metadata": {},
   "outputs": [],
   "source": [
    "sns.histplot(data=movie['Revenue (Millions)'],kde=True)\n",
    "plt.title(\"Distribution Revenue (Millions) of movies\")\n",
    "plt.show()"
   ]
  },
  {
   "cell_type": "code",
   "execution_count": null,
   "id": "0b9de101-fca7-470d-8aa6-f7b8c459320d",
   "metadata": {},
   "outputs": [],
   "source": [
    "skew(movie[\"Revenue (Millions)\"])"
   ]
  },
  {
   "cell_type": "code",
   "execution_count": null,
   "id": "fd11a803-d27e-43c7-b6d2-306b207ad91b",
   "metadata": {},
   "outputs": [],
   "source": [
    "sns.histplot(data=movie['Votes'],kde=True)\n",
    "plt.title(\"Distribution Votes of movies\")\n",
    "plt.show()"
   ]
  },
  {
   "cell_type": "code",
   "execution_count": null,
   "id": "5a4022e1-ac3f-4a44-9fa9-284af8687d75",
   "metadata": {},
   "outputs": [],
   "source": [
    "skew(movie[\"Votes\"])"
   ]
  },
  {
   "cell_type": "markdown",
   "id": "1ba8377c-9729-45fa-9d97-6858fd69d4a5",
   "metadata": {},
   "source": [
    "# 17. Find correlation of dataset"
   ]
  },
  {
   "cell_type": "code",
   "execution_count": null,
   "id": "8dcc62b0-18d4-4812-9717-0f4ef11fb4b4",
   "metadata": {},
   "outputs": [],
   "source": [
    "sns.heatmap(np.round(movie.corr(numeric_only=True),2),annot=True)\n",
    "plt.title(\"Multivariate analysis\")\n",
    "plt.show()"
   ]
  },
  {
   "cell_type": "markdown",
   "id": "2cf91021-5a86-44cc-815a-af3dc24493f8",
   "metadata": {},
   "source": [
    "# 18 Apply Machine learning to recommend the titles of movie to customers"
   ]
  },
  {
   "cell_type": "code",
   "execution_count": null,
   "id": "9c63ed65-5426-4040-8e13-752f5419a02a",
   "metadata": {},
   "outputs": [],
   "source": [
    "import difflib\n",
    "from sklearn.feature_extraction.text import TfidfVectorizer\n",
    "from sklearn.metrics.pairwise import cosine_similarity"
   ]
  },
  {
   "cell_type": "code",
   "execution_count": null,
   "id": "4f96545b-3fc5-4398-a013-3355fc756c0f",
   "metadata": {},
   "outputs": [],
   "source": [
    "movie.columns"
   ]
  },
  {
   "cell_type": "code",
   "execution_count": null,
   "id": "ef15a3a3-ba76-4aff-b6c4-2bf04a9a4289",
   "metadata": {},
   "outputs": [],
   "source": [
    "# select the features for recommendation movie\n",
    "select_feature = ['Genre','Description','Director','Actors']  \n",
    "print(select_feature)"
   ]
  },
  {
   "cell_type": "code",
   "execution_count": null,
   "id": "ffe35fd4-b97d-43a8-b30a-d6a414839b20",
   "metadata": {},
   "outputs": [],
   "source": [
    "# replacing the null valuess with null string\n",
    "for feature in select_feature:\n",
    "  movie[feature] = movie[feature].fillna('')"
   ]
  },
  {
   "cell_type": "code",
   "execution_count": null,
   "id": "305aeac7-85bc-49a0-8854-3f330c8facfb",
   "metadata": {},
   "outputs": [],
   "source": [
    "# combining all the 5 selected features\n",
    "combine_feature = movie['Genre'] +' ' +movie['Description'] +' ' +movie['Director'] +' ' +movie['Actors']\n",
    "print(combine_feature)"
   ]
  },
  {
   "cell_type": "code",
   "execution_count": null,
   "id": "f73017c2-4fcc-4e75-a2de-8efcce1a858c",
   "metadata": {},
   "outputs": [],
   "source": [
    "# converting the text data to feature vectors\n",
    "vectorizer = TfidfVectorizer()\n",
    "feature_vectors = vectorizer.fit_transform(combine_feature)\n",
    "print(feature_vectors)"
   ]
  },
  {
   "cell_type": "markdown",
   "id": "1b2fc353-372b-43c0-b429-236c21fe5ae7",
   "metadata": {},
   "source": [
    "# Cosine Similarity"
   ]
  },
  {
   "cell_type": "code",
   "execution_count": null,
   "id": "c6a8d3af-7e1d-43ee-ba9f-755f23028694",
   "metadata": {},
   "outputs": [],
   "source": [
    "# getting the similarity scores using cosine similarity\n",
    "similarity = cosine_similarity(feature_vectors)\n",
    "print(similarity)\n",
    "print(similarity.shape)"
   ]
  },
  {
   "cell_type": "markdown",
   "id": "adc4b95f-6f44-4aab-b22b-0ee02099e1be",
   "metadata": {},
   "source": [
    "# Getting movie title form user"
   ]
  },
  {
   "cell_type": "code",
   "execution_count": null,
   "id": "48da1c07-016c-4cdf-9e0c-5d8b6f9fdde3",
   "metadata": {},
   "outputs": [],
   "source": [
    "movie_title = input(\"Please Input a title of movie: \")"
   ]
  },
  {
   "cell_type": "code",
   "execution_count": null,
   "id": "02649211-cce5-4ffe-9448-00ced0c29683",
   "metadata": {},
   "outputs": [],
   "source": [
    "# creating a list with all the movie names given in the dataset\n",
    "#movie['Title'] = movie['Title'].astype(int)\n",
    "list_of_all_titles = movie['Title'].tolist()\n",
    "print(list_of_all_titles)"
   ]
  },
  {
   "cell_type": "code",
   "execution_count": null,
   "id": "cf160f08-c57c-4396-976d-cd2e9b11cfb9",
   "metadata": {},
   "outputs": [],
   "source": [
    "# finding the close match for the movie name given by the user\n",
    "find_close_match = difflib.get_close_matches(movie_title, list_of_all_titles)\n",
    "print(find_close_match)\n",
    "close_match = find_close_match[0]\n",
    "print(close_match)"
   ]
  },
  {
   "cell_type": "code",
   "execution_count": null,
   "id": "b04de45d-dde2-492e-9f7d-4fa8ac6183e2",
   "metadata": {},
   "outputs": [],
   "source": [
    "# finding the index of the movie with title\n",
    "index_of_the_movie = movie[movie.Title == close_match]['Rank'].values[0]\n",
    "print(index_of_the_movie)"
   ]
  },
  {
   "cell_type": "code",
   "execution_count": null,
   "id": "7218a01b-26ab-42d7-967e-5b0f01eed7ae",
   "metadata": {},
   "outputs": [],
   "source": [
    "# getting a list of similar movies\n",
    "similarity_score = list(enumerate(similarity[index_of_the_movie]))\n",
    "print(similarity_score)"
   ]
  },
  {
   "cell_type": "code",
   "execution_count": null,
   "id": "7546929b-4485-4926-807f-d2cb3c132280",
   "metadata": {},
   "outputs": [],
   "source": [
    "# sorting the movies based on their similarity score\n",
    "sorted_similar_movies = sorted(similarity_score, key = lambda x:x[1], reverse = True) \n",
    "print(sorted_similar_movies)"
   ]
  },
  {
   "cell_type": "markdown",
   "id": "20151d85-8d20-47e1-b688-c73bf85f4d2c",
   "metadata": {},
   "source": [
    "# print the name of similar movies based on the index\n"
   ]
  },
  {
   "cell_type": "code",
   "execution_count": null,
   "id": "3ce1bca0-cab7-42bf-9a57-31fdc63f096b",
   "metadata": {},
   "outputs": [],
   "source": [
    "print('Movies suggested for you:\\n')\n",
    "i = 1\n",
    "for movies in sorted_similar_movies:\n",
    "    index = movies[0]\n",
    "    title_from_index = movie.loc[index, 'Title']  \n",
    "    print(f\"{i}. {title_from_index}\")\n",
    "    i += 1\n",
    "    if i >= 10:\n",
    "        break \n"
   ]
  },
  {
   "cell_type": "code",
   "execution_count": null,
   "id": "a5fc30e5-792f-4052-9389-b014e9397997",
   "metadata": {},
   "outputs": [],
   "source": []
  },
  {
   "cell_type": "markdown",
   "id": "fb45a74e-d1a2-4212-b289-11ddd825b66a",
   "metadata": {},
   "source": [
    "# Movie recommendation system "
   ]
  },
  {
   "cell_type": "code",
   "execution_count": null,
   "id": "6838344a-5ffb-4314-92e3-1f3cc0131943",
   "metadata": {},
   "outputs": [],
   "source": [
    "movie_title = input(\"Please Input a title of movie: \")\n",
    "list_of_all_titles = movie['Title'].tolist()\n",
    "find_close_match = difflib.get_close_matches(movie_title, list_of_all_titles)\n",
    "close_match = find_close_match[0]\n",
    "index_of_the_movie = movie[movie.Title == close_match]['Rank'].values[0]\n",
    "similarity_score = list(enumerate(similarity[index_of_the_movie]))\n",
    "sorted_similar_movies = sorted(similarity_score, key = lambda x:x[1], reverse = True)\n",
    "\n",
    "print('Movies suggested for you:\\n')\n",
    "\n",
    "i = 1\n",
    "for movies in sorted_similar_movies:\n",
    "    index = movies[0]\n",
    "    title_from_index = movie.loc[index, 'Title']\n",
    "    \n",
    "    print(f\"{i}. {title_from_index}\")\n",
    "\n",
    "    i += 1\n",
    "    if i > 10:\n",
    "        break "
   ]
  },
  {
   "cell_type": "code",
   "execution_count": null,
   "id": "04507b96-07e2-45b1-8615-611ff6395a9e",
   "metadata": {},
   "outputs": [],
   "source": []
  }
 ],
 "metadata": {
  "kernelspec": {
   "display_name": "base",
   "language": "python",
   "name": "python3"
  },
  "language_info": {
   "codemirror_mode": {
    "name": "ipython",
    "version": 3
   },
   "file_extension": ".py",
   "mimetype": "text/x-python",
   "name": "python",
   "nbconvert_exporter": "python",
   "pygments_lexer": "ipython3",
   "version": "3.11.5"
  }
 },
 "nbformat": 4,
 "nbformat_minor": 5
}
