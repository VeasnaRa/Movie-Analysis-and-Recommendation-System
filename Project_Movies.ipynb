{
 "cells": [
  {
   "cell_type": "code",
   "execution_count": 1,
   "id": "a854ec2e-d08b-4a07-8184-2bb08ee8c738",
   "metadata": {},
   "outputs": [],
   "source": [
    "import pandas as pd\n",
    "import seaborn as sns\n",
    "import matplotlib.pyplot as plt\n",
    "from scipy.stats import skew\n",
    "import numpy as np"
   ]
  },
  {
   "cell_type": "markdown",
   "id": "1ee3ab4d-7245-450d-b4bb-b8d2f109a38d",
   "metadata": {},
   "source": [
    "# Load and check the"
   ]
  },
  {
   "cell_type": "code",
   "execution_count": 2,
   "id": "98421bbb-8512-49e5-98a0-ba75d109768f",
   "metadata": {},
   "outputs": [
    {
     "data": {
      "text/html": [
       "<div>\n",
       "<style scoped>\n",
       "    .dataframe tbody tr th:only-of-type {\n",
       "        vertical-align: middle;\n",
       "    }\n",
       "\n",
       "    .dataframe tbody tr th {\n",
       "        vertical-align: top;\n",
       "    }\n",
       "\n",
       "    .dataframe thead th {\n",
       "        text-align: right;\n",
       "    }\n",
       "</style>\n",
       "<table border=\"1\" class=\"dataframe\">\n",
       "  <thead>\n",
       "    <tr style=\"text-align: right;\">\n",
       "      <th></th>\n",
       "      <th>Rank</th>\n",
       "      <th>Title</th>\n",
       "      <th>Genre</th>\n",
       "      <th>Description</th>\n",
       "      <th>Director</th>\n",
       "      <th>Actors</th>\n",
       "      <th>Year</th>\n",
       "      <th>Runtime (Minutes)</th>\n",
       "      <th>Rating</th>\n",
       "      <th>Votes</th>\n",
       "      <th>Revenue (Millions)</th>\n",
       "      <th>Metascore</th>\n",
       "    </tr>\n",
       "  </thead>\n",
       "  <tbody>\n",
       "    <tr>\n",
       "      <th>0</th>\n",
       "      <td>1</td>\n",
       "      <td>Guardians of the Galaxy</td>\n",
       "      <td>Action,Adventure,Sci-Fi</td>\n",
       "      <td>A group of intergalactic criminals are forced ...</td>\n",
       "      <td>James Gunn</td>\n",
       "      <td>Chris Pratt, Vin Diesel, Bradley Cooper, Zoe S...</td>\n",
       "      <td>2014</td>\n",
       "      <td>121</td>\n",
       "      <td>8.1</td>\n",
       "      <td>757074</td>\n",
       "      <td>333.13</td>\n",
       "      <td>76.0</td>\n",
       "    </tr>\n",
       "    <tr>\n",
       "      <th>1</th>\n",
       "      <td>2</td>\n",
       "      <td>Prometheus</td>\n",
       "      <td>Adventure,Mystery,Sci-Fi</td>\n",
       "      <td>Following clues to the origin of mankind, a te...</td>\n",
       "      <td>Ridley Scott</td>\n",
       "      <td>Noomi Rapace, Logan Marshall-Green, Michael Fa...</td>\n",
       "      <td>2012</td>\n",
       "      <td>124</td>\n",
       "      <td>7.0</td>\n",
       "      <td>485820</td>\n",
       "      <td>126.46</td>\n",
       "      <td>65.0</td>\n",
       "    </tr>\n",
       "    <tr>\n",
       "      <th>2</th>\n",
       "      <td>3</td>\n",
       "      <td>Split</td>\n",
       "      <td>Horror,Thriller</td>\n",
       "      <td>Three girls are kidnapped by a man with a diag...</td>\n",
       "      <td>M. Night Shyamalan</td>\n",
       "      <td>James McAvoy, Anya Taylor-Joy, Haley Lu Richar...</td>\n",
       "      <td>2016</td>\n",
       "      <td>117</td>\n",
       "      <td>7.3</td>\n",
       "      <td>157606</td>\n",
       "      <td>138.12</td>\n",
       "      <td>62.0</td>\n",
       "    </tr>\n",
       "    <tr>\n",
       "      <th>3</th>\n",
       "      <td>4</td>\n",
       "      <td>Sing</td>\n",
       "      <td>Animation,Comedy,Family</td>\n",
       "      <td>In a city of humanoid animals, a hustling thea...</td>\n",
       "      <td>Christophe Lourdelet</td>\n",
       "      <td>Matthew McConaughey,Reese Witherspoon, Seth Ma...</td>\n",
       "      <td>2016</td>\n",
       "      <td>108</td>\n",
       "      <td>7.2</td>\n",
       "      <td>60545</td>\n",
       "      <td>270.32</td>\n",
       "      <td>59.0</td>\n",
       "    </tr>\n",
       "    <tr>\n",
       "      <th>4</th>\n",
       "      <td>5</td>\n",
       "      <td>Suicide Squad</td>\n",
       "      <td>Action,Adventure,Fantasy</td>\n",
       "      <td>A secret government agency recruits some of th...</td>\n",
       "      <td>David Ayer</td>\n",
       "      <td>Will Smith, Jared Leto, Margot Robbie, Viola D...</td>\n",
       "      <td>2016</td>\n",
       "      <td>123</td>\n",
       "      <td>6.2</td>\n",
       "      <td>393727</td>\n",
       "      <td>325.02</td>\n",
       "      <td>40.0</td>\n",
       "    </tr>\n",
       "    <tr>\n",
       "      <th>...</th>\n",
       "      <td>...</td>\n",
       "      <td>...</td>\n",
       "      <td>...</td>\n",
       "      <td>...</td>\n",
       "      <td>...</td>\n",
       "      <td>...</td>\n",
       "      <td>...</td>\n",
       "      <td>...</td>\n",
       "      <td>...</td>\n",
       "      <td>...</td>\n",
       "      <td>...</td>\n",
       "      <td>...</td>\n",
       "    </tr>\n",
       "    <tr>\n",
       "      <th>995</th>\n",
       "      <td>996</td>\n",
       "      <td>Secret in Their Eyes</td>\n",
       "      <td>Crime,Drama,Mystery</td>\n",
       "      <td>A tight-knit team of rising investigators, alo...</td>\n",
       "      <td>Billy Ray</td>\n",
       "      <td>Chiwetel Ejiofor, Nicole Kidman, Julia Roberts...</td>\n",
       "      <td>2015</td>\n",
       "      <td>111</td>\n",
       "      <td>6.2</td>\n",
       "      <td>27585</td>\n",
       "      <td>NaN</td>\n",
       "      <td>45.0</td>\n",
       "    </tr>\n",
       "    <tr>\n",
       "      <th>996</th>\n",
       "      <td>997</td>\n",
       "      <td>Hostel: Part II</td>\n",
       "      <td>Horror</td>\n",
       "      <td>Three American college students studying abroa...</td>\n",
       "      <td>Eli Roth</td>\n",
       "      <td>Lauren German, Heather Matarazzo, Bijou Philli...</td>\n",
       "      <td>2007</td>\n",
       "      <td>94</td>\n",
       "      <td>5.5</td>\n",
       "      <td>73152</td>\n",
       "      <td>17.54</td>\n",
       "      <td>46.0</td>\n",
       "    </tr>\n",
       "    <tr>\n",
       "      <th>997</th>\n",
       "      <td>998</td>\n",
       "      <td>Step Up 2: The Streets</td>\n",
       "      <td>Drama,Music,Romance</td>\n",
       "      <td>Romantic sparks occur between two dance studen...</td>\n",
       "      <td>Jon M. Chu</td>\n",
       "      <td>Robert Hoffman, Briana Evigan, Cassie Ventura,...</td>\n",
       "      <td>2008</td>\n",
       "      <td>98</td>\n",
       "      <td>6.2</td>\n",
       "      <td>70699</td>\n",
       "      <td>58.01</td>\n",
       "      <td>50.0</td>\n",
       "    </tr>\n",
       "    <tr>\n",
       "      <th>998</th>\n",
       "      <td>999</td>\n",
       "      <td>Search Party</td>\n",
       "      <td>Adventure,Comedy</td>\n",
       "      <td>A pair of friends embark on a mission to reuni...</td>\n",
       "      <td>Scot Armstrong</td>\n",
       "      <td>Adam Pally, T.J. Miller, Thomas Middleditch,Sh...</td>\n",
       "      <td>2014</td>\n",
       "      <td>93</td>\n",
       "      <td>5.6</td>\n",
       "      <td>4881</td>\n",
       "      <td>NaN</td>\n",
       "      <td>22.0</td>\n",
       "    </tr>\n",
       "    <tr>\n",
       "      <th>999</th>\n",
       "      <td>1000</td>\n",
       "      <td>Nine Lives</td>\n",
       "      <td>Comedy,Family,Fantasy</td>\n",
       "      <td>A stuffy businessman finds himself trapped ins...</td>\n",
       "      <td>Barry Sonnenfeld</td>\n",
       "      <td>Kevin Spacey, Jennifer Garner, Robbie Amell,Ch...</td>\n",
       "      <td>2016</td>\n",
       "      <td>87</td>\n",
       "      <td>5.3</td>\n",
       "      <td>12435</td>\n",
       "      <td>19.64</td>\n",
       "      <td>11.0</td>\n",
       "    </tr>\n",
       "  </tbody>\n",
       "</table>\n",
       "<p>1000 rows × 12 columns</p>\n",
       "</div>"
      ],
      "text/plain": [
       "     Rank                    Title                     Genre  \\\n",
       "0       1  Guardians of the Galaxy   Action,Adventure,Sci-Fi   \n",
       "1       2               Prometheus  Adventure,Mystery,Sci-Fi   \n",
       "2       3                    Split           Horror,Thriller   \n",
       "3       4                     Sing   Animation,Comedy,Family   \n",
       "4       5            Suicide Squad  Action,Adventure,Fantasy   \n",
       "..    ...                      ...                       ...   \n",
       "995   996     Secret in Their Eyes       Crime,Drama,Mystery   \n",
       "996   997          Hostel: Part II                    Horror   \n",
       "997   998   Step Up 2: The Streets       Drama,Music,Romance   \n",
       "998   999             Search Party          Adventure,Comedy   \n",
       "999  1000               Nine Lives     Comedy,Family,Fantasy   \n",
       "\n",
       "                                           Description              Director  \\\n",
       "0    A group of intergalactic criminals are forced ...            James Gunn   \n",
       "1    Following clues to the origin of mankind, a te...          Ridley Scott   \n",
       "2    Three girls are kidnapped by a man with a diag...    M. Night Shyamalan   \n",
       "3    In a city of humanoid animals, a hustling thea...  Christophe Lourdelet   \n",
       "4    A secret government agency recruits some of th...            David Ayer   \n",
       "..                                                 ...                   ...   \n",
       "995  A tight-knit team of rising investigators, alo...             Billy Ray   \n",
       "996  Three American college students studying abroa...              Eli Roth   \n",
       "997  Romantic sparks occur between two dance studen...            Jon M. Chu   \n",
       "998  A pair of friends embark on a mission to reuni...        Scot Armstrong   \n",
       "999  A stuffy businessman finds himself trapped ins...      Barry Sonnenfeld   \n",
       "\n",
       "                                                Actors  Year  \\\n",
       "0    Chris Pratt, Vin Diesel, Bradley Cooper, Zoe S...  2014   \n",
       "1    Noomi Rapace, Logan Marshall-Green, Michael Fa...  2012   \n",
       "2    James McAvoy, Anya Taylor-Joy, Haley Lu Richar...  2016   \n",
       "3    Matthew McConaughey,Reese Witherspoon, Seth Ma...  2016   \n",
       "4    Will Smith, Jared Leto, Margot Robbie, Viola D...  2016   \n",
       "..                                                 ...   ...   \n",
       "995  Chiwetel Ejiofor, Nicole Kidman, Julia Roberts...  2015   \n",
       "996  Lauren German, Heather Matarazzo, Bijou Philli...  2007   \n",
       "997  Robert Hoffman, Briana Evigan, Cassie Ventura,...  2008   \n",
       "998  Adam Pally, T.J. Miller, Thomas Middleditch,Sh...  2014   \n",
       "999  Kevin Spacey, Jennifer Garner, Robbie Amell,Ch...  2016   \n",
       "\n",
       "     Runtime (Minutes)  Rating   Votes  Revenue (Millions)  Metascore  \n",
       "0                  121     8.1  757074              333.13       76.0  \n",
       "1                  124     7.0  485820              126.46       65.0  \n",
       "2                  117     7.3  157606              138.12       62.0  \n",
       "3                  108     7.2   60545              270.32       59.0  \n",
       "4                  123     6.2  393727              325.02       40.0  \n",
       "..                 ...     ...     ...                 ...        ...  \n",
       "995                111     6.2   27585                 NaN       45.0  \n",
       "996                 94     5.5   73152               17.54       46.0  \n",
       "997                 98     6.2   70699               58.01       50.0  \n",
       "998                 93     5.6    4881                 NaN       22.0  \n",
       "999                 87     5.3   12435               19.64       11.0  \n",
       "\n",
       "[1000 rows x 12 columns]"
      ]
     },
     "execution_count": 2,
     "metadata": {},
     "output_type": "execute_result"
    }
   ],
   "source": [
    "movie = pd.read_csv(\"IMDB-Movie-Data.csv\")\n",
    "movie"
   ]
  },
  {
   "cell_type": "code",
   "execution_count": 3,
   "id": "ff169e1a-7910-4042-a7e3-1aebd02424b6",
   "metadata": {},
   "outputs": [
    {
     "data": {
      "text/html": [
       "<div>\n",
       "<style scoped>\n",
       "    .dataframe tbody tr th:only-of-type {\n",
       "        vertical-align: middle;\n",
       "    }\n",
       "\n",
       "    .dataframe tbody tr th {\n",
       "        vertical-align: top;\n",
       "    }\n",
       "\n",
       "    .dataframe thead th {\n",
       "        text-align: right;\n",
       "    }\n",
       "</style>\n",
       "<table border=\"1\" class=\"dataframe\">\n",
       "  <thead>\n",
       "    <tr style=\"text-align: right;\">\n",
       "      <th></th>\n",
       "      <th>Rank</th>\n",
       "      <th>Title</th>\n",
       "      <th>Genre</th>\n",
       "      <th>Description</th>\n",
       "      <th>Director</th>\n",
       "      <th>Actors</th>\n",
       "      <th>Year</th>\n",
       "      <th>Runtime (Minutes)</th>\n",
       "      <th>Rating</th>\n",
       "      <th>Votes</th>\n",
       "      <th>Revenue (Millions)</th>\n",
       "      <th>Metascore</th>\n",
       "    </tr>\n",
       "  </thead>\n",
       "  <tbody>\n",
       "    <tr>\n",
       "      <th>0</th>\n",
       "      <td>1</td>\n",
       "      <td>Guardians of the Galaxy</td>\n",
       "      <td>Action,Adventure,Sci-Fi</td>\n",
       "      <td>A group of intergalactic criminals are forced ...</td>\n",
       "      <td>James Gunn</td>\n",
       "      <td>Chris Pratt, Vin Diesel, Bradley Cooper, Zoe S...</td>\n",
       "      <td>2014</td>\n",
       "      <td>121</td>\n",
       "      <td>8.1</td>\n",
       "      <td>757074</td>\n",
       "      <td>333.13</td>\n",
       "      <td>76.0</td>\n",
       "    </tr>\n",
       "    <tr>\n",
       "      <th>1</th>\n",
       "      <td>2</td>\n",
       "      <td>Prometheus</td>\n",
       "      <td>Adventure,Mystery,Sci-Fi</td>\n",
       "      <td>Following clues to the origin of mankind, a te...</td>\n",
       "      <td>Ridley Scott</td>\n",
       "      <td>Noomi Rapace, Logan Marshall-Green, Michael Fa...</td>\n",
       "      <td>2012</td>\n",
       "      <td>124</td>\n",
       "      <td>7.0</td>\n",
       "      <td>485820</td>\n",
       "      <td>126.46</td>\n",
       "      <td>65.0</td>\n",
       "    </tr>\n",
       "    <tr>\n",
       "      <th>2</th>\n",
       "      <td>3</td>\n",
       "      <td>Split</td>\n",
       "      <td>Horror,Thriller</td>\n",
       "      <td>Three girls are kidnapped by a man with a diag...</td>\n",
       "      <td>M. Night Shyamalan</td>\n",
       "      <td>James McAvoy, Anya Taylor-Joy, Haley Lu Richar...</td>\n",
       "      <td>2016</td>\n",
       "      <td>117</td>\n",
       "      <td>7.3</td>\n",
       "      <td>157606</td>\n",
       "      <td>138.12</td>\n",
       "      <td>62.0</td>\n",
       "    </tr>\n",
       "    <tr>\n",
       "      <th>3</th>\n",
       "      <td>4</td>\n",
       "      <td>Sing</td>\n",
       "      <td>Animation,Comedy,Family</td>\n",
       "      <td>In a city of humanoid animals, a hustling thea...</td>\n",
       "      <td>Christophe Lourdelet</td>\n",
       "      <td>Matthew McConaughey,Reese Witherspoon, Seth Ma...</td>\n",
       "      <td>2016</td>\n",
       "      <td>108</td>\n",
       "      <td>7.2</td>\n",
       "      <td>60545</td>\n",
       "      <td>270.32</td>\n",
       "      <td>59.0</td>\n",
       "    </tr>\n",
       "    <tr>\n",
       "      <th>4</th>\n",
       "      <td>5</td>\n",
       "      <td>Suicide Squad</td>\n",
       "      <td>Action,Adventure,Fantasy</td>\n",
       "      <td>A secret government agency recruits some of th...</td>\n",
       "      <td>David Ayer</td>\n",
       "      <td>Will Smith, Jared Leto, Margot Robbie, Viola D...</td>\n",
       "      <td>2016</td>\n",
       "      <td>123</td>\n",
       "      <td>6.2</td>\n",
       "      <td>393727</td>\n",
       "      <td>325.02</td>\n",
       "      <td>40.0</td>\n",
       "    </tr>\n",
       "    <tr>\n",
       "      <th>5</th>\n",
       "      <td>6</td>\n",
       "      <td>The Great Wall</td>\n",
       "      <td>Action,Adventure,Fantasy</td>\n",
       "      <td>European mercenaries searching for black powde...</td>\n",
       "      <td>Yimou Zhang</td>\n",
       "      <td>Matt Damon, Tian Jing, Willem Dafoe, Andy Lau</td>\n",
       "      <td>2016</td>\n",
       "      <td>103</td>\n",
       "      <td>6.1</td>\n",
       "      <td>56036</td>\n",
       "      <td>45.13</td>\n",
       "      <td>42.0</td>\n",
       "    </tr>\n",
       "    <tr>\n",
       "      <th>6</th>\n",
       "      <td>7</td>\n",
       "      <td>La La Land</td>\n",
       "      <td>Comedy,Drama,Music</td>\n",
       "      <td>A jazz pianist falls for an aspiring actress i...</td>\n",
       "      <td>Damien Chazelle</td>\n",
       "      <td>Ryan Gosling, Emma Stone, Rosemarie DeWitt, J....</td>\n",
       "      <td>2016</td>\n",
       "      <td>128</td>\n",
       "      <td>8.3</td>\n",
       "      <td>258682</td>\n",
       "      <td>151.06</td>\n",
       "      <td>93.0</td>\n",
       "    </tr>\n",
       "    <tr>\n",
       "      <th>7</th>\n",
       "      <td>8</td>\n",
       "      <td>Mindhorn</td>\n",
       "      <td>Comedy</td>\n",
       "      <td>A has-been actor best known for playing the ti...</td>\n",
       "      <td>Sean Foley</td>\n",
       "      <td>Essie Davis, Andrea Riseborough, Julian Barrat...</td>\n",
       "      <td>2016</td>\n",
       "      <td>89</td>\n",
       "      <td>6.4</td>\n",
       "      <td>2490</td>\n",
       "      <td>NaN</td>\n",
       "      <td>71.0</td>\n",
       "    </tr>\n",
       "    <tr>\n",
       "      <th>8</th>\n",
       "      <td>9</td>\n",
       "      <td>The Lost City of Z</td>\n",
       "      <td>Action,Adventure,Biography</td>\n",
       "      <td>A true-life drama, centering on British explor...</td>\n",
       "      <td>James Gray</td>\n",
       "      <td>Charlie Hunnam, Robert Pattinson, Sienna Mille...</td>\n",
       "      <td>2016</td>\n",
       "      <td>141</td>\n",
       "      <td>7.1</td>\n",
       "      <td>7188</td>\n",
       "      <td>8.01</td>\n",
       "      <td>78.0</td>\n",
       "    </tr>\n",
       "    <tr>\n",
       "      <th>9</th>\n",
       "      <td>10</td>\n",
       "      <td>Passengers</td>\n",
       "      <td>Adventure,Drama,Romance</td>\n",
       "      <td>A spacecraft traveling to a distant colony pla...</td>\n",
       "      <td>Morten Tyldum</td>\n",
       "      <td>Jennifer Lawrence, Chris Pratt, Michael Sheen,...</td>\n",
       "      <td>2016</td>\n",
       "      <td>116</td>\n",
       "      <td>7.0</td>\n",
       "      <td>192177</td>\n",
       "      <td>100.01</td>\n",
       "      <td>41.0</td>\n",
       "    </tr>\n",
       "  </tbody>\n",
       "</table>\n",
       "</div>"
      ],
      "text/plain": [
       "   Rank                    Title                       Genre  \\\n",
       "0     1  Guardians of the Galaxy     Action,Adventure,Sci-Fi   \n",
       "1     2               Prometheus    Adventure,Mystery,Sci-Fi   \n",
       "2     3                    Split             Horror,Thriller   \n",
       "3     4                     Sing     Animation,Comedy,Family   \n",
       "4     5            Suicide Squad    Action,Adventure,Fantasy   \n",
       "5     6           The Great Wall    Action,Adventure,Fantasy   \n",
       "6     7               La La Land          Comedy,Drama,Music   \n",
       "7     8                 Mindhorn                      Comedy   \n",
       "8     9       The Lost City of Z  Action,Adventure,Biography   \n",
       "9    10               Passengers     Adventure,Drama,Romance   \n",
       "\n",
       "                                         Description              Director  \\\n",
       "0  A group of intergalactic criminals are forced ...            James Gunn   \n",
       "1  Following clues to the origin of mankind, a te...          Ridley Scott   \n",
       "2  Three girls are kidnapped by a man with a diag...    M. Night Shyamalan   \n",
       "3  In a city of humanoid animals, a hustling thea...  Christophe Lourdelet   \n",
       "4  A secret government agency recruits some of th...            David Ayer   \n",
       "5  European mercenaries searching for black powde...           Yimou Zhang   \n",
       "6  A jazz pianist falls for an aspiring actress i...       Damien Chazelle   \n",
       "7  A has-been actor best known for playing the ti...            Sean Foley   \n",
       "8  A true-life drama, centering on British explor...            James Gray   \n",
       "9  A spacecraft traveling to a distant colony pla...         Morten Tyldum   \n",
       "\n",
       "                                              Actors  Year  Runtime (Minutes)  \\\n",
       "0  Chris Pratt, Vin Diesel, Bradley Cooper, Zoe S...  2014                121   \n",
       "1  Noomi Rapace, Logan Marshall-Green, Michael Fa...  2012                124   \n",
       "2  James McAvoy, Anya Taylor-Joy, Haley Lu Richar...  2016                117   \n",
       "3  Matthew McConaughey,Reese Witherspoon, Seth Ma...  2016                108   \n",
       "4  Will Smith, Jared Leto, Margot Robbie, Viola D...  2016                123   \n",
       "5      Matt Damon, Tian Jing, Willem Dafoe, Andy Lau  2016                103   \n",
       "6  Ryan Gosling, Emma Stone, Rosemarie DeWitt, J....  2016                128   \n",
       "7  Essie Davis, Andrea Riseborough, Julian Barrat...  2016                 89   \n",
       "8  Charlie Hunnam, Robert Pattinson, Sienna Mille...  2016                141   \n",
       "9  Jennifer Lawrence, Chris Pratt, Michael Sheen,...  2016                116   \n",
       "\n",
       "   Rating   Votes  Revenue (Millions)  Metascore  \n",
       "0     8.1  757074              333.13       76.0  \n",
       "1     7.0  485820              126.46       65.0  \n",
       "2     7.3  157606              138.12       62.0  \n",
       "3     7.2   60545              270.32       59.0  \n",
       "4     6.2  393727              325.02       40.0  \n",
       "5     6.1   56036               45.13       42.0  \n",
       "6     8.3  258682              151.06       93.0  \n",
       "7     6.4    2490                 NaN       71.0  \n",
       "8     7.1    7188                8.01       78.0  \n",
       "9     7.0  192177              100.01       41.0  "
      ]
     },
     "execution_count": 3,
     "metadata": {},
     "output_type": "execute_result"
    }
   ],
   "source": [
    "movie.head(10)"
   ]
  },
  {
   "cell_type": "code",
   "execution_count": 4,
   "id": "91602eaf-7893-45ec-accc-c6931198b7a2",
   "metadata": {},
   "outputs": [
    {
     "data": {
      "text/plain": [
       "(1000, 12)"
      ]
     },
     "execution_count": 4,
     "metadata": {},
     "output_type": "execute_result"
    }
   ],
   "source": [
    "movie.shape"
   ]
  },
  {
   "cell_type": "code",
   "execution_count": 5,
   "id": "018b43cd-12a1-459c-b52e-87cce0f9a020",
   "metadata": {},
   "outputs": [
    {
     "name": "stdout",
     "output_type": "stream",
     "text": [
      "<class 'pandas.core.frame.DataFrame'>\n",
      "RangeIndex: 1000 entries, 0 to 999\n",
      "Data columns (total 12 columns):\n",
      " #   Column              Non-Null Count  Dtype  \n",
      "---  ------              --------------  -----  \n",
      " 0   Rank                1000 non-null   int64  \n",
      " 1   Title               1000 non-null   object \n",
      " 2   Genre               1000 non-null   object \n",
      " 3   Description         1000 non-null   object \n",
      " 4   Director            1000 non-null   object \n",
      " 5   Actors              1000 non-null   object \n",
      " 6   Year                1000 non-null   int64  \n",
      " 7   Runtime (Minutes)   1000 non-null   int64  \n",
      " 8   Rating              1000 non-null   float64\n",
      " 9   Votes               1000 non-null   int64  \n",
      " 10  Revenue (Millions)  872 non-null    float64\n",
      " 11  Metascore           936 non-null    float64\n",
      "dtypes: float64(3), int64(4), object(5)\n",
      "memory usage: 93.9+ KB\n"
     ]
    }
   ],
   "source": [
    "movie.info()"
   ]
  },
  {
   "cell_type": "markdown",
   "id": "d81e708f-fe02-4d89-989f-8f7a491d9f49",
   "metadata": {},
   "source": [
    "# 1. Check Missing value"
   ]
  },
  {
   "cell_type": "code",
   "execution_count": 6,
   "id": "772fcee6-078e-4ef3-97a8-94da59e5b098",
   "metadata": {},
   "outputs": [
    {
     "name": "stdout",
     "output_type": "stream",
     "text": [
      "Any missing value==>  True\n"
     ]
    }
   ],
   "source": [
    "print('Any missing value==> ',movie.isnull().values.any())"
   ]
  },
  {
   "cell_type": "code",
   "execution_count": 7,
   "id": "07ac9929-1a86-4bb6-95f2-36f5c59d6f3c",
   "metadata": {},
   "outputs": [
    {
     "data": {
      "text/plain": [
       "Rank                    0\n",
       "Title                   0\n",
       "Genre                   0\n",
       "Description             0\n",
       "Director                0\n",
       "Actors                  0\n",
       "Year                    0\n",
       "Runtime (Minutes)       0\n",
       "Rating                  0\n",
       "Votes                   0\n",
       "Revenue (Millions)    128\n",
       "Metascore              64\n",
       "dtype: int64"
      ]
     },
     "execution_count": 7,
     "metadata": {},
     "output_type": "execute_result"
    }
   ],
   "source": [
    "movie.isnull().sum()"
   ]
  },
  {
   "cell_type": "code",
   "execution_count": 8,
   "id": "04f238f5-9cde-439c-937f-5726325436dc",
   "metadata": {},
   "outputs": [
    {
     "data": {
      "text/plain": [
       "<Axes: >"
      ]
     },
     "execution_count": 8,
     "metadata": {},
     "output_type": "execute_result"
    },
    {
     "data": {
      "image/png": "[encoded data removed]",
      "text/plain": [
       "<Figure size 640x480 with 2 Axes>"
      ]
     },
     "metadata": {},
     "output_type": "display_data"
    }
   ],
   "source": [
    "sns.heatmap(movie.isnull())"
   ]
  },
  {
   "cell_type": "code",
   "execution_count": 9,
   "id": "ebb64ad9-86d1-46c5-83a6-6bfabe36a853",
   "metadata": {},
   "outputs": [
    {
     "data": {
      "text/plain": [
       "Rank                   0.0\n",
       "Title                  0.0\n",
       "Genre                  0.0\n",
       "Description            0.0\n",
       "Director               0.0\n",
       "Actors                 0.0\n",
       "Year                   0.0\n",
       "Runtime (Minutes)      0.0\n",
       "Rating                 0.0\n",
       "Votes                  0.0\n",
       "Revenue (Millions)    12.8\n",
       "Metascore              6.4\n",
       "dtype: float64"
      ]
     },
     "execution_count": 9,
     "metadata": {},
     "output_type": "execute_result"
    }
   ],
   "source": [
    "per_missing = movie.isnull().sum() * 100/ len(movie)\n",
    "per_missing"
   ]
  },
  {
   "cell_type": "markdown",
   "id": "ae2ae8d9-a2f2-4dce-833e-d91bacbd5ac5",
   "metadata": {},
   "source": [
    "# 2. Drop missing values"
   ]
  },
  {
   "cell_type": "code",
   "execution_count": 10,
   "id": "3d8a1bf5-5fd0-4e7c-bfd1-9d3cd7815092",
   "metadata": {
    "scrolled": true
   },
   "outputs": [
    {
     "data": {
      "text/html": [
       "<div>\n",
       "<style scoped>\n",
       "    .dataframe tbody tr th:only-of-type {\n",
       "        vertical-align: middle;\n",
       "    }\n",
       "\n",
       "    .dataframe tbody tr th {\n",
       "        vertical-align: top;\n",
       "    }\n",
       "\n",
       "    .dataframe thead th {\n",
       "        text-align: right;\n",
       "    }\n",
       "</style>\n",
       "<table border=\"1\" class=\"dataframe\">\n",
       "  <thead>\n",
       "    <tr style=\"text-align: right;\">\n",
       "      <th></th>\n",
       "      <th>Rank</th>\n",
       "      <th>Title</th>\n",
       "      <th>Genre</th>\n",
       "      <th>Description</th>\n",
       "      <th>Director</th>\n",
       "      <th>Actors</th>\n",
       "      <th>Year</th>\n",
       "      <th>Runtime (Minutes)</th>\n",
       "      <th>Rating</th>\n",
       "      <th>Votes</th>\n",
       "      <th>Revenue (Millions)</th>\n",
       "      <th>Metascore</th>\n",
       "    </tr>\n",
       "  </thead>\n",
       "  <tbody>\n",
       "    <tr>\n",
       "      <th>0</th>\n",
       "      <td>1</td>\n",
       "      <td>Guardians of the Galaxy</td>\n",
       "      <td>Action,Adventure,Sci-Fi</td>\n",
       "      <td>A group of intergalactic criminals are forced ...</td>\n",
       "      <td>James Gunn</td>\n",
       "      <td>Chris Pratt, Vin Diesel, Bradley Cooper, Zoe S...</td>\n",
       "      <td>2014</td>\n",
       "      <td>121</td>\n",
       "      <td>8.1</td>\n",
       "      <td>757074</td>\n",
       "      <td>333.13</td>\n",
       "      <td>76.0</td>\n",
       "    </tr>\n",
       "    <tr>\n",
       "      <th>1</th>\n",
       "      <td>2</td>\n",
       "      <td>Prometheus</td>\n",
       "      <td>Adventure,Mystery,Sci-Fi</td>\n",
       "      <td>Following clues to the origin of mankind, a te...</td>\n",
       "      <td>Ridley Scott</td>\n",
       "      <td>Noomi Rapace, Logan Marshall-Green, Michael Fa...</td>\n",
       "      <td>2012</td>\n",
       "      <td>124</td>\n",
       "      <td>7.0</td>\n",
       "      <td>485820</td>\n",
       "      <td>126.46</td>\n",
       "      <td>65.0</td>\n",
       "    </tr>\n",
       "    <tr>\n",
       "      <th>2</th>\n",
       "      <td>3</td>\n",
       "      <td>Split</td>\n",
       "      <td>Horror,Thriller</td>\n",
       "      <td>Three girls are kidnapped by a man with a diag...</td>\n",
       "      <td>M. Night Shyamalan</td>\n",
       "      <td>James McAvoy, Anya Taylor-Joy, Haley Lu Richar...</td>\n",
       "      <td>2016</td>\n",
       "      <td>117</td>\n",
       "      <td>7.3</td>\n",
       "      <td>157606</td>\n",
       "      <td>138.12</td>\n",
       "      <td>62.0</td>\n",
       "    </tr>\n",
       "    <tr>\n",
       "      <th>3</th>\n",
       "      <td>4</td>\n",
       "      <td>Sing</td>\n",
       "      <td>Animation,Comedy,Family</td>\n",
       "      <td>In a city of humanoid animals, a hustling thea...</td>\n",
       "      <td>Christophe Lourdelet</td>\n",
       "      <td>Matthew McConaughey,Reese Witherspoon, Seth Ma...</td>\n",
       "      <td>2016</td>\n",
       "      <td>108</td>\n",
       "      <td>7.2</td>\n",
       "      <td>60545</td>\n",
       "      <td>270.32</td>\n",
       "      <td>59.0</td>\n",
       "    </tr>\n",
       "    <tr>\n",
       "      <th>4</th>\n",
       "      <td>5</td>\n",
       "      <td>Suicide Squad</td>\n",
       "      <td>Action,Adventure,Fantasy</td>\n",
       "      <td>A secret government agency recruits some of th...</td>\n",
       "      <td>David Ayer</td>\n",
       "      <td>Will Smith, Jared Leto, Margot Robbie, Viola D...</td>\n",
       "      <td>2016</td>\n",
       "      <td>123</td>\n",
       "      <td>6.2</td>\n",
       "      <td>393727</td>\n",
       "      <td>325.02</td>\n",
       "      <td>40.0</td>\n",
       "    </tr>\n",
       "    <tr>\n",
       "      <th>...</th>\n",
       "      <td>...</td>\n",
       "      <td>...</td>\n",
       "      <td>...</td>\n",
       "      <td>...</td>\n",
       "      <td>...</td>\n",
       "      <td>...</td>\n",
       "      <td>...</td>\n",
       "      <td>...</td>\n",
       "      <td>...</td>\n",
       "      <td>...</td>\n",
       "      <td>...</td>\n",
       "      <td>...</td>\n",
       "    </tr>\n",
       "    <tr>\n",
       "      <th>995</th>\n",
       "      <td>996</td>\n",
       "      <td>Secret in Their Eyes</td>\n",
       "      <td>Crime,Drama,Mystery</td>\n",
       "      <td>A tight-knit team of rising investigators, alo...</td>\n",
       "      <td>Billy Ray</td>\n",
       "      <td>Chiwetel Ejiofor, Nicole Kidman, Julia Roberts...</td>\n",
       "      <td>2015</td>\n",
       "      <td>111</td>\n",
       "      <td>6.2</td>\n",
       "      <td>27585</td>\n",
       "      <td>NaN</td>\n",
       "      <td>45.0</td>\n",
       "    </tr>\n",
       "    <tr>\n",
       "      <th>996</th>\n",
       "      <td>997</td>\n",
       "      <td>Hostel: Part II</td>\n",
       "      <td>Horror</td>\n",
       "      <td>Three American college students studying abroa...</td>\n",
       "      <td>Eli Roth</td>\n",
       "      <td>Lauren German, Heather Matarazzo, Bijou Philli...</td>\n",
       "      <td>2007</td>\n",
       "      <td>94</td>\n",
       "      <td>5.5</td>\n",
       "      <td>73152</td>\n",
       "      <td>17.54</td>\n",
       "      <td>46.0</td>\n",
       "    </tr>\n",
       "    <tr>\n",
       "      <th>997</th>\n",
       "      <td>998</td>\n",
       "      <td>Step Up 2: The Streets</td>\n",
       "      <td>Drama,Music,Romance</td>\n",
       "      <td>Romantic sparks occur between two dance studen...</td>\n",
       "      <td>Jon M. Chu</td>\n",
       "      <td>Robert Hoffman, Briana Evigan, Cassie Ventura,...</td>\n",
       "      <td>2008</td>\n",
       "      <td>98</td>\n",
       "      <td>6.2</td>\n",
       "      <td>70699</td>\n",
       "      <td>58.01</td>\n",
       "      <td>50.0</td>\n",
       "    </tr>\n",
       "    <tr>\n",
       "      <th>998</th>\n",
       "      <td>999</td>\n",
       "      <td>Search Party</td>\n",
       "      <td>Adventure,Comedy</td>\n",
       "      <td>A pair of friends embark on a mission to reuni...</td>\n",
       "      <td>Scot Armstrong</td>\n",
       "      <td>Adam Pally, T.J. Miller, Thomas Middleditch,Sh...</td>\n",
       "      <td>2014</td>\n",
       "      <td>93</td>\n",
       "      <td>5.6</td>\n",
       "      <td>4881</td>\n",
       "      <td>NaN</td>\n",
       "      <td>22.0</td>\n",
       "    </tr>\n",
       "    <tr>\n",
       "      <th>999</th>\n",
       "      <td>1000</td>\n",
       "      <td>Nine Lives</td>\n",
       "      <td>Comedy,Family,Fantasy</td>\n",
       "      <td>A stuffy businessman finds himself trapped ins...</td>\n",
       "      <td>Barry Sonnenfeld</td>\n",
       "      <td>Kevin Spacey, Jennifer Garner, Robbie Amell,Ch...</td>\n",
       "      <td>2016</td>\n",
       "      <td>87</td>\n",
       "      <td>5.3</td>\n",
       "      <td>12435</td>\n",
       "      <td>19.64</td>\n",
       "      <td>11.0</td>\n",
       "    </tr>\n",
       "  </tbody>\n",
       "</table>\n",
       "<p>1000 rows × 12 columns</p>\n",
       "</div>"
      ],
      "text/plain": [
       "     Rank                    Title                     Genre  \\\n",
       "0       1  Guardians of the Galaxy   Action,Adventure,Sci-Fi   \n",
       "1       2               Prometheus  Adventure,Mystery,Sci-Fi   \n",
       "2       3                    Split           Horror,Thriller   \n",
       "3       4                     Sing   Animation,Comedy,Family   \n",
       "4       5            Suicide Squad  Action,Adventure,Fantasy   \n",
       "..    ...                      ...                       ...   \n",
       "995   996     Secret in Their Eyes       Crime,Drama,Mystery   \n",
       "996   997          Hostel: Part II                    Horror   \n",
       "997   998   Step Up 2: The Streets       Drama,Music,Romance   \n",
       "998   999             Search Party          Adventure,Comedy   \n",
       "999  1000               Nine Lives     Comedy,Family,Fantasy   \n",
       "\n",
       "                                           Description              Director  \\\n",
       "0    A group of intergalactic criminals are forced ...            James Gunn   \n",
       "1    Following clues to the origin of mankind, a te...          Ridley Scott   \n",
       "2    Three girls are kidnapped by a man with a diag...    M. Night Shyamalan   \n",
       "3    In a city of humanoid animals, a hustling thea...  Christophe Lourdelet   \n",
       "4    A secret government agency recruits some of th...            David Ayer   \n",
       "..                                                 ...                   ...   \n",
       "995  A tight-knit team of rising investigators, alo...             Billy Ray   \n",
       "996  Three American college students studying abroa...              Eli Roth   \n",
       "997  Romantic sparks occur between two dance studen...            Jon M. Chu   \n",
       "998  A pair of friends embark on a mission to reuni...        Scot Armstrong   \n",
       "999  A stuffy businessman finds himself trapped ins...      Barry Sonnenfeld   \n",
       "\n",
       "                                                Actors  Year  \\\n",
       "0    Chris Pratt, Vin Diesel, Bradley Cooper, Zoe S...  2014   \n",
       "1    Noomi Rapace, Logan Marshall-Green, Michael Fa...  2012   \n",
       "2    James McAvoy, Anya Taylor-Joy, Haley Lu Richar...  2016   \n",
       "3    Matthew McConaughey,Reese Witherspoon, Seth Ma...  2016   \n",
       "4    Will Smith, Jared Leto, Margot Robbie, Viola D...  2016   \n",
       "..                                                 ...   ...   \n",
       "995  Chiwetel Ejiofor, Nicole Kidman, Julia Roberts...  2015   \n",
       "996  Lauren German, Heather Matarazzo, Bijou Philli...  2007   \n",
       "997  Robert Hoffman, Briana Evigan, Cassie Ventura,...  2008   \n",
       "998  Adam Pally, T.J. Miller, Thomas Middleditch,Sh...  2014   \n",
       "999  Kevin Spacey, Jennifer Garner, Robbie Amell,Ch...  2016   \n",
       "\n",
       "     Runtime (Minutes)  Rating   Votes  Revenue (Millions)  Metascore  \n",
       "0                  121     8.1  757074              333.13       76.0  \n",
       "1                  124     7.0  485820              126.46       65.0  \n",
       "2                  117     7.3  157606              138.12       62.0  \n",
       "3                  108     7.2   60545              270.32       59.0  \n",
       "4                  123     6.2  393727              325.02       40.0  \n",
       "..                 ...     ...     ...                 ...        ...  \n",
       "995                111     6.2   27585                 NaN       45.0  \n",
       "996                 94     5.5   73152               17.54       46.0  \n",
       "997                 98     6.2   70699               58.01       50.0  \n",
       "998                 93     5.6    4881                 NaN       22.0  \n",
       "999                 87     5.3   12435               19.64       11.0  \n",
       "\n",
       "[1000 rows x 12 columns]"
      ]
     },
     "execution_count": 10,
     "metadata": {},
     "output_type": "execute_result"
    }
   ],
   "source": [
    "movie.dropna(axis=0)\n",
    "movie"
   ]
  },
  {
   "cell_type": "markdown",
   "id": "dbbb5352-695a-41f9-8a08-bbf2a573dc8c",
   "metadata": {},
   "source": [
    "# 3. Check for duplicate data"
   ]
  },
  {
   "cell_type": "code",
   "execution_count": 11,
   "id": "25f5c7e4-ddb7-4b06-bbe6-a1f8585e46a8",
   "metadata": {},
   "outputs": [
    {
     "name": "stdout",
     "output_type": "stream",
     "text": [
      "Are there any duplicate values? False\n"
     ]
    }
   ],
   "source": [
    "print('Are there any duplicate values?',movie.duplicated().any())"
   ]
  },
  {
   "cell_type": "code",
   "execution_count": 12,
   "id": "ddbc6144-e6a6-41eb-88b9-b4790671d925",
   "metadata": {},
   "outputs": [
    {
     "data": {
      "text/html": [
       "<div>\n",
       "<style scoped>\n",
       "    .dataframe tbody tr th:only-of-type {\n",
       "        vertical-align: middle;\n",
       "    }\n",
       "\n",
       "    .dataframe tbody tr th {\n",
       "        vertical-align: top;\n",
       "    }\n",
       "\n",
       "    .dataframe thead th {\n",
       "        text-align: right;\n",
       "    }\n",
       "</style>\n",
       "<table border=\"1\" class=\"dataframe\">\n",
       "  <thead>\n",
       "    <tr style=\"text-align: right;\">\n",
       "      <th></th>\n",
       "      <th>Rank</th>\n",
       "      <th>Title</th>\n",
       "      <th>Genre</th>\n",
       "      <th>Description</th>\n",
       "      <th>Director</th>\n",
       "      <th>Actors</th>\n",
       "      <th>Year</th>\n",
       "      <th>Runtime (Minutes)</th>\n",
       "      <th>Rating</th>\n",
       "      <th>Votes</th>\n",
       "      <th>Revenue (Millions)</th>\n",
       "      <th>Metascore</th>\n",
       "    </tr>\n",
       "  </thead>\n",
       "  <tbody>\n",
       "    <tr>\n",
       "      <th>0</th>\n",
       "      <td>1</td>\n",
       "      <td>Guardians of the Galaxy</td>\n",
       "      <td>Action,Adventure,Sci-Fi</td>\n",
       "      <td>A group of intergalactic criminals are forced ...</td>\n",
       "      <td>James Gunn</td>\n",
       "      <td>Chris Pratt, Vin Diesel, Bradley Cooper, Zoe S...</td>\n",
       "      <td>2014</td>\n",
       "      <td>121</td>\n",
       "      <td>8.1</td>\n",
       "      <td>757074</td>\n",
       "      <td>333.13</td>\n",
       "      <td>76.0</td>\n",
       "    </tr>\n",
       "    <tr>\n",
       "      <th>1</th>\n",
       "      <td>2</td>\n",
       "      <td>Prometheus</td>\n",
       "      <td>Adventure,Mystery,Sci-Fi</td>\n",
       "      <td>Following clues to the origin of mankind, a te...</td>\n",
       "      <td>Ridley Scott</td>\n",
       "      <td>Noomi Rapace, Logan Marshall-Green, Michael Fa...</td>\n",
       "      <td>2012</td>\n",
       "      <td>124</td>\n",
       "      <td>7.0</td>\n",
       "      <td>485820</td>\n",
       "      <td>126.46</td>\n",
       "      <td>65.0</td>\n",
       "    </tr>\n",
       "    <tr>\n",
       "      <th>2</th>\n",
       "      <td>3</td>\n",
       "      <td>Split</td>\n",
       "      <td>Horror,Thriller</td>\n",
       "      <td>Three girls are kidnapped by a man with a diag...</td>\n",
       "      <td>M. Night Shyamalan</td>\n",
       "      <td>James McAvoy, Anya Taylor-Joy, Haley Lu Richar...</td>\n",
       "      <td>2016</td>\n",
       "      <td>117</td>\n",
       "      <td>7.3</td>\n",
       "      <td>157606</td>\n",
       "      <td>138.12</td>\n",
       "      <td>62.0</td>\n",
       "    </tr>\n",
       "    <tr>\n",
       "      <th>3</th>\n",
       "      <td>4</td>\n",
       "      <td>Sing</td>\n",
       "      <td>Animation,Comedy,Family</td>\n",
       "      <td>In a city of humanoid animals, a hustling thea...</td>\n",
       "      <td>Christophe Lourdelet</td>\n",
       "      <td>Matthew McConaughey,Reese Witherspoon, Seth Ma...</td>\n",
       "      <td>2016</td>\n",
       "      <td>108</td>\n",
       "      <td>7.2</td>\n",
       "      <td>60545</td>\n",
       "      <td>270.32</td>\n",
       "      <td>59.0</td>\n",
       "    </tr>\n",
       "    <tr>\n",
       "      <th>4</th>\n",
       "      <td>5</td>\n",
       "      <td>Suicide Squad</td>\n",
       "      <td>Action,Adventure,Fantasy</td>\n",
       "      <td>A secret government agency recruits some of th...</td>\n",
       "      <td>David Ayer</td>\n",
       "      <td>Will Smith, Jared Leto, Margot Robbie, Viola D...</td>\n",
       "      <td>2016</td>\n",
       "      <td>123</td>\n",
       "      <td>6.2</td>\n",
       "      <td>393727</td>\n",
       "      <td>325.02</td>\n",
       "      <td>40.0</td>\n",
       "    </tr>\n",
       "    <tr>\n",
       "      <th>...</th>\n",
       "      <td>...</td>\n",
       "      <td>...</td>\n",
       "      <td>...</td>\n",
       "      <td>...</td>\n",
       "      <td>...</td>\n",
       "      <td>...</td>\n",
       "      <td>...</td>\n",
       "      <td>...</td>\n",
       "      <td>...</td>\n",
       "      <td>...</td>\n",
       "      <td>...</td>\n",
       "      <td>...</td>\n",
       "    </tr>\n",
       "    <tr>\n",
       "      <th>995</th>\n",
       "      <td>996</td>\n",
       "      <td>Secret in Their Eyes</td>\n",
       "      <td>Crime,Drama,Mystery</td>\n",
       "      <td>A tight-knit team of rising investigators, alo...</td>\n",
       "      <td>Billy Ray</td>\n",
       "      <td>Chiwetel Ejiofor, Nicole Kidman, Julia Roberts...</td>\n",
       "      <td>2015</td>\n",
       "      <td>111</td>\n",
       "      <td>6.2</td>\n",
       "      <td>27585</td>\n",
       "      <td>NaN</td>\n",
       "      <td>45.0</td>\n",
       "    </tr>\n",
       "    <tr>\n",
       "      <th>996</th>\n",
       "      <td>997</td>\n",
       "      <td>Hostel: Part II</td>\n",
       "      <td>Horror</td>\n",
       "      <td>Three American college students studying abroa...</td>\n",
       "      <td>Eli Roth</td>\n",
       "      <td>Lauren German, Heather Matarazzo, Bijou Philli...</td>\n",
       "      <td>2007</td>\n",
       "      <td>94</td>\n",
       "      <td>5.5</td>\n",
       "      <td>73152</td>\n",
       "      <td>17.54</td>\n",
       "      <td>46.0</td>\n",
       "    </tr>\n",
       "    <tr>\n",
       "      <th>997</th>\n",
       "      <td>998</td>\n",
       "      <td>Step Up 2: The Streets</td>\n",
       "      <td>Drama,Music,Romance</td>\n",
       "      <td>Romantic sparks occur between two dance studen...</td>\n",
       "      <td>Jon M. Chu</td>\n",
       "      <td>Robert Hoffman, Briana Evigan, Cassie Ventura,...</td>\n",
       "      <td>2008</td>\n",
       "      <td>98</td>\n",
       "      <td>6.2</td>\n",
       "      <td>70699</td>\n",
       "      <td>58.01</td>\n",
       "      <td>50.0</td>\n",
       "    </tr>\n",
       "    <tr>\n",
       "      <th>998</th>\n",
       "      <td>999</td>\n",
       "      <td>Search Party</td>\n",
       "      <td>Adventure,Comedy</td>\n",
       "      <td>A pair of friends embark on a mission to reuni...</td>\n",
       "      <td>Scot Armstrong</td>\n",
       "      <td>Adam Pally, T.J. Miller, Thomas Middleditch,Sh...</td>\n",
       "      <td>2014</td>\n",
       "      <td>93</td>\n",
       "      <td>5.6</td>\n",
       "      <td>4881</td>\n",
       "      <td>NaN</td>\n",
       "      <td>22.0</td>\n",
       "    </tr>\n",
       "    <tr>\n",
       "      <th>999</th>\n",
       "      <td>1000</td>\n",
       "      <td>Nine Lives</td>\n",
       "      <td>Comedy,Family,Fantasy</td>\n",
       "      <td>A stuffy businessman finds himself trapped ins...</td>\n",
       "      <td>Barry Sonnenfeld</td>\n",
       "      <td>Kevin Spacey, Jennifer Garner, Robbie Amell,Ch...</td>\n",
       "      <td>2016</td>\n",
       "      <td>87</td>\n",
       "      <td>5.3</td>\n",
       "      <td>12435</td>\n",
       "      <td>19.64</td>\n",
       "      <td>11.0</td>\n",
       "    </tr>\n",
       "  </tbody>\n",
       "</table>\n",
       "<p>1000 rows × 12 columns</p>\n",
       "</div>"
      ],
      "text/plain": [
       "     Rank                    Title                     Genre  \\\n",
       "0       1  Guardians of the Galaxy   Action,Adventure,Sci-Fi   \n",
       "1       2               Prometheus  Adventure,Mystery,Sci-Fi   \n",
       "2       3                    Split           Horror,Thriller   \n",
       "3       4                     Sing   Animation,Comedy,Family   \n",
       "4       5            Suicide Squad  Action,Adventure,Fantasy   \n",
       "..    ...                      ...                       ...   \n",
       "995   996     Secret in Their Eyes       Crime,Drama,Mystery   \n",
       "996   997          Hostel: Part II                    Horror   \n",
       "997   998   Step Up 2: The Streets       Drama,Music,Romance   \n",
       "998   999             Search Party          Adventure,Comedy   \n",
       "999  1000               Nine Lives     Comedy,Family,Fantasy   \n",
       "\n",
       "                                           Description              Director  \\\n",
       "0    A group of intergalactic criminals are forced ...            James Gunn   \n",
       "1    Following clues to the origin of mankind, a te...          Ridley Scott   \n",
       "2    Three girls are kidnapped by a man with a diag...    M. Night Shyamalan   \n",
       "3    In a city of humanoid animals, a hustling thea...  Christophe Lourdelet   \n",
       "4    A secret government agency recruits some of th...            David Ayer   \n",
       "..                                                 ...                   ...   \n",
       "995  A tight-knit team of rising investigators, alo...             Billy Ray   \n",
       "996  Three American college students studying abroa...              Eli Roth   \n",
       "997  Romantic sparks occur between two dance studen...            Jon M. Chu   \n",
       "998  A pair of friends embark on a mission to reuni...        Scot Armstrong   \n",
       "999  A stuffy businessman finds himself trapped ins...      Barry Sonnenfeld   \n",
       "\n",
       "                                                Actors  Year  \\\n",
       "0    Chris Pratt, Vin Diesel, Bradley Cooper, Zoe S...  2014   \n",
       "1    Noomi Rapace, Logan Marshall-Green, Michael Fa...  2012   \n",
       "2    James McAvoy, Anya Taylor-Joy, Haley Lu Richar...  2016   \n",
       "3    Matthew McConaughey,Reese Witherspoon, Seth Ma...  2016   \n",
       "4    Will Smith, Jared Leto, Margot Robbie, Viola D...  2016   \n",
       "..                                                 ...   ...   \n",
       "995  Chiwetel Ejiofor, Nicole Kidman, Julia Roberts...  2015   \n",
       "996  Lauren German, Heather Matarazzo, Bijou Philli...  2007   \n",
       "997  Robert Hoffman, Briana Evigan, Cassie Ventura,...  2008   \n",
       "998  Adam Pally, T.J. Miller, Thomas Middleditch,Sh...  2014   \n",
       "999  Kevin Spacey, Jennifer Garner, Robbie Amell,Ch...  2016   \n",
       "\n",
       "     Runtime (Minutes)  Rating   Votes  Revenue (Millions)  Metascore  \n",
       "0                  121     8.1  757074              333.13       76.0  \n",
       "1                  124     7.0  485820              126.46       65.0  \n",
       "2                  117     7.3  157606              138.12       62.0  \n",
       "3                  108     7.2   60545              270.32       59.0  \n",
       "4                  123     6.2  393727              325.02       40.0  \n",
       "..                 ...     ...     ...                 ...        ...  \n",
       "995                111     6.2   27585                 NaN       45.0  \n",
       "996                 94     5.5   73152               17.54       46.0  \n",
       "997                 98     6.2   70699               58.01       50.0  \n",
       "998                 93     5.6    4881                 NaN       22.0  \n",
       "999                 87     5.3   12435               19.64       11.0  \n",
       "\n",
       "[1000 rows x 12 columns]"
      ]
     },
     "execution_count": 12,
     "metadata": {},
     "output_type": "execute_result"
    }
   ],
   "source": [
    "movie.drop_duplicates()\n",
    "movie"
   ]
  },
  {
   "cell_type": "markdown",
   "id": "9163b1f9-486d-4d7e-8092-a8dcccbcad45",
   "metadata": {},
   "source": [
    "# 4. Plot boxplot for each dataset"
   ]
  },
  {
   "cell_type": "code",
   "execution_count": 13,
   "id": "6553b6e5-1d6e-465d-b258-c69462eddd8d",
   "metadata": {},
   "outputs": [
    {
     "data": {
      "text/plain": [
       "Text(0.5, 1.0, 'Metascore')"
      ]
     },
     "execution_count": 13,
     "metadata": {},
     "output_type": "execute_result"
    },
    {
     "data": {
      "image/png": "[encoded data removed]",
      "text/plain": [
       "<Figure size 1000x1000 with 4 Axes>"
      ]
     },
     "metadata": {},
     "output_type": "display_data"
    }
   ],
   "source": [
    "fig, axes = plt.subplots(2, 2, figsize=(10, 10))\n",
    "axes = axes.flatten()\n",
    "sns.boxplot(data=movie, x='Rating', color='blue', ax=axes[0])\n",
    "axes[0].set_title('Rating')\n",
    "sns.boxplot(data=movie, x='Votes', color='green', ax=axes[1])\n",
    "axes[1].set_title('Votes')\n",
    "sns.boxplot(data=movie, x='Revenue (Millions)', color='red', ax=axes[2])\n",
    "axes[2].set_title('Revenue (Millions)')\n",
    "sns.boxplot(data=movie, x='Metascore', color='purple', ax=axes[3])\n",
    "axes[3].set_title('Metascore')"
   ]
  },
  {
   "cell_type": "markdown",
   "id": "28aac538-93eb-49cf-9b68-a3f7f1e23201",
   "metadata": {},
   "source": [
    "# 5. Replace Outlier"
   ]
  },
  {
   "cell_type": "code",
   "execution_count": 14,
   "id": "ac9f6a2b-449b-427a-89d6-8c15ebb3820b",
   "metadata": {},
   "outputs": [],
   "source": [
    "for column in ['Rating', 'Votes']:\n",
    "    q1 = movie[column].quantile(0.25)\n",
    "    q2 = movie[column].quantile(0.75)\n",
    "    IQR = q2-q1\n",
    "    max_limit = q2 + (1.5 * IQR)\n",
    "    min_limit = q1 - (1.5 * IQR)\n",
    "    movie[column] = pd.DataFrame(np.where(movie[column] > max_limit, max_limit,\n",
    "     (np.where(movie[column] < min_limit, min_limit, movie[column]))), columns=[column])\n",
    "        "
   ]
  },
  {
   "cell_type": "code",
   "execution_count": 15,
   "id": "1200532e-2509-48ec-9252-469211844fe7",
   "metadata": {},
   "outputs": [
    {
     "data": {
      "text/plain": [
       "Text(0.5, 1.0, 'Metascore')"
      ]
     },
     "execution_count": 15,
     "metadata": {},
     "output_type": "execute_result"
    },
    {
     "data": {
      "image/png": "[encoded data removed]",
      "text/plain": [
       "<Figure size 1000x1000 with 4 Axes>"
      ]
     },
     "metadata": {},
     "output_type": "display_data"
    }
   ],
   "source": [
    "fig, axes = plt.subplots(2, 2, figsize=(10, 10))\n",
    "axes = axes.flatten()\n",
    "sns.boxplot(data=movie, x='Rating', color='blue', ax=axes[0])\n",
    "axes[0].set_title('Rating')\n",
    "sns.boxplot(data=movie, x='Votes', color='green', ax=axes[1])\n",
    "axes[1].set_title('Votes')\n",
    "sns.boxplot(data=movie, x='Metascore', color='purple', ax=axes[3])\n",
    "axes[3].set_title('Metascore')"
   ]
  },
  {
   "cell_type": "markdown",
   "id": "0d64e3b1-1627-4ef8-a91c-5f5bad1c4c7a",
   "metadata": {},
   "source": [
    "# 6. Get overall statistics about the data"
   ]
  },
  {
   "cell_type": "code",
   "execution_count": 16,
   "id": "a939952f-8c5e-4b07-a5ba-90a13beed305",
   "metadata": {
    "scrolled": true
   },
   "outputs": [
    {
     "data": {
      "text/html": [
       "<div>\n",
       "<style scoped>\n",
       "    .dataframe tbody tr th:only-of-type {\n",
       "        vertical-align: middle;\n",
       "    }\n",
       "\n",
       "    .dataframe tbody tr th {\n",
       "        vertical-align: top;\n",
       "    }\n",
       "\n",
       "    .dataframe thead th {\n",
       "        text-align: right;\n",
       "    }\n",
       "</style>\n",
       "<table border=\"1\" class=\"dataframe\">\n",
       "  <thead>\n",
       "    <tr style=\"text-align: right;\">\n",
       "      <th></th>\n",
       "      <th>Rank</th>\n",
       "      <th>Title</th>\n",
       "      <th>Genre</th>\n",
       "      <th>Description</th>\n",
       "      <th>Director</th>\n",
       "      <th>Actors</th>\n",
       "      <th>Year</th>\n",
       "      <th>Runtime (Minutes)</th>\n",
       "      <th>Rating</th>\n",
       "      <th>Votes</th>\n",
       "      <th>Revenue (Millions)</th>\n",
       "      <th>Metascore</th>\n",
       "    </tr>\n",
       "  </thead>\n",
       "  <tbody>\n",
       "    <tr>\n",
       "      <th>count</th>\n",
       "      <td>1000.000000</td>\n",
       "      <td>1000</td>\n",
       "      <td>1000</td>\n",
       "      <td>1000</td>\n",
       "      <td>1000</td>\n",
       "      <td>1000</td>\n",
       "      <td>1000.000000</td>\n",
       "      <td>1000.000000</td>\n",
       "      <td>1000.000000</td>\n",
       "      <td>1000.000000</td>\n",
       "      <td>872.000000</td>\n",
       "      <td>936.000000</td>\n",
       "    </tr>\n",
       "    <tr>\n",
       "      <th>unique</th>\n",
       "      <td>NaN</td>\n",
       "      <td>999</td>\n",
       "      <td>207</td>\n",
       "      <td>1000</td>\n",
       "      <td>644</td>\n",
       "      <td>996</td>\n",
       "      <td>NaN</td>\n",
       "      <td>NaN</td>\n",
       "      <td>NaN</td>\n",
       "      <td>NaN</td>\n",
       "      <td>NaN</td>\n",
       "      <td>NaN</td>\n",
       "    </tr>\n",
       "    <tr>\n",
       "      <th>top</th>\n",
       "      <td>NaN</td>\n",
       "      <td>The Host</td>\n",
       "      <td>Action,Adventure,Sci-Fi</td>\n",
       "      <td>A group of intergalactic criminals are forced ...</td>\n",
       "      <td>Ridley Scott</td>\n",
       "      <td>Jennifer Lawrence, Josh Hutcherson, Liam Hemsw...</td>\n",
       "      <td>NaN</td>\n",
       "      <td>NaN</td>\n",
       "      <td>NaN</td>\n",
       "      <td>NaN</td>\n",
       "      <td>NaN</td>\n",
       "      <td>NaN</td>\n",
       "    </tr>\n",
       "    <tr>\n",
       "      <th>freq</th>\n",
       "      <td>NaN</td>\n",
       "      <td>2</td>\n",
       "      <td>50</td>\n",
       "      <td>1</td>\n",
       "      <td>8</td>\n",
       "      <td>2</td>\n",
       "      <td>NaN</td>\n",
       "      <td>NaN</td>\n",
       "      <td>NaN</td>\n",
       "      <td>NaN</td>\n",
       "      <td>NaN</td>\n",
       "      <td>NaN</td>\n",
       "    </tr>\n",
       "    <tr>\n",
       "      <th>mean</th>\n",
       "      <td>500.500000</td>\n",
       "      <td>NaN</td>\n",
       "      <td>NaN</td>\n",
       "      <td>NaN</td>\n",
       "      <td>NaN</td>\n",
       "      <td>NaN</td>\n",
       "      <td>2012.783000</td>\n",
       "      <td>113.172000</td>\n",
       "      <td>6.736500</td>\n",
       "      <td>160786.002375</td>\n",
       "      <td>82.956376</td>\n",
       "      <td>58.985043</td>\n",
       "    </tr>\n",
       "    <tr>\n",
       "      <th>std</th>\n",
       "      <td>288.819436</td>\n",
       "      <td>NaN</td>\n",
       "      <td>NaN</td>\n",
       "      <td>NaN</td>\n",
       "      <td>NaN</td>\n",
       "      <td>NaN</td>\n",
       "      <td>3.205962</td>\n",
       "      <td>18.810908</td>\n",
       "      <td>0.902548</td>\n",
       "      <td>154263.835033</td>\n",
       "      <td>103.253540</td>\n",
       "      <td>17.194757</td>\n",
       "    </tr>\n",
       "    <tr>\n",
       "      <th>min</th>\n",
       "      <td>1.000000</td>\n",
       "      <td>NaN</td>\n",
       "      <td>NaN</td>\n",
       "      <td>NaN</td>\n",
       "      <td>NaN</td>\n",
       "      <td>NaN</td>\n",
       "      <td>2006.000000</td>\n",
       "      <td>66.000000</td>\n",
       "      <td>4.400000</td>\n",
       "      <td>61.000000</td>\n",
       "      <td>0.000000</td>\n",
       "      <td>11.000000</td>\n",
       "    </tr>\n",
       "    <tr>\n",
       "      <th>25%</th>\n",
       "      <td>250.750000</td>\n",
       "      <td>NaN</td>\n",
       "      <td>NaN</td>\n",
       "      <td>NaN</td>\n",
       "      <td>NaN</td>\n",
       "      <td>NaN</td>\n",
       "      <td>2010.000000</td>\n",
       "      <td>100.000000</td>\n",
       "      <td>6.200000</td>\n",
       "      <td>36309.000000</td>\n",
       "      <td>13.270000</td>\n",
       "      <td>47.000000</td>\n",
       "    </tr>\n",
       "    <tr>\n",
       "      <th>50%</th>\n",
       "      <td>500.500000</td>\n",
       "      <td>NaN</td>\n",
       "      <td>NaN</td>\n",
       "      <td>NaN</td>\n",
       "      <td>NaN</td>\n",
       "      <td>NaN</td>\n",
       "      <td>2014.000000</td>\n",
       "      <td>111.000000</td>\n",
       "      <td>6.800000</td>\n",
       "      <td>110799.000000</td>\n",
       "      <td>47.985000</td>\n",
       "      <td>59.500000</td>\n",
       "    </tr>\n",
       "    <tr>\n",
       "      <th>75%</th>\n",
       "      <td>750.250000</td>\n",
       "      <td>NaN</td>\n",
       "      <td>NaN</td>\n",
       "      <td>NaN</td>\n",
       "      <td>NaN</td>\n",
       "      <td>NaN</td>\n",
       "      <td>2016.000000</td>\n",
       "      <td>123.000000</td>\n",
       "      <td>7.400000</td>\n",
       "      <td>239909.750000</td>\n",
       "      <td>113.715000</td>\n",
       "      <td>72.000000</td>\n",
       "    </tr>\n",
       "    <tr>\n",
       "      <th>max</th>\n",
       "      <td>1000.000000</td>\n",
       "      <td>NaN</td>\n",
       "      <td>NaN</td>\n",
       "      <td>NaN</td>\n",
       "      <td>NaN</td>\n",
       "      <td>NaN</td>\n",
       "      <td>2016.000000</td>\n",
       "      <td>191.000000</td>\n",
       "      <td>9.000000</td>\n",
       "      <td>545310.875000</td>\n",
       "      <td>936.630000</td>\n",
       "      <td>100.000000</td>\n",
       "    </tr>\n",
       "  </tbody>\n",
       "</table>\n",
       "</div>"
      ],
      "text/plain": [
       "               Rank     Title                    Genre  \\\n",
       "count   1000.000000      1000                     1000   \n",
       "unique          NaN       999                      207   \n",
       "top             NaN  The Host  Action,Adventure,Sci-Fi   \n",
       "freq            NaN         2                       50   \n",
       "mean     500.500000       NaN                      NaN   \n",
       "std      288.819436       NaN                      NaN   \n",
       "min        1.000000       NaN                      NaN   \n",
       "25%      250.750000       NaN                      NaN   \n",
       "50%      500.500000       NaN                      NaN   \n",
       "75%      750.250000       NaN                      NaN   \n",
       "max     1000.000000       NaN                      NaN   \n",
       "\n",
       "                                              Description      Director  \\\n",
       "count                                                1000          1000   \n",
       "unique                                               1000           644   \n",
       "top     A group of intergalactic criminals are forced ...  Ridley Scott   \n",
       "freq                                                    1             8   \n",
       "mean                                                  NaN           NaN   \n",
       "std                                                   NaN           NaN   \n",
       "min                                                   NaN           NaN   \n",
       "25%                                                   NaN           NaN   \n",
       "50%                                                   NaN           NaN   \n",
       "75%                                                   NaN           NaN   \n",
       "max                                                   NaN           NaN   \n",
       "\n",
       "                                                   Actors         Year  \\\n",
       "count                                                1000  1000.000000   \n",
       "unique                                                996          NaN   \n",
       "top     Jennifer Lawrence, Josh Hutcherson, Liam Hemsw...          NaN   \n",
       "freq                                                    2          NaN   \n",
       "mean                                                  NaN  2012.783000   \n",
       "std                                                   NaN     3.205962   \n",
       "min                                                   NaN  2006.000000   \n",
       "25%                                                   NaN  2010.000000   \n",
       "50%                                                   NaN  2014.000000   \n",
       "75%                                                   NaN  2016.000000   \n",
       "max                                                   NaN  2016.000000   \n",
       "\n",
       "        Runtime (Minutes)       Rating          Votes  Revenue (Millions)  \\\n",
       "count         1000.000000  1000.000000    1000.000000          872.000000   \n",
       "unique                NaN          NaN            NaN                 NaN   \n",
       "top                   NaN          NaN            NaN                 NaN   \n",
       "freq                  NaN          NaN            NaN                 NaN   \n",
       "mean           113.172000     6.736500  160786.002375           82.956376   \n",
       "std             18.810908     0.902548  154263.835033          103.253540   \n",
       "min             66.000000     4.400000      61.000000            0.000000   \n",
       "25%            100.000000     6.200000   36309.000000           13.270000   \n",
       "50%            111.000000     6.800000  110799.000000           47.985000   \n",
       "75%            123.000000     7.400000  239909.750000          113.715000   \n",
       "max            191.000000     9.000000  545310.875000          936.630000   \n",
       "\n",
       "         Metascore  \n",
       "count   936.000000  \n",
       "unique         NaN  \n",
       "top            NaN  \n",
       "freq           NaN  \n",
       "mean     58.985043  \n",
       "std      17.194757  \n",
       "min      11.000000  \n",
       "25%      47.000000  \n",
       "50%      59.500000  \n",
       "75%      72.000000  \n",
       "max     100.000000  "
      ]
     },
     "execution_count": 16,
     "metadata": {},
     "output_type": "execute_result"
    }
   ],
   "source": [
    "movie.describe(include='all')"
   ]
  },
  {
   "cell_type": "markdown",
   "id": "0cc6a528-2c4c-4eed-a7ae-1cadefd49628",
   "metadata": {},
   "source": [
    "# 7. Which year there was the higest average voting?"
   ]
  },
  {
   "cell_type": "code",
   "execution_count": 17,
   "id": "319d3cc5-52ef-4a45-9a64-9ce9f1572726",
   "metadata": {},
   "outputs": [
    {
     "data": {
      "text/plain": [
       "Year\n",
       "2012    253879.580078\n",
       "2006    249779.647727\n",
       "2007    241776.599057\n",
       "2008    239874.603365\n",
       "2011    239358.577381\n",
       "2009    235026.164216\n",
       "2010    228823.522917\n",
       "2013    213840.719780\n",
       "2014    195643.301020\n",
       "2015    114036.343504\n",
       "2016     48314.023148\n",
       "Name: Votes, dtype: float64"
      ]
     },
     "execution_count": 17,
     "metadata": {},
     "output_type": "execute_result"
    }
   ],
   "source": [
    "movie.groupby('Year')['Votes'].mean().sort_values(ascending=False)"
   ]
  },
  {
   "cell_type": "code",
   "execution_count": 18,
   "id": "b7a1c8a3-4b2a-4dd4-b9f6-a467f9f3b553",
   "metadata": {},
   "outputs": [
    {
     "data": {
      "image/png": "[encoded data removed]",
      "text/plain": [
       "<Figure size 640x480 with 1 Axes>"
      ]
     },
     "metadata": {},
     "output_type": "display_data"
    }
   ],
   "source": [
    "sns.barplot(x='Year',y='Votes',data=movie)\n",
    "plt.title(\"Votes By Year\")\n",
    "plt.show()"
   ]
  },
  {
   "cell_type": "markdown",
   "id": "f02bd123-298a-4e7c-bfb8-fcf316afafcf",
   "metadata": {},
   "source": [
    "# 8. Which year there was the highest average revenue?"
   ]
  },
  {
   "cell_type": "code",
   "execution_count": 19,
   "id": "79800c0d-2fc7-42ce-b379-e0bc391ffc6b",
   "metadata": {},
   "outputs": [
    {
     "data": {
      "text/plain": [
       "Year\n",
       "2009    112.601277\n",
       "2012    107.973281\n",
       "2010    105.081579\n",
       "2008     99.082745\n",
       "2007     87.882245\n",
       "2011     87.612258\n",
       "2013     87.121818\n",
       "2006     86.296667\n",
       "2014     85.078723\n",
       "2015     78.355044\n",
       "2016     54.690976\n",
       "Name: Revenue (Millions), dtype: float64"
      ]
     },
     "execution_count": 19,
     "metadata": {},
     "output_type": "execute_result"
    }
   ],
   "source": [
    "movie.groupby('Year')['Revenue (Millions)'].mean().sort_values(ascending=False)"
   ]
  },
  {
   "cell_type": "code",
   "execution_count": 20,
   "id": "eb75adcd-5cbd-4019-8e65-54138f0934a9",
   "metadata": {},
   "outputs": [
    {
     "data": {
      "image/png": "[encoded data removed]",
      "text/plain": [
       "<Figure size 640x480 with 1 Axes>"
      ]
     },
     "metadata": {},
     "output_type": "display_data"
    }
   ],
   "source": [
    "sns.barplot(x='Year',y='Revenue (Millions)',data=movie)\n",
    "plt.title(\"Revenue By Year\")\n",
    "plt.show()"
   ]
  },
  {
   "cell_type": "markdown",
   "id": "6b5dfc0e-5b74-4df8-9133-12bf7eda4945",
   "metadata": {},
   "source": [
    "# 9. Find the average rating for each Title"
   ]
  },
  {
   "cell_type": "code",
   "execution_count": 21,
   "id": "20c14d3e-c415-4195-bfa8-12843a71a657",
   "metadata": {},
   "outputs": [
    {
     "data": {
      "text/plain": [
       "Index(['Rank', 'Title', 'Genre', 'Description', 'Director', 'Actors', 'Year',\n",
       "       'Runtime (Minutes)', 'Rating', 'Votes', 'Revenue (Millions)',\n",
       "       'Metascore'],\n",
       "      dtype='object')"
      ]
     },
     "execution_count": 21,
     "metadata": {},
     "output_type": "execute_result"
    }
   ],
   "source": [
    "movie.columns"
   ]
  },
  {
   "cell_type": "code",
   "execution_count": 22,
   "id": "bb8d482e-7a04-4fbb-96dd-f6462a16ebf8",
   "metadata": {},
   "outputs": [
    {
     "data": {
      "text/plain": [
       "Title\n",
       "The Dark Knight             9.0\n",
       "Dangal                      8.8\n",
       "Inception                   8.8\n",
       "Interstellar                8.6\n",
       "The Intouchables            8.6\n",
       "                           ... \n",
       "Dragonball Evolution        4.4\n",
       "2307: Winter's Dream        4.4\n",
       "The Black Room              4.4\n",
       "Tall Men                    4.4\n",
       "The Disappointments Room    4.4\n",
       "Name: Rating, Length: 999, dtype: float64"
      ]
     },
     "execution_count": 22,
     "metadata": {},
     "output_type": "execute_result"
    }
   ],
   "source": [
    "movie.groupby('Title')['Rating'].mean().sort_values(ascending=False)"
   ]
  },
  {
   "cell_type": "markdown",
   "id": "7bce2616-6499-4aef-8d43-1fcec1697390",
   "metadata": {},
   "source": [
    "# 10. Display top 10 movies title and rating"
   ]
  },
  {
   "cell_type": "code",
   "execution_count": 23,
   "id": "a52471a3-2b76-48c1-84df-d446ee6ebb63",
   "metadata": {},
   "outputs": [
    {
     "data": {
      "text/html": [
       "<div>\n",
       "<style scoped>\n",
       "    .dataframe tbody tr th:only-of-type {\n",
       "        vertical-align: middle;\n",
       "    }\n",
       "\n",
       "    .dataframe tbody tr th {\n",
       "        vertical-align: top;\n",
       "    }\n",
       "\n",
       "    .dataframe thead th {\n",
       "        text-align: right;\n",
       "    }\n",
       "</style>\n",
       "<table border=\"1\" class=\"dataframe\">\n",
       "  <thead>\n",
       "    <tr style=\"text-align: right;\">\n",
       "      <th></th>\n",
       "      <th>Rating</th>\n",
       "    </tr>\n",
       "    <tr>\n",
       "      <th>Title</th>\n",
       "      <th></th>\n",
       "    </tr>\n",
       "  </thead>\n",
       "  <tbody>\n",
       "    <tr>\n",
       "      <th>The Dark Knight</th>\n",
       "      <td>9.0</td>\n",
       "    </tr>\n",
       "    <tr>\n",
       "      <th>Inception</th>\n",
       "      <td>8.8</td>\n",
       "    </tr>\n",
       "    <tr>\n",
       "      <th>Dangal</th>\n",
       "      <td>8.8</td>\n",
       "    </tr>\n",
       "    <tr>\n",
       "      <th>Interstellar</th>\n",
       "      <td>8.6</td>\n",
       "    </tr>\n",
       "    <tr>\n",
       "      <th>Kimi no na wa</th>\n",
       "      <td>8.6</td>\n",
       "    </tr>\n",
       "    <tr>\n",
       "      <th>The Intouchables</th>\n",
       "      <td>8.6</td>\n",
       "    </tr>\n",
       "    <tr>\n",
       "      <th>The Prestige</th>\n",
       "      <td>8.5</td>\n",
       "    </tr>\n",
       "    <tr>\n",
       "      <th>The Departed</th>\n",
       "      <td>8.5</td>\n",
       "    </tr>\n",
       "    <tr>\n",
       "      <th>The Dark Knight Rises</th>\n",
       "      <td>8.5</td>\n",
       "    </tr>\n",
       "    <tr>\n",
       "      <th>Whiplash</th>\n",
       "      <td>8.5</td>\n",
       "    </tr>\n",
       "  </tbody>\n",
       "</table>\n",
       "</div>"
      ],
      "text/plain": [
       "                       Rating\n",
       "Title                        \n",
       "The Dark Knight           9.0\n",
       "Inception                 8.8\n",
       "Dangal                    8.8\n",
       "Interstellar              8.6\n",
       "Kimi no na wa             8.6\n",
       "The Intouchables          8.6\n",
       "The Prestige              8.5\n",
       "The Departed              8.5\n",
       "The Dark Knight Rises     8.5\n",
       "Whiplash                  8.5"
      ]
     },
     "execution_count": 23,
     "metadata": {},
     "output_type": "execute_result"
    }
   ],
   "source": [
    "top10_rating = movie.nlargest(10,'Rating')[['Title','Rating']].set_index('Title')\n",
    "top10_rating"
   ]
  },
  {
   "cell_type": "code",
   "execution_count": 24,
   "id": "492a2f07-73f6-4128-9e7b-eb8f2380875b",
   "metadata": {},
   "outputs": [
    {
     "data": {
      "text/plain": [
       "<Axes: xlabel='Rating', ylabel='Title'>"
      ]
     },
     "execution_count": 24,
     "metadata": {},
     "output_type": "execute_result"
    },
    {
     "data": {
      "image/png": "[encoded data removed]",
      "text/plain": [
       "<Figure size 640x480 with 1 Axes>"
      ]
     },
     "metadata": {},
     "output_type": "display_data"
    }
   ],
   "source": [
    "sns.barplot(x='Rating',y=top10_rating.index,data=top10_rating)"
   ]
  },
  {
   "cell_type": "markdown",
   "id": "96850bc4-182e-4ebf-a929-ec387b0f2c44",
   "metadata": {},
   "source": [
    "# 11. Count number of movies in year"
   ]
  },
  {
   "cell_type": "code",
   "execution_count": 25,
   "id": "0e783980-aeaa-49be-b447-006bcfbf79aa",
   "metadata": {},
   "outputs": [
    {
     "data": {
      "text/plain": [
       "Year\n",
       "2016    297\n",
       "2015    127\n",
       "2014     98\n",
       "2013     91\n",
       "2012     64\n",
       "2011     63\n",
       "2010     60\n",
       "2007     53\n",
       "2008     52\n",
       "2009     51\n",
       "2006     44\n",
       "Name: count, dtype: int64"
      ]
     },
     "execution_count": 25,
     "metadata": {},
     "output_type": "execute_result"
    }
   ],
   "source": [
    "movie['Year'].value_counts()"
   ]
  },
  {
   "cell_type": "code",
   "execution_count": 26,
   "id": "59b335a7-0002-4f58-815a-8976b5827b30",
   "metadata": {},
   "outputs": [
    {
     "data": {
      "image/png": "[encoded data removed]",
      "text/plain": [
       "<Figure size 640x480 with 1 Axes>"
      ]
     },
     "metadata": {},
     "output_type": "display_data"
    }
   ],
   "source": [
    "sns.countplot(x='Year',data=movie)\n",
    "plt.title(\"The Number of movies for year\")\n",
    "plt.show()"
   ]
  },
  {
   "cell_type": "code",
   "execution_count": null,
   "id": "09f77d16-1336-460c-a4ec-58522def2f3d",
   "metadata": {},
   "outputs": [],
   "source": []
  },
  {
   "cell_type": "markdown",
   "id": "9d7faca8-2622-4291-90fc-507952f9bd30",
   "metadata": {},
   "source": [
    "# 12. Find most popular movie title(Higest Revenue)"
   ]
  },
  {
   "cell_type": "code",
   "execution_count": 27,
   "id": "56f42628-986f-4e6b-b91e-a4840b33fc3b",
   "metadata": {},
   "outputs": [
    {
     "data": {
      "text/plain": [
       "50    Star Wars: Episode VII - The Force Awakens\n",
       "Name: Title, dtype: object"
      ]
     },
     "execution_count": 27,
     "metadata": {},
     "output_type": "execute_result"
    }
   ],
   "source": [
    "movie[movie['Revenue (Millions)'].max()==movie['Revenue (Millions)']]['Title']"
   ]
  },
  {
   "cell_type": "code",
   "execution_count": null,
   "id": "1702094f-ef26-4979-8690-8afdd3551696",
   "metadata": {},
   "outputs": [],
   "source": []
  },
  {
   "cell_type": "markdown",
   "id": "c92524fd-efa0-46c0-b03a-571b6ad349b0",
   "metadata": {},
   "source": [
    "# 13. Display 10 higest rated movie titles and its directors"
   ]
  },
  {
   "cell_type": "code",
   "execution_count": 28,
   "id": "d8a8fb68-83b8-42e2-8f29-45b3cb0458d8",
   "metadata": {
    "scrolled": true
   },
   "outputs": [
    {
     "data": {
      "text/html": [
       "<div>\n",
       "<style scoped>\n",
       "    .dataframe tbody tr th:only-of-type {\n",
       "        vertical-align: middle;\n",
       "    }\n",
       "\n",
       "    .dataframe tbody tr th {\n",
       "        vertical-align: top;\n",
       "    }\n",
       "\n",
       "    .dataframe thead th {\n",
       "        text-align: right;\n",
       "    }\n",
       "</style>\n",
       "<table border=\"1\" class=\"dataframe\">\n",
       "  <thead>\n",
       "    <tr style=\"text-align: right;\">\n",
       "      <th></th>\n",
       "      <th>Rating</th>\n",
       "      <th>Director</th>\n",
       "      <th>Votes</th>\n",
       "    </tr>\n",
       "    <tr>\n",
       "      <th>Title</th>\n",
       "      <th></th>\n",
       "      <th></th>\n",
       "      <th></th>\n",
       "    </tr>\n",
       "  </thead>\n",
       "  <tbody>\n",
       "    <tr>\n",
       "      <th>The Dark Knight</th>\n",
       "      <td>9.0</td>\n",
       "      <td>Christopher Nolan</td>\n",
       "      <td>545310.875</td>\n",
       "    </tr>\n",
       "    <tr>\n",
       "      <th>Inception</th>\n",
       "      <td>8.8</td>\n",
       "      <td>Christopher Nolan</td>\n",
       "      <td>545310.875</td>\n",
       "    </tr>\n",
       "    <tr>\n",
       "      <th>Dangal</th>\n",
       "      <td>8.8</td>\n",
       "      <td>Nitesh Tiwari</td>\n",
       "      <td>48969.000</td>\n",
       "    </tr>\n",
       "    <tr>\n",
       "      <th>Interstellar</th>\n",
       "      <td>8.6</td>\n",
       "      <td>Christopher Nolan</td>\n",
       "      <td>545310.875</td>\n",
       "    </tr>\n",
       "    <tr>\n",
       "      <th>Kimi no na wa</th>\n",
       "      <td>8.6</td>\n",
       "      <td>Makoto Shinkai</td>\n",
       "      <td>34110.000</td>\n",
       "    </tr>\n",
       "    <tr>\n",
       "      <th>The Intouchables</th>\n",
       "      <td>8.6</td>\n",
       "      <td>Olivier Nakache</td>\n",
       "      <td>545310.875</td>\n",
       "    </tr>\n",
       "    <tr>\n",
       "      <th>The Prestige</th>\n",
       "      <td>8.5</td>\n",
       "      <td>Christopher Nolan</td>\n",
       "      <td>545310.875</td>\n",
       "    </tr>\n",
       "    <tr>\n",
       "      <th>The Departed</th>\n",
       "      <td>8.5</td>\n",
       "      <td>Martin Scorsese</td>\n",
       "      <td>545310.875</td>\n",
       "    </tr>\n",
       "    <tr>\n",
       "      <th>The Dark Knight Rises</th>\n",
       "      <td>8.5</td>\n",
       "      <td>Christopher Nolan</td>\n",
       "      <td>545310.875</td>\n",
       "    </tr>\n",
       "    <tr>\n",
       "      <th>Whiplash</th>\n",
       "      <td>8.5</td>\n",
       "      <td>Damien Chazelle</td>\n",
       "      <td>477276.000</td>\n",
       "    </tr>\n",
       "  </tbody>\n",
       "</table>\n",
       "</div>"
      ],
      "text/plain": [
       "                       Rating           Director       Votes\n",
       "Title                                                       \n",
       "The Dark Knight           9.0  Christopher Nolan  545310.875\n",
       "Inception                 8.8  Christopher Nolan  545310.875\n",
       "Dangal                    8.8      Nitesh Tiwari   48969.000\n",
       "Interstellar              8.6  Christopher Nolan  545310.875\n",
       "Kimi no na wa             8.6     Makoto Shinkai   34110.000\n",
       "The Intouchables          8.6    Olivier Nakache  545310.875\n",
       "The Prestige              8.5  Christopher Nolan  545310.875\n",
       "The Departed              8.5    Martin Scorsese  545310.875\n",
       "The Dark Knight Rises     8.5  Christopher Nolan  545310.875\n",
       "Whiplash                  8.5    Damien Chazelle  477276.000"
      ]
     },
     "execution_count": 28,
     "metadata": {},
     "output_type": "execute_result"
    }
   ],
   "source": [
    "top10_title = movie.nlargest(10,'Rating')[['Title','Rating','Director','Votes']].set_index('Title')\n",
    "top10_title"
   ]
  },
  {
   "cell_type": "code",
   "execution_count": 29,
   "id": "7eb42364-1af3-49b9-9e03-3531fa3161a0",
   "metadata": {},
   "outputs": [
    {
     "data": {
      "text/plain": [
       "<matplotlib.legend.Legend at 0x1fd81d02790>"
      ]
     },
     "execution_count": 29,
     "metadata": {},
     "output_type": "execute_result"
    },
    {
     "data": {
      "image/png": "[encoded data removed]",
      "text/plain": [
       "<Figure size 640x480 with 1 Axes>"
      ]
     },
     "metadata": {},
     "output_type": "display_data"
    }
   ],
   "source": [
    "sns.barplot(x='Rating',y=top10_title.index,data=top10_title,hue='Director',dodge=False)\n",
    "plt.legend(bbox_to_anchor=(1.05,1),loc=2)"
   ]
  },
  {
   "cell_type": "code",
   "execution_count": null,
   "id": "428e42ed-856f-479e-8410-b3ad403aa242",
   "metadata": {},
   "outputs": [],
   "source": []
  },
  {
   "cell_type": "markdown",
   "id": "786279a5-90ca-45ea-9205-f37ba18fb366",
   "metadata": {},
   "source": [
    "# 14. Find the highest 10 revenue movies"
   ]
  },
  {
   "cell_type": "code",
   "execution_count": 30,
   "id": "f0b30733-c3ed-4580-9819-59ba735b72d1",
   "metadata": {},
   "outputs": [
    {
     "data": {
      "text/html": [
       "<div>\n",
       "<style scoped>\n",
       "    .dataframe tbody tr th:only-of-type {\n",
       "        vertical-align: middle;\n",
       "    }\n",
       "\n",
       "    .dataframe tbody tr th {\n",
       "        vertical-align: top;\n",
       "    }\n",
       "\n",
       "    .dataframe thead th {\n",
       "        text-align: right;\n",
       "    }\n",
       "</style>\n",
       "<table border=\"1\" class=\"dataframe\">\n",
       "  <thead>\n",
       "    <tr style=\"text-align: right;\">\n",
       "      <th></th>\n",
       "      <th>Revenue (Millions)</th>\n",
       "      <th>Director</th>\n",
       "      <th>Year</th>\n",
       "    </tr>\n",
       "    <tr>\n",
       "      <th>Title</th>\n",
       "      <th></th>\n",
       "      <th></th>\n",
       "      <th></th>\n",
       "    </tr>\n",
       "  </thead>\n",
       "  <tbody>\n",
       "    <tr>\n",
       "      <th>Star Wars: Episode VII - The Force Awakens</th>\n",
       "      <td>936.63</td>\n",
       "      <td>J.J. Abrams</td>\n",
       "      <td>2015</td>\n",
       "    </tr>\n",
       "    <tr>\n",
       "      <th>Avatar</th>\n",
       "      <td>760.51</td>\n",
       "      <td>James Cameron</td>\n",
       "      <td>2009</td>\n",
       "    </tr>\n",
       "    <tr>\n",
       "      <th>Jurassic World</th>\n",
       "      <td>652.18</td>\n",
       "      <td>Colin Trevorrow</td>\n",
       "      <td>2015</td>\n",
       "    </tr>\n",
       "    <tr>\n",
       "      <th>The Avengers</th>\n",
       "      <td>623.28</td>\n",
       "      <td>Joss Whedon</td>\n",
       "      <td>2012</td>\n",
       "    </tr>\n",
       "    <tr>\n",
       "      <th>The Dark Knight</th>\n",
       "      <td>533.32</td>\n",
       "      <td>Christopher Nolan</td>\n",
       "      <td>2008</td>\n",
       "    </tr>\n",
       "    <tr>\n",
       "      <th>Rogue One</th>\n",
       "      <td>532.17</td>\n",
       "      <td>Gareth Edwards</td>\n",
       "      <td>2016</td>\n",
       "    </tr>\n",
       "    <tr>\n",
       "      <th>Finding Dory</th>\n",
       "      <td>486.29</td>\n",
       "      <td>Andrew Stanton</td>\n",
       "      <td>2016</td>\n",
       "    </tr>\n",
       "    <tr>\n",
       "      <th>Avengers: Age of Ultron</th>\n",
       "      <td>458.99</td>\n",
       "      <td>Joss Whedon</td>\n",
       "      <td>2015</td>\n",
       "    </tr>\n",
       "    <tr>\n",
       "      <th>The Dark Knight Rises</th>\n",
       "      <td>448.13</td>\n",
       "      <td>Christopher Nolan</td>\n",
       "      <td>2012</td>\n",
       "    </tr>\n",
       "    <tr>\n",
       "      <th>The Hunger Games: Catching Fire</th>\n",
       "      <td>424.65</td>\n",
       "      <td>Francis Lawrence</td>\n",
       "      <td>2013</td>\n",
       "    </tr>\n",
       "  </tbody>\n",
       "</table>\n",
       "</div>"
      ],
      "text/plain": [
       "                                            Revenue (Millions)  \\\n",
       "Title                                                            \n",
       "Star Wars: Episode VII - The Force Awakens              936.63   \n",
       "Avatar                                                  760.51   \n",
       "Jurassic World                                          652.18   \n",
       "The Avengers                                            623.28   \n",
       "The Dark Knight                                         533.32   \n",
       "Rogue One                                               532.17   \n",
       "Finding Dory                                            486.29   \n",
       "Avengers: Age of Ultron                                 458.99   \n",
       "The Dark Knight Rises                                   448.13   \n",
       "The Hunger Games: Catching Fire                         424.65   \n",
       "\n",
       "                                                     Director  Year  \n",
       "Title                                                                \n",
       "Star Wars: Episode VII - The Force Awakens        J.J. Abrams  2015  \n",
       "Avatar                                          James Cameron  2009  \n",
       "Jurassic World                                Colin Trevorrow  2015  \n",
       "The Avengers                                      Joss Whedon  2012  \n",
       "The Dark Knight                             Christopher Nolan  2008  \n",
       "Rogue One                                      Gareth Edwards  2016  \n",
       "Finding Dory                                   Andrew Stanton  2016  \n",
       "Avengers: Age of Ultron                           Joss Whedon  2015  \n",
       "The Dark Knight Rises                       Christopher Nolan  2012  \n",
       "The Hunger Games: Catching Fire              Francis Lawrence  2013  "
      ]
     },
     "execution_count": 30,
     "metadata": {},
     "output_type": "execute_result"
    }
   ],
   "source": [
    "top10_revenue=movie.nlargest(10,'Revenue (Millions)')[['Title','Revenue (Millions)','Director','Year']].set_index('Title')\n",
    "top10_revenue"
   ]
  },
  {
   "cell_type": "code",
   "execution_count": 31,
   "id": "4adf2fce-4a27-47c0-b861-ff9dd46c1e80",
   "metadata": {},
   "outputs": [
    {
     "data": {
      "image/png": "[encoded data removed]",
      "text/plain": [
       "<Figure size 640x480 with 1 Axes>"
      ]
     },
     "metadata": {},
     "output_type": "display_data"
    }
   ],
   "source": [
    "sns.barplot(x='Revenue (Millions)',y=top10_revenue.index,data=top10_revenue,hue='Director',dodge=False)\n",
    "plt.legend(bbox_to_anchor=(1.05,1),loc=2)\n",
    "plt.title(\"The highest revenue movies\")\n",
    "plt.show()"
   ]
  },
  {
   "cell_type": "code",
   "execution_count": null,
   "id": "0a408abb-520b-4e7a-9100-2747db01eccf",
   "metadata": {},
   "outputs": [],
   "source": []
  },
  {
   "cell_type": "markdown",
   "id": "07015aec-3131-4044-8d93-4438f4012840",
   "metadata": {},
   "source": [
    "# 15. Classification rating movies(Excellent,Good,Average)"
   ]
  },
  {
   "cell_type": "code",
   "execution_count": 32,
   "id": "5435b974-9455-4c7d-8b68-6ab079a87379",
   "metadata": {},
   "outputs": [],
   "source": [
    "def rating(rating):\n",
    "    if rating>=7.0:\n",
    "        return \"Excellent\"\n",
    "    elif rating>=6.0:\n",
    "        return \"Good\"\n",
    "    else:\n",
    "        return \"Average\""
   ]
  },
  {
   "cell_type": "code",
   "execution_count": 33,
   "id": "67f58fb7-e412-47e5-b504-bf0e5d7bef0c",
   "metadata": {},
   "outputs": [],
   "source": [
    "movie['rating_cat'] = movie['Rating'].apply(rating)"
   ]
  },
  {
   "cell_type": "code",
   "execution_count": 34,
   "id": "398b6d9e-ef04-4003-be0d-c74d939bd784",
   "metadata": {},
   "outputs": [
    {
     "data": {
      "text/html": [
       "<div>\n",
       "<style scoped>\n",
       "    .dataframe tbody tr th:only-of-type {\n",
       "        vertical-align: middle;\n",
       "    }\n",
       "\n",
       "    .dataframe tbody tr th {\n",
       "        vertical-align: top;\n",
       "    }\n",
       "\n",
       "    .dataframe thead th {\n",
       "        text-align: right;\n",
       "    }\n",
       "</style>\n",
       "<table border=\"1\" class=\"dataframe\">\n",
       "  <thead>\n",
       "    <tr style=\"text-align: right;\">\n",
       "      <th></th>\n",
       "      <th>Rank</th>\n",
       "      <th>Title</th>\n",
       "      <th>Genre</th>\n",
       "      <th>Description</th>\n",
       "      <th>Director</th>\n",
       "      <th>Actors</th>\n",
       "      <th>Year</th>\n",
       "      <th>Runtime (Minutes)</th>\n",
       "      <th>Rating</th>\n",
       "      <th>Votes</th>\n",
       "      <th>Revenue (Millions)</th>\n",
       "      <th>Metascore</th>\n",
       "      <th>rating_cat</th>\n",
       "    </tr>\n",
       "  </thead>\n",
       "  <tbody>\n",
       "    <tr>\n",
       "      <th>0</th>\n",
       "      <td>1</td>\n",
       "      <td>Guardians of the Galaxy</td>\n",
       "      <td>Action,Adventure,Sci-Fi</td>\n",
       "      <td>A group of intergalactic criminals are forced ...</td>\n",
       "      <td>James Gunn</td>\n",
       "      <td>Chris Pratt, Vin Diesel, Bradley Cooper, Zoe S...</td>\n",
       "      <td>2014</td>\n",
       "      <td>121</td>\n",
       "      <td>8.1</td>\n",
       "      <td>545310.875</td>\n",
       "      <td>333.13</td>\n",
       "      <td>76.0</td>\n",
       "      <td>Excellent</td>\n",
       "    </tr>\n",
       "    <tr>\n",
       "      <th>1</th>\n",
       "      <td>2</td>\n",
       "      <td>Prometheus</td>\n",
       "      <td>Adventure,Mystery,Sci-Fi</td>\n",
       "      <td>Following clues to the origin of mankind, a te...</td>\n",
       "      <td>Ridley Scott</td>\n",
       "      <td>Noomi Rapace, Logan Marshall-Green, Michael Fa...</td>\n",
       "      <td>2012</td>\n",
       "      <td>124</td>\n",
       "      <td>7.0</td>\n",
       "      <td>485820.000</td>\n",
       "      <td>126.46</td>\n",
       "      <td>65.0</td>\n",
       "      <td>Excellent</td>\n",
       "    </tr>\n",
       "    <tr>\n",
       "      <th>2</th>\n",
       "      <td>3</td>\n",
       "      <td>Split</td>\n",
       "      <td>Horror,Thriller</td>\n",
       "      <td>Three girls are kidnapped by a man with a diag...</td>\n",
       "      <td>M. Night Shyamalan</td>\n",
       "      <td>James McAvoy, Anya Taylor-Joy, Haley Lu Richar...</td>\n",
       "      <td>2016</td>\n",
       "      <td>117</td>\n",
       "      <td>7.3</td>\n",
       "      <td>157606.000</td>\n",
       "      <td>138.12</td>\n",
       "      <td>62.0</td>\n",
       "      <td>Excellent</td>\n",
       "    </tr>\n",
       "    <tr>\n",
       "      <th>3</th>\n",
       "      <td>4</td>\n",
       "      <td>Sing</td>\n",
       "      <td>Animation,Comedy,Family</td>\n",
       "      <td>In a city of humanoid animals, a hustling thea...</td>\n",
       "      <td>Christophe Lourdelet</td>\n",
       "      <td>Matthew McConaughey,Reese Witherspoon, Seth Ma...</td>\n",
       "      <td>2016</td>\n",
       "      <td>108</td>\n",
       "      <td>7.2</td>\n",
       "      <td>60545.000</td>\n",
       "      <td>270.32</td>\n",
       "      <td>59.0</td>\n",
       "      <td>Excellent</td>\n",
       "    </tr>\n",
       "    <tr>\n",
       "      <th>4</th>\n",
       "      <td>5</td>\n",
       "      <td>Suicide Squad</td>\n",
       "      <td>Action,Adventure,Fantasy</td>\n",
       "      <td>A secret government agency recruits some of th...</td>\n",
       "      <td>David Ayer</td>\n",
       "      <td>Will Smith, Jared Leto, Margot Robbie, Viola D...</td>\n",
       "      <td>2016</td>\n",
       "      <td>123</td>\n",
       "      <td>6.2</td>\n",
       "      <td>393727.000</td>\n",
       "      <td>325.02</td>\n",
       "      <td>40.0</td>\n",
       "      <td>Good</td>\n",
       "    </tr>\n",
       "    <tr>\n",
       "      <th>...</th>\n",
       "      <td>...</td>\n",
       "      <td>...</td>\n",
       "      <td>...</td>\n",
       "      <td>...</td>\n",
       "      <td>...</td>\n",
       "      <td>...</td>\n",
       "      <td>...</td>\n",
       "      <td>...</td>\n",
       "      <td>...</td>\n",
       "      <td>...</td>\n",
       "      <td>...</td>\n",
       "      <td>...</td>\n",
       "      <td>...</td>\n",
       "    </tr>\n",
       "    <tr>\n",
       "      <th>995</th>\n",
       "      <td>996</td>\n",
       "      <td>Secret in Their Eyes</td>\n",
       "      <td>Crime,Drama,Mystery</td>\n",
       "      <td>A tight-knit team of rising investigators, alo...</td>\n",
       "      <td>Billy Ray</td>\n",
       "      <td>Chiwetel Ejiofor, Nicole Kidman, Julia Roberts...</td>\n",
       "      <td>2015</td>\n",
       "      <td>111</td>\n",
       "      <td>6.2</td>\n",
       "      <td>27585.000</td>\n",
       "      <td>NaN</td>\n",
       "      <td>45.0</td>\n",
       "      <td>Good</td>\n",
       "    </tr>\n",
       "    <tr>\n",
       "      <th>996</th>\n",
       "      <td>997</td>\n",
       "      <td>Hostel: Part II</td>\n",
       "      <td>Horror</td>\n",
       "      <td>Three American college students studying abroa...</td>\n",
       "      <td>Eli Roth</td>\n",
       "      <td>Lauren German, Heather Matarazzo, Bijou Philli...</td>\n",
       "      <td>2007</td>\n",
       "      <td>94</td>\n",
       "      <td>5.5</td>\n",
       "      <td>73152.000</td>\n",
       "      <td>17.54</td>\n",
       "      <td>46.0</td>\n",
       "      <td>Average</td>\n",
       "    </tr>\n",
       "    <tr>\n",
       "      <th>997</th>\n",
       "      <td>998</td>\n",
       "      <td>Step Up 2: The Streets</td>\n",
       "      <td>Drama,Music,Romance</td>\n",
       "      <td>Romantic sparks occur between two dance studen...</td>\n",
       "      <td>Jon M. Chu</td>\n",
       "      <td>Robert Hoffman, Briana Evigan, Cassie Ventura,...</td>\n",
       "      <td>2008</td>\n",
       "      <td>98</td>\n",
       "      <td>6.2</td>\n",
       "      <td>70699.000</td>\n",
       "      <td>58.01</td>\n",
       "      <td>50.0</td>\n",
       "      <td>Good</td>\n",
       "    </tr>\n",
       "    <tr>\n",
       "      <th>998</th>\n",
       "      <td>999</td>\n",
       "      <td>Search Party</td>\n",
       "      <td>Adventure,Comedy</td>\n",
       "      <td>A pair of friends embark on a mission to reuni...</td>\n",
       "      <td>Scot Armstrong</td>\n",
       "      <td>Adam Pally, T.J. Miller, Thomas Middleditch,Sh...</td>\n",
       "      <td>2014</td>\n",
       "      <td>93</td>\n",
       "      <td>5.6</td>\n",
       "      <td>4881.000</td>\n",
       "      <td>NaN</td>\n",
       "      <td>22.0</td>\n",
       "      <td>Average</td>\n",
       "    </tr>\n",
       "    <tr>\n",
       "      <th>999</th>\n",
       "      <td>1000</td>\n",
       "      <td>Nine Lives</td>\n",
       "      <td>Comedy,Family,Fantasy</td>\n",
       "      <td>A stuffy businessman finds himself trapped ins...</td>\n",
       "      <td>Barry Sonnenfeld</td>\n",
       "      <td>Kevin Spacey, Jennifer Garner, Robbie Amell,Ch...</td>\n",
       "      <td>2016</td>\n",
       "      <td>87</td>\n",
       "      <td>5.3</td>\n",
       "      <td>12435.000</td>\n",
       "      <td>19.64</td>\n",
       "      <td>11.0</td>\n",
       "      <td>Average</td>\n",
       "    </tr>\n",
       "  </tbody>\n",
       "</table>\n",
       "<p>1000 rows × 13 columns</p>\n",
       "</div>"
      ],
      "text/plain": [
       "     Rank                    Title                     Genre  \\\n",
       "0       1  Guardians of the Galaxy   Action,Adventure,Sci-Fi   \n",
       "1       2               Prometheus  Adventure,Mystery,Sci-Fi   \n",
       "2       3                    Split           Horror,Thriller   \n",
       "3       4                     Sing   Animation,Comedy,Family   \n",
       "4       5            Suicide Squad  Action,Adventure,Fantasy   \n",
       "..    ...                      ...                       ...   \n",
       "995   996     Secret in Their Eyes       Crime,Drama,Mystery   \n",
       "996   997          Hostel: Part II                    Horror   \n",
       "997   998   Step Up 2: The Streets       Drama,Music,Romance   \n",
       "998   999             Search Party          Adventure,Comedy   \n",
       "999  1000               Nine Lives     Comedy,Family,Fantasy   \n",
       "\n",
       "                                           Description              Director  \\\n",
       "0    A group of intergalactic criminals are forced ...            James Gunn   \n",
       "1    Following clues to the origin of mankind, a te...          Ridley Scott   \n",
       "2    Three girls are kidnapped by a man with a diag...    M. Night Shyamalan   \n",
       "3    In a city of humanoid animals, a hustling thea...  Christophe Lourdelet   \n",
       "4    A secret government agency recruits some of th...            David Ayer   \n",
       "..                                                 ...                   ...   \n",
       "995  A tight-knit team of rising investigators, alo...             Billy Ray   \n",
       "996  Three American college students studying abroa...              Eli Roth   \n",
       "997  Romantic sparks occur between two dance studen...            Jon M. Chu   \n",
       "998  A pair of friends embark on a mission to reuni...        Scot Armstrong   \n",
       "999  A stuffy businessman finds himself trapped ins...      Barry Sonnenfeld   \n",
       "\n",
       "                                                Actors  Year  \\\n",
       "0    Chris Pratt, Vin Diesel, Bradley Cooper, Zoe S...  2014   \n",
       "1    Noomi Rapace, Logan Marshall-Green, Michael Fa...  2012   \n",
       "2    James McAvoy, Anya Taylor-Joy, Haley Lu Richar...  2016   \n",
       "3    Matthew McConaughey,Reese Witherspoon, Seth Ma...  2016   \n",
       "4    Will Smith, Jared Leto, Margot Robbie, Viola D...  2016   \n",
       "..                                                 ...   ...   \n",
       "995  Chiwetel Ejiofor, Nicole Kidman, Julia Roberts...  2015   \n",
       "996  Lauren German, Heather Matarazzo, Bijou Philli...  2007   \n",
       "997  Robert Hoffman, Briana Evigan, Cassie Ventura,...  2008   \n",
       "998  Adam Pally, T.J. Miller, Thomas Middleditch,Sh...  2014   \n",
       "999  Kevin Spacey, Jennifer Garner, Robbie Amell,Ch...  2016   \n",
       "\n",
       "     Runtime (Minutes)  Rating       Votes  Revenue (Millions)  Metascore  \\\n",
       "0                  121     8.1  545310.875              333.13       76.0   \n",
       "1                  124     7.0  485820.000              126.46       65.0   \n",
       "2                  117     7.3  157606.000              138.12       62.0   \n",
       "3                  108     7.2   60545.000              270.32       59.0   \n",
       "4                  123     6.2  393727.000              325.02       40.0   \n",
       "..                 ...     ...         ...                 ...        ...   \n",
       "995                111     6.2   27585.000                 NaN       45.0   \n",
       "996                 94     5.5   73152.000               17.54       46.0   \n",
       "997                 98     6.2   70699.000               58.01       50.0   \n",
       "998                 93     5.6    4881.000                 NaN       22.0   \n",
       "999                 87     5.3   12435.000               19.64       11.0   \n",
       "\n",
       "    rating_cat  \n",
       "0    Excellent  \n",
       "1    Excellent  \n",
       "2    Excellent  \n",
       "3    Excellent  \n",
       "4         Good  \n",
       "..         ...  \n",
       "995       Good  \n",
       "996    Average  \n",
       "997       Good  \n",
       "998    Average  \n",
       "999    Average  \n",
       "\n",
       "[1000 rows x 13 columns]"
      ]
     },
     "execution_count": 34,
     "metadata": {},
     "output_type": "execute_result"
    }
   ],
   "source": [
    "movie"
   ]
  },
  {
   "cell_type": "markdown",
   "id": "7cafb7b4-c3f3-4519-a1be-4739bd796867",
   "metadata": {},
   "source": [
    "# 16. Univariate Analysis"
   ]
  },
  {
   "cell_type": "code",
   "execution_count": 35,
   "id": "3789ecaa-ba0c-40a8-aceb-477701a5ffb4",
   "metadata": {},
   "outputs": [
    {
     "data": {
      "image/png": "[encoded data removed]",
      "text/plain": [
       "<Figure size 640x480 with 1 Axes>"
      ]
     },
     "metadata": {},
     "output_type": "display_data"
    }
   ],
   "source": [
    "sns.histplot(data=movie['Rating'],kde=True)\n",
    "plt.title(\"Distribution Rating of movies\")\n",
    "plt.show()"
   ]
  },
  {
   "cell_type": "code",
   "execution_count": 36,
   "id": "547e65c3-5cbe-48b9-a0b3-cc3e7d11f74a",
   "metadata": {},
   "outputs": [
    {
     "data": {
      "text/plain": [
       "-0.3999699348962524"
      ]
     },
     "execution_count": 36,
     "metadata": {},
     "output_type": "execute_result"
    }
   ],
   "source": [
    "skew(movie[\"Rating\"])"
   ]
  },
  {
   "cell_type": "code",
   "execution_count": 37,
   "id": "bface98b-ce39-49fe-8ff3-bbde5d77bc88",
   "metadata": {},
   "outputs": [
    {
     "data": {
      "image/png": "[encoded data removed]",
      "text/plain": [
       "<Figure size 640x480 with 1 Axes>"
      ]
     },
     "metadata": {},
     "output_type": "display_data"
    }
   ],
   "source": [
    "sns.histplot(data=movie['Revenue (Millions)'],kde=True)\n",
    "plt.title(\"Distribution Revenue (Millions) of movies\")\n",
    "plt.show()"
   ]
  },
  {
   "cell_type": "code",
   "execution_count": 38,
   "id": "0b9de101-fca7-470d-8aa6-f7b8c459320d",
   "metadata": {},
   "outputs": [
    {
     "data": {
      "text/plain": [
       "nan"
      ]
     },
     "execution_count": 38,
     "metadata": {},
     "output_type": "execute_result"
    }
   ],
   "source": [
    "skew(movie[\"Revenue (Millions)\"])"
   ]
  },
  {
   "cell_type": "code",
   "execution_count": 39,
   "id": "fd11a803-d27e-43c7-b6d2-306b207ad91b",
   "metadata": {},
   "outputs": [
    {
     "data": {
      "image/png": "[encoded data removed]",
      "text/plain": [
       "<Figure size 640x480 with 1 Axes>"
      ]
     },
     "metadata": {},
     "output_type": "display_data"
    }
   ],
   "source": [
    "sns.histplot(data=movie['Votes'],kde=True)\n",
    "plt.title(\"Distribution Votes of movies\")\n",
    "plt.show()"
   ]
  },
  {
   "cell_type": "code",
   "execution_count": 40,
   "id": "5a4022e1-ac3f-4a44-9fa9-284af8687d75",
   "metadata": {},
   "outputs": [
    {
     "data": {
      "text/plain": [
       "1.0793798330210842"
      ]
     },
     "execution_count": 40,
     "metadata": {},
     "output_type": "execute_result"
    }
   ],
   "source": [
    "skew(movie[\"Votes\"])"
   ]
  },
  {
   "cell_type": "markdown",
   "id": "1ba8377c-9729-45fa-9d97-6858fd69d4a5",
   "metadata": {},
   "source": [
    "# 17. Find correlation of dataset"
   ]
  },
  {
   "cell_type": "code",
   "execution_count": 41,
   "id": "8dcc62b0-18d4-4812-9717-0f4ef11fb4b4",
   "metadata": {},
   "outputs": [
    {
     "data": {
      "image/png": "[encoded data removed]",
      "text/plain": [
       "<Figure size 640x480 with 2 Axes>"
      ]
     },
     "metadata": {},
     "output_type": "display_data"
    }
   ],
   "source": [
    "sns.heatmap(np.round(movie.corr(numeric_only=True),2),annot=True)\n",
    "plt.title(\"Multivariate analysis\")\n",
    "plt.show()"
   ]
  },
  {
   "cell_type": "markdown",
   "id": "2cf91021-5a86-44cc-815a-af3dc24493f8",
   "metadata": {},
   "source": [
    "# 18 Apply Machine learning to recommend the titles of movie to customers"
   ]
  },
  {
   "cell_type": "code",
   "execution_count": 42,
   "id": "9c63ed65-5426-4040-8e13-752f5419a02a",
   "metadata": {},
   "outputs": [],
   "source": [
    "import difflib\n",
    "from sklearn.feature_extraction.text import TfidfVectorizer\n",
    "from sklearn.metrics.pairwise import cosine_similarity"
   ]
  },
  {
   "cell_type": "code",
   "execution_count": 43,
   "id": "4f96545b-3fc5-4398-a013-3355fc756c0f",
   "metadata": {},
   "outputs": [
    {
     "data": {
      "text/plain": [
       "Index(['Rank', 'Title', 'Genre', 'Description', 'Director', 'Actors', 'Year',\n",
       "       'Runtime (Minutes)', 'Rating', 'Votes', 'Revenue (Millions)',\n",
       "       'Metascore', 'rating_cat'],\n",
       "      dtype='object')"
      ]
     },
     "execution_count": 43,
     "metadata": {},
     "output_type": "execute_result"
    }
   ],
   "source": [
    "movie.columns"
   ]
  },
  {
   "cell_type": "code",
   "execution_count": 44,
   "id": "ef15a3a3-ba76-4aff-b6c4-2bf04a9a4289",
   "metadata": {},
   "outputs": [
    {
     "name": "stdout",
     "output_type": "stream",
     "text": [
      "['Genre', 'Description', 'Director', 'Actors']\n"
     ]
    }
   ],
   "source": [
    "# select the features for recommendation movie\n",
    "select_feature = ['Genre','Description','Director','Actors']  \n",
    "print(select_feature)"
   ]
  },
  {
   "cell_type": "code",
   "execution_count": 45,
   "id": "ffe35fd4-b97d-43a8-b30a-d6a414839b20",
   "metadata": {},
   "outputs": [],
   "source": [
    "# replacing the null valuess with null string\n",
    "for feature in select_feature:\n",
    "  movie[feature] = movie[feature].fillna('')"
   ]
  },
  {
   "cell_type": "code",
   "execution_count": 46,
   "id": "305aeac7-85bc-49a0-8854-3f330c8facfb",
   "metadata": {},
   "outputs": [
    {
     "name": "stdout",
     "output_type": "stream",
     "text": [
      "0      Action,Adventure,Sci-Fi A group of intergalact...\n",
      "1      Adventure,Mystery,Sci-Fi Following clues to th...\n",
      "2      Horror,Thriller Three girls are kidnapped by a...\n",
      "3      Animation,Comedy,Family In a city of humanoid ...\n",
      "4      Action,Adventure,Fantasy A secret government a...\n",
      "                             ...                        \n",
      "995    Crime,Drama,Mystery A tight-knit team of risin...\n",
      "996    Horror Three American college students studyin...\n",
      "997    Drama,Music,Romance Romantic sparks occur betw...\n",
      "998    Adventure,Comedy A pair of friends embark on a...\n",
      "999    Comedy,Family,Fantasy A stuffy businessman fin...\n",
      "Length: 1000, dtype: object\n"
     ]
    }
   ],
   "source": [
    "# combining all the 5 selected features\n",
    "combine_feature = movie['Genre'] +' ' +movie['Description'] +' ' +movie['Director'] +' ' +movie['Actors']\n",
    "print(combine_feature)"
   ]
  },
  {
   "cell_type": "code",
   "execution_count": 47,
   "id": "f73017c2-4fcc-4e75-a2de-8efcce1a858c",
   "metadata": {},
   "outputs": [
    {
     "name": "stdout",
     "output_type": "stream",
     "text": [
      "  (0, 6866)\t0.2208390477858074\n",
      "  (0, 8820)\t0.21589359852035722\n",
      "  (0, 1791)\t0.18385767904288147\n",
      "  (0, 1087)\t0.19791240156183035\n",
      "  (0, 2242)\t0.21589359852035722\n",
      "  (0, 8417)\t0.21589359852035722\n",
      "  (0, 6192)\t0.21589359852035722\n",
      "  (0, 1513)\t0.1458643387421238\n",
      "  (0, 3497)\t0.24156489683885848\n",
      "  (0, 4178)\t0.13015531275725872\n",
      "  (0, 8265)\t0.2208390477858074\n",
      "  (0, 7885)\t0.04918789804567106\n",
      "  (0, 1775)\t0.20762928635939698\n",
      "  (0, 7744)\t0.20762928635939698\n",
      "  (0, 3151)\t0.10758206477554348\n",
      "  (0, 8516)\t0.20409939238136726\n",
      "  (0, 2853)\t0.26723619515735975\n",
      "  (0, 7537)\t0.17520555334070667\n",
      "  (0, 8000)\t0.1645510018833547\n",
      "  (0, 8733)\t0.18015100260615685\n",
      "  (0, 7992)\t0.10836950062008444\n",
      "  (0, 3055)\t0.1708433579369093\n",
      "  (0, 495)\t0.12880840596915433\n",
      "  (0, 1897)\t0.23330058467789824\n",
      "  (0, 4057)\t0.23330058467789824\n",
      "  :\t:\n",
      "  (998, 206)\t0.08815189273478231\n",
      "  (999, 3727)\t0.2702249772069396\n",
      "  (999, 1483)\t0.2702249772069396\n",
      "  (999, 7593)\t0.2702249772069396\n",
      "  (999, 354)\t0.2550402823496917\n",
      "  (999, 7386)\t0.23590982927978008\n",
      "  (999, 7362)\t0.2550402823496917\n",
      "  (999, 8084)\t0.23590982927978008\n",
      "  (999, 4025)\t0.21830816257855631\n",
      "  (999, 1376)\t0.22330892197885924\n",
      "  (999, 3725)\t0.1641209518921403\n",
      "  (999, 1231)\t0.24426656989274795\n",
      "  (999, 3237)\t0.22330892197885924\n",
      "  (999, 1011)\t0.20995142196558844\n",
      "  (999, 767)\t0.21830816257855631\n",
      "  (999, 4424)\t0.16758033878164336\n",
      "  (999, 4217)\t0.1580346073372052\n",
      "  (999, 6721)\t0.21830816257855631\n",
      "  (999, 2858)\t0.12189226456606857\n",
      "  (999, 3738)\t0.07923464543571623\n",
      "  (999, 2848)\t0.23828480211815384\n",
      "  (999, 1665)\t0.0851601447949332\n",
      "  (999, 2975)\t0.14820904844762903\n",
      "  (999, 7885)\t0.04973801778768017\n",
      "  (999, 5691)\t0.05900164760760385\n"
     ]
    }
   ],
   "source": [
    "# converting the text data to feature vectors\n",
    "vectorizer = TfidfVectorizer()\n",
    "feature_vectors = vectorizer.fit_transform(combine_feature)\n",
    "print(feature_vectors)"
   ]
  },
  {
   "cell_type": "markdown",
   "id": "1b2fc353-372b-43c0-b429-236c21fe5ae7",
   "metadata": {},
   "source": [
    "# Cosine Similarity"
   ]
  },
  {
   "cell_type": "code",
   "execution_count": 48,
   "id": "c6a8d3af-7e1d-43ee-ba9f-755f23028694",
   "metadata": {},
   "outputs": [
    {
     "name": "stdout",
     "output_type": "stream",
     "text": [
      "[[1.         0.06046774 0.04060199 ... 0.02133447 0.02899224 0.00933189]\n",
      " [0.06046774 1.         0.04458906 ... 0.0069634  0.02655796 0.02538796]\n",
      " [0.04060199 0.04458906 1.         ... 0.00632286 0.01673092 0.00491672]\n",
      " ...\n",
      " [0.02133447 0.0069634  0.00632286 ... 1.         0.03305475 0.00765816]\n",
      " [0.02899224 0.02655796 0.01673092 ... 0.03305475 1.         0.01330482]\n",
      " [0.00933189 0.02538796 0.00491672 ... 0.00765816 0.01330482 1.        ]]\n",
      "(1000, 1000)\n"
     ]
    }
   ],
   "source": [
    "# getting the similarity scores using cosine similarity\n",
    "similarity = cosine_similarity(feature_vectors)\n",
    "print(similarity)\n",
    "print(similarity.shape)"
   ]
  },
  {
   "cell_type": "markdown",
   "id": "adc4b95f-6f44-4aab-b22b-0ee02099e1be",
   "metadata": {},
   "source": [
    "# Getting movie title form user"
   ]
  },
  {
   "cell_type": "code",
   "execution_count": 49,
   "id": "48da1c07-016c-4cdf-9e0c-5d8b6f9fdde3",
   "metadata": {},
   "outputs": [
    {
     "name": "stdin",
     "output_type": "stream",
     "text": [
      "Please Input a title of movie:  Superman\n"
     ]
    }
   ],
   "source": [
    "movie_title = input(\"Please Input a title of movie: \")"
   ]
  },
  {
   "cell_type": "code",
   "execution_count": 50,
   "id": "02649211-cce5-4ffe-9448-00ced0c29683",
   "metadata": {},
   "outputs": [
    {
     "name": "stdout",
     "output_type": "stream",
     "text": [
      "['Guardians of the Galaxy', 'Prometheus', 'Split', 'Sing', 'Suicide Squad', 'The Great Wall', 'La La Land', 'Mindhorn', 'The Lost City of Z', 'Passengers', 'Fantastic Beasts and Where to Find Them', 'Hidden Figures', 'Rogue One', 'Moana', 'Colossal', 'The Secret Life of Pets', 'Hacksaw Ridge', 'Jason Bourne', 'Lion', 'Arrival', 'Gold', 'Manchester by the Sea', 'Hounds of Love', 'Trolls', 'Independence Day: Resurgence', 'Paris pieds nus', 'Bahubali: The Beginning', 'Dead Awake', 'Bad Moms', \"Assassin's Creed\", 'Why Him?', 'Nocturnal Animals', 'X-Men: Apocalypse', 'Deadpool', 'Resident Evil: The Final Chapter', 'Captain America: Civil War', 'Interstellar', 'Doctor Strange', 'The Magnificent Seven', '5/25/1977', 'Sausage Party', 'Moonlight', \"Don't Fuck in the Woods\", 'The Founder', 'Lowriders', 'Pirates of the Caribbean: On Stranger Tides', 'Miss Sloane', 'Fallen', 'Star Trek Beyond', 'The Last Face', 'Star Wars: Episode VII - The Force Awakens', 'Underworld: Blood Wars', \"Mother's Day\", 'John Wick', 'The Dark Knight', 'Silence', \"Don't Breathe\", 'Me Before You', 'Their Finest', 'Sully', 'Batman v Superman: Dawn of Justice', 'The Autopsy of Jane Doe', 'The Girl on the Train', 'Fifty Shades of Grey', 'The Prestige', 'Kingsman: The Secret Service', 'Patriots Day', 'Mad Max: Fury Road', 'Wakefield', 'Deepwater Horizon', 'The Promise', 'Allied', 'A Monster Calls', 'Collateral Beauty', 'Zootopia', \"Pirates of the Caribbean: At World's End\", 'The Avengers', 'Inglourious Basterds', \"Pirates of the Caribbean: Dead Man's Chest\", 'Ghostbusters', 'Inception', 'Captain Fantastic', 'The Wolf of Wall Street', 'Gone Girl', 'Furious Seven', 'Jurassic World', 'Live by Night', 'Avatar', 'The Hateful Eight', 'The Accountant', 'Prisoners', 'Warcraft', 'The Help', 'War Dogs', 'Avengers: Age of Ultron', 'The Nice Guys', 'Kimi no na wa', 'The Void', 'Personal Shopper', 'The Departed', 'Legend', 'Thor', 'The Martian', 'Contratiempo', 'The Man from U.N.C.L.E.', 'Hell or High Water', 'The Comedian', 'The Legend of Tarzan', 'All We Had', 'Ex Machina', 'The Belko Experiment', '12 Years a Slave', 'The Bad Batch', '300', 'Harry Potter and the Deathly Hallows: Part 2', 'Office Christmas Party', 'The Neon Demon', 'Dangal', '10 Cloverfield Lane', 'Finding Dory', \"Miss Peregrine's Home for Peculiar Children\", 'Divergent', 'Mike and Dave Need Wedding Dates', 'Boyka: Undisputed IV', 'The Dark Knight Rises', 'The Jungle Book', 'Transformers: Age of Extinction', 'Nerve', 'Mamma Mia!', 'The Revenant', 'Fences', 'Into the Woods', 'The Shallows', 'Whiplash', 'Furious 6', 'The Place Beyond the Pines', 'No Country for Old Men', 'The Great Gatsby', 'Shutter Island', 'Brimstone', 'Star Trek', 'Diary of a Wimpy Kid', 'The Big Short', 'Room', 'Django Unchained', 'Ah-ga-ssi', 'The Edge of Seventeen', 'Watchmen', 'Superbad', 'Inferno', 'The BFG', 'The Hunger Games', 'White Girl', 'Sicario', 'Twin Peaks: The Missing Pieces', 'Aliens vs Predator - Requiem', 'Pacific Rim', 'Crazy, Stupid, Love.', 'Scott Pilgrim vs. the World', 'Hot Fuzz', 'Mine', 'Free Fire', 'X-Men: Days of Future Past', 'Jack Reacher: Never Go Back', 'Casino Royale', 'Twilight', 'Now You See Me 2', 'Woman in Gold', '13 Hours', 'Spectre', 'Nightcrawler', 'Kubo and the Two Strings', 'Beyond the Gates', 'Her', 'Frozen', 'Tomorrowland', 'Dawn of the Planet of the Apes', 'Tropic Thunder', 'The Conjuring 2', 'Ant-Man', \"Bridget Jones's Baby\", 'The VVitch: A New-England Folktale', 'Cinderella', 'Realive', 'Forushande', 'Love', \"Billy Lynn's Long Halftime Walk\", 'Crimson Peak', 'Drive', 'Trainwreck', 'The Light Between Oceans', 'Below Her Mouth', 'Spotlight', 'Morgan', 'Warrior', 'Captain America: The First Avenger', 'Hacker', 'Into the Wild', 'The Imitation Game', 'Central Intelligence', 'Edge of Tomorrow', 'A Cure for Wellness', 'Snowden', 'Iron Man', 'Allegiant', 'X: First Class', 'Raw (II)', 'Paterson', 'Bridesmaids', 'The Girl with All the Gifts', 'San Andreas', 'Spring Breakers', 'Transformers', 'Old Boy', 'Thor: The Dark World', 'Gods of Egypt', 'Captain America: The Winter Soldier', 'Monster Trucks', 'A Dark Song', 'Kick-Ass', 'Hardcore Henry', 'Cars', 'It Follows', 'The Girl with the Dragon Tattoo', \"We're the Millers\", 'American Honey', 'The Lobster', 'Predators', 'Maleficent', 'Rupture', \"Pan's Labyrinth\", 'A Kind of Murder', 'Apocalypto', 'Mission: Impossible - Rogue Nation', \"The Huntsman: Winter's War\", 'The Perks of Being a Wallflower', 'Jackie', 'The Disappointments Room', 'The Grand Budapest Hotel', 'The Host', 'Fury', 'Inside Out', 'Rock Dog', 'Terminator Genisys', 'Percy Jackson & the Olympians: The Lightning Thief', 'Les Misérables', 'Children of Men', '20th Century Women', 'Spy', 'The Intouchables', 'Bonjour Anne', 'Kynodontas', 'Straight Outta Compton', 'The Amazing Spider-Man 2', 'The Conjuring', 'The Hangover', 'Battleship', 'Rise of the Planet of the Apes', 'Lights Out', 'Norman: The Moderate Rise and Tragic Fall of a New York Fixer', 'Birdman or (The Unexpected Virtue of Ignorance)', 'Black Swan', 'Dear White People', 'Nymphomaniac: Vol. I', 'Teenage Mutant Ninja Turtles: Out of the Shadows', 'Knock Knock', 'Dirty Grandpa', 'Cloud Atlas', 'X-Men Origins: Wolverine', 'Satanic', 'Skyfall', 'The Hobbit: An Unexpected Journey', '21 Jump Street', 'Sing Street', 'Ballerina', 'Oblivion', '22 Jump Street', 'Zodiac', 'Everybody Wants Some!!', 'Iron Man Three', 'Now You See Me', 'Sherlock Holmes', 'Death Proof', 'The Danish Girl', 'Hercules', 'Sucker Punch', 'Keeping Up with the Joneses', 'Jupiter Ascending', 'Masterminds', 'Iris', 'Busanhaeng', 'Pitch Perfect', 'Neighbors 2: Sorority Rising', 'The Exception', 'Man of Steel', 'The Choice', 'Ice Age: Collision Course', 'The Devil Wears Prada', 'The Infiltrator', 'There Will Be Blood', 'The Equalizer', 'Lone Survivor', 'The Cabin in the Woods', 'The House Bunny', \"She's Out of My League\", 'Inherent Vice', 'Alice Through the Looking Glass', 'Vincent N Roxxy', 'The Fast and the Furious: Tokyo Drift', 'How to Be Single', 'The Blind Side', \"La vie d'Adèle\", 'The Babadook', 'The Hobbit: The Battle of the Five Armies', 'Harry Potter and the Order of the Phoenix', 'Snowpiercer', 'The 5th Wave', 'The Stakelander', 'The Visit', 'Fast Five', 'Step Up', 'Lovesong', 'RocknRolla', 'In Time', 'The Social Network', 'The Last Witch Hunter', 'Victor Frankenstein', 'A Street Cat Named Bob', 'Green Room', 'Blackhat', 'Storks', 'American Sniper', 'Dallas Buyers Club', 'Lincoln', 'Rush', 'Before I Wake', 'Silver Linings Playbook', 'Tracktown', 'The Fault in Our Stars', 'Blended', 'Fast & Furious', 'Looper', 'White House Down', \"Pete's Dragon\", 'Spider-Man 3', 'The Three Musketeers', 'Stardust', 'American Hustle', \"Jennifer's Body\", 'Midnight in Paris', 'Lady Macbeth', 'Joy', 'The Dressmaker', 'Café Society', 'Insurgent', 'Seventh Son', 'Demain tout commence', 'The Theory of Everything', 'This Is the End', 'About Time', 'Step Brothers', 'Clown', 'Star Trek Into Darkness', 'Zombieland', 'Hail, Caesar!', 'Slumdog Millionaire', 'The Twilight Saga: Breaking Dawn - Part 2', 'American Wrestler: The Wizard', 'The Amazing Spider-Man', 'Ben-Hur', 'Sleight', 'The Maze Runner', 'Criminal', 'Wanted', 'Florence Foster Jenkins', 'Collide', 'Black Mass', 'Creed', 'Swiss Army Man', 'The Expendables 3', 'What We Do in the Shadows', 'Southpaw', 'Hush', 'Bridge of Spies', 'The Lego Movie', 'Everest', 'Pixels', 'Robin Hood', 'The Wolverine', 'John Carter', 'Keanu', 'The Gunman', 'Steve Jobs', 'Whisky Galore', 'Grown Ups 2', 'The Age of Adaline', 'The Incredible Hulk', 'Couples Retreat', 'Absolutely Anything', 'Magic Mike', 'Minions', 'The Black Room', 'Bronson', 'Despicable Me', 'The Best of Me', 'The Invitation', 'Zero Dark Thirty', 'Tangled', 'The Hunger Games: Mockingjay - Part 2', 'Vacation', 'Taken', 'Pitch Perfect 2', 'Monsters University', 'Elle', 'Mechanic: Resurrection', 'Tusk', \"The Headhunter's Calling\", 'Atonement', 'Harry Potter and the Deathly Hallows: Part 1', 'Shame', 'Hanna', 'The Babysitters', 'Pride and Prejudice and Zombies', '300: Rise of an Empire', 'London Has Fallen', 'The Curious Case of Benjamin Button', 'Sin City: A Dame to Kill For', 'The Bourne Ultimatum', 'Srpski film', 'The Purge: Election Year', '3 Idiots', 'Zoolander 2', 'World War Z', 'Mission: Impossible - Ghost Protocol', 'Let Me Make You a Martyr', 'Filth', 'The Longest Ride', 'The imposible', 'Kick-Ass 2', 'Folk Hero & Funny Guy', 'Oz the Great and Powerful', 'Brooklyn', 'Coraline', 'Blue Valentine', 'The Thinning', 'Silent Hill', 'Dredd', 'Hunt for the Wilderpeople', 'Big Hero 6', 'Carrie', 'Iron Man 2', 'Demolition', 'Pandorum', 'Olympus Has Fallen', 'I Am Number Four', 'Jagten', 'The Proposal', 'Get Hard', 'Just Go with It', 'Revolutionary Road', 'The Town', 'The Boy', 'Denial', 'Predestination', 'Goosebumps', 'Sherlock Holmes: A Game of Shadows', 'Salt', 'Enemy', 'District 9', 'The Other Guys', 'American Gangster', 'Marie Antoinette', '2012', 'Harry Potter and the Half-Blood Prince', 'Argo', 'Eddie the Eagle', 'The Lives of Others', 'Pet', 'Paint It Black', 'Macbeth', 'Forgetting Sarah Marshall', 'The Giver', 'Triple 9', 'Perfetti sconosciuti', 'Angry Birds', 'Moonrise Kingdom', 'Hairspray', 'Safe Haven', 'Focus', 'Ratatouille', 'Stake Land', 'The Book of Eli', 'Cloverfield', 'Point Break', 'Under the Skin', 'I Am Legend', 'Men in Black 3', 'Super 8', 'Law Abiding Citizen', 'Up', 'Maze Runner: The Scorch Trials', 'Carol', 'Imperium', 'Youth', 'Mr. Nobody', 'City of Tiny Lights', 'Savages', '(500) Days of Summer', 'Movie 43', 'Gravity', 'The Boy in the Striped Pyjamas', 'Shooter', 'The Happening', 'Bone Tomahawk', 'Magic Mike XXL', 'Easy A', 'Exodus: Gods and Kings', 'Chappie', 'The Hobbit: The Desolation of Smaug', 'Half of a Yellow Sun', 'Anthropoid', 'The Counselor', 'Viking', 'Whiskey Tango Foxtrot', 'Trust', 'Birth of the Dragon', 'Elysium', 'The Green Inferno', 'Godzilla', 'The Bourne Legacy', 'A Good Year', 'Friend Request', 'Deja Vu', 'Lucy', 'A Quiet Passion', 'Need for Speed', 'Jack Reacher', 'The Do-Over', 'True Crimes', 'American Pastoral', 'The Ghost Writer', 'Limitless', 'Spectral', 'P.S. I Love You', 'Zipper', 'Midnight Special', \"Don't Think Twice\", 'Alice in Wonderland', 'Chuck', 'I, Daniel Blake', 'The Break-Up', 'Loving', 'Fantastic Four', 'The Survivalist', 'Colonia', 'The Boy Next Door', 'The Gift', 'Dracula Untold', 'In the Heart of the Sea', 'Idiocracy', 'The Expendables', 'Evil Dead', 'Sinister', 'Wreck-It Ralph', 'Snow White and the Huntsman', 'Pan', 'Transformers: Dark of the Moon', 'Juno', 'A Hologram for the King', 'Money Monster', 'The Other Woman', 'Enchanted', 'The Intern', 'Little Miss Sunshine', 'Bleed for This', 'Clash of the Titans', 'The Finest Hours', 'Tron', 'The Hunger Games: Catching Fire', 'All Good Things', 'Kickboxer: Vengeance', 'The Last Airbender', 'Sex Tape', \"What to Expect When You're Expecting\", 'Moneyball', 'Ghost Rider', 'Unbroken', 'Immortals', 'Sunshine', 'Brave', 'Män som hatar kvinnor', 'Adoration', 'The Drop', \"She's the Man\", \"Daddy's Home\", 'Let Me In', 'Never Back Down', 'Grimsby', 'Moon', 'Megamind', 'Gangster Squad', 'Blood Father', \"He's Just Not That Into You\", 'Kung Fu Panda 3', 'The Rise of the Krays', 'Handsome Devil', \"Winter's Bone\", 'Horrible Bosses', 'Mommy', 'Hellboy II: The Golden Army', 'Beautiful Creatures', 'Toni Erdmann', 'The Lovely Bones', 'The Assassination of Jesse James by the Coward Robert Ford', 'Don Jon', 'Bastille Day', \"2307: Winter's Dream\", 'Free State of Jones', 'Mr. Right', 'The Secret Life of Walter Mitty', 'Dope', 'Underworld Awakening', 'Antichrist', 'Friday the 13th', 'Taken 3', 'Total Recall', 'X-Men: The Last Stand', 'The Escort', 'The Whole Truth', 'Night at the Museum: Secret of the Tomb', 'Love & Other Drugs', 'The Interview', 'The Host', 'Megan Is Missing', 'WALL·E', 'Knocked Up', 'Source Code', 'Lawless', 'Unfriended', 'American Reunion', 'The Pursuit of Happyness', 'Relatos salvajes', 'The Ridiculous 6', 'Frantz', 'Viral', 'Gran Torino', 'Burnt', 'Tall Men', 'Sleeping Beauty', 'Vampire Academy', 'Sweeney Todd: The Demon Barber of Fleet Street', 'Solace', 'Insidious', 'Popstar: Never Stop Never Stopping', 'The Levelling', 'Public Enemies', 'Boyhood', 'Teenage Mutant Ninja Turtles', 'Eastern Promises', 'The Daughter', 'Pineapple Express', 'The First Time', 'Gone Baby Gone', 'The Heat', \"L'avenir\", 'Anna Karenina', 'Regression', 'Ted 2', 'Pain & Gain', 'Blood Diamond', \"Devil's Knot\", 'Child 44', 'The Hurt Locker', 'Green Lantern', 'War on Everyone', 'The Mist', 'Escape Plan', 'Love, Rosie', 'The DUFF', 'The Age of Shadows', 'The Hunger Games: Mockingjay - Part 1', 'We Need to Talk About Kevin', 'Love & Friendship', 'The Mortal Instruments: City of Bones', 'Seven Pounds', \"The King's Speech\", 'Hunger', 'Jumper', 'Toy Story 3', 'Tinker Tailor Soldier Spy', 'Resident Evil: Retribution', 'Dear Zindagi', 'Genius', 'Pompeii', 'Life of Pi', \"Hachi: A Dog's Tale\", '10 Years', 'I Origins', 'Live Free or Die Hard', 'The Matchbreaker', 'Funny Games', 'Ted', 'RED', 'Australia', 'Faster', 'The Neighbor', 'The Adjustment Bureau', 'The Hollars', 'The Judge', 'Closed Circuit', 'Transformers: Revenge of the Fallen', 'La tortue rouge', 'The Book of Life', 'Incendies', 'The Heartbreak Kid', 'Happy Feet', 'Entourage', 'The Strangers', 'Noah', 'Neighbors', 'Nymphomaniac: Vol. II', 'Wild', 'Grown Ups', 'Blair Witch', 'The Karate Kid', 'Dark Shadows', 'Friends with Benefits', 'The Illusionist', 'The A-Team', 'The Guest', 'The Internship', 'Paul', 'This Beautiful Fantastic', 'The Da Vinci Code', 'Mr. Church', 'Hugo', \"The Blackcoat's Daughter\", 'Body of Lies', 'Knight of Cups', 'The Mummy: Tomb of the Dragon Emperor', 'The Boss', 'Hands of Stone', 'El secreto de sus ojos', 'True Grit', 'We Are Your Friends', 'A Million Ways to Die in the West', 'Only for One Night', \"Rules Don't Apply\", 'Ouija: Origin of Evil', 'Percy Jackson: Sea of Monsters', 'Fracture', 'Oculus', 'In Bruges', 'This Means War', 'Lída Baarová', 'The Road', 'Lavender', 'Deuces', 'Conan the Barbarian', 'The Fighter', 'August Rush', 'Chef', 'Eye in the Sky', 'Eagle Eye', 'The Purge', 'PK', \"Ender's Game\", 'Indiana Jones and the Kingdom of the Crystal Skull', 'Paper Towns', 'High-Rise', 'Quantum of Solace', 'The Assignment', 'How to Train Your Dragon', 'Lady in the Water', 'The Fountain', 'Cars 2', '31', 'Final Girl', 'Chalk It Up', 'The Man Who Knew Infinity', 'Unknown', 'Self/less', 'Mr. Brooks', 'Tramps', 'Before We Go', 'Captain Phillips', 'The Secret Scripture', 'Max Steel', 'Hotel Transylvania 2', 'Hancock', 'Sisters', 'The Family', 'Zack and Miri Make a Porno', 'Ma vie de Courgette', 'Man on a Ledge', 'No Strings Attached', 'Rescue Dawn', 'Despicable Me 2', 'A Walk Among the Tombstones', \"The World's End\", 'Yoga Hosers', 'Seven Psychopaths', 'Beowulf', 'Jack Ryan: Shadow Recruit', '1408', 'The Gambler', 'Prince of Persia: The Sands of Time', 'The Spectacular Now', 'A United Kingdom', 'USS Indianapolis: Men of Courage', 'Turbo Kid', 'Mama', 'Orphan', 'To Rome with Love', 'Fantastic Mr. Fox', 'Inside Man', 'I.T.', '127 Hours', 'Annabelle', 'Wolves at the Door', 'Suite Française', 'The Imaginarium of Doctor Parnassus', 'G.I. Joe: The Rise of Cobra', 'Christine', 'Man Down', 'Crawlspace', 'Shut In', 'The Warriors Gate', 'Grindhouse', 'Disaster Movie', 'Rocky Balboa', 'Diary of a Wimpy Kid: Dog Days', 'Jane Eyre', \"Fool's Gold\", 'The Dictator', 'The Loft', 'Bacalaureat', \"You Don't Mess with the Zohan\", 'Exposed', 'Maudie', 'Horrible Bosses 2', 'A Bigger Splash', 'Melancholia', 'The Princess and the Frog', 'Unstoppable', 'Flight', 'Home', 'La migliore offerta', 'Mean Dreams', '42', '21', 'Begin Again', 'Out of the Furnace', 'Vicky Cristina Barcelona', 'Kung Fu Panda', 'Barbershop: The Next Cut', 'Terminator Salvation', 'Freedom Writers', 'The Hills Have Eyes', 'Changeling', 'Remember Me', 'Koe no katachi', 'Alexander and the Terrible, Horrible, No Good, Very Bad Day', 'Locke', 'The 9th Life of Louis Drax', 'Horns', 'Indignation', 'The Stanford Prison Experiment', 'Diary of a Wimpy Kid: Rodrick Rules', 'Mission: Impossible III', 'En man som heter Ove', 'Dragonball Evolution', 'Red Dawn', 'One Day', 'Life as We Know It', '28 Weeks Later', 'Warm Bodies', 'Blue Jasmine', 'G.I. Joe: Retaliation', 'Wrath of the Titans', 'Shin Gojira', 'Saving Mr. Banks', 'Transcendence', 'Rio', 'Equals', 'Babel', 'The Tree of Life', 'The Lucky One', 'Piranha 3D', '50/50', 'The Intent', 'This Is 40', 'Real Steel', 'Sex and the City', 'Rambo', 'Planet Terror', 'Concussion', 'The Fall', 'The Ugly Truth', 'Bride Wars', 'Sleeping with Other People', 'Snakes on a Plane', 'What If', 'How to Train Your Dragon 2', 'RoboCop', 'In Dubious Battle', 'Hello, My Name Is Doris', \"Ocean's Thirteen\", 'Slither', 'Contagion', 'Il racconto dei racconti - Tale of Tales', 'I Am the Pretty Thing That Lives in the House', 'Bridge to Terabithia', 'Coherence', 'Notorious', 'Goksung', 'The Expendables 2', 'The Girl Next Door', 'Perfume: The Story of a Murderer', 'The Golden Compass', 'Centurion', 'Scouts Guide to the Zombie Apocalypse', '17 Again', 'No Escape', 'Superman Returns', 'The Twilight Saga: Breaking Dawn - Part 1', 'Precious', 'The Sea of Trees', 'Good Kids', 'The Master', 'Footloose', 'If I Stay', 'The Ticket', 'Detour', 'The Love Witch', 'Talladega Nights: The Ballad of Ricky Bobby', 'The Human Centipede (First Sequence)', 'Super', 'The Siege of Jadotville', 'Up in the Air', 'The Midnight Meat Train', 'The Twilight Saga: Eclipse', 'Transpecos', \"What's Your Number?\", 'Riddick', 'Triangle', 'The Butler', 'King Cobra', 'After Earth', 'Kicks', 'Me and Earl and the Dying Girl', 'The Descendants', 'Sex and the City 2', 'The Kings of Summer', 'Death Race', 'That Awkward Moment', 'Legion', 'End of Watch', '3 Days to Kill', 'Lucky Number Slevin', 'Trance', 'Into the Forest', 'The Other Boleyn Girl', 'I Spit on Your Grave', 'Custody', 'Inland Empire', \"L'odyssée\", 'The Walk', 'Wrecker', 'The Lone Ranger', 'Texas Chainsaw 3D', 'Disturbia', 'Rock of Ages', 'Scream 4', 'Queen of Katwe', 'My Big Fat Greek Wedding 2', 'Dark Places', 'Amateur Night', \"It's Only the End of the World\", 'The Skin I Live In', 'Miracles from Heaven', 'Annie', 'Across the Universe', \"Let's Be Cops\", 'Max', 'Your Highness', 'Final Destination 5', 'Endless Love', 'Martyrs', 'Selma', 'Underworld: Rise of the Lycans', 'Taare Zameen Par', 'Take Me Home Tonight', 'Resident Evil: Afterlife', 'Project X', 'Secret in Their Eyes', 'Hostel: Part II', 'Step Up 2: The Streets', 'Search Party', 'Nine Lives']\n"
     ]
    }
   ],
   "source": [
    "# creating a list with all the movie names given in the dataset\n",
    "#movie['Title'] = movie['Title'].astype(int)\n",
    "list_of_all_titles = movie['Title'].tolist()\n",
    "print(list_of_all_titles)"
   ]
  },
  {
   "cell_type": "code",
   "execution_count": 51,
   "id": "cf160f08-c57c-4396-976d-cd2e9b11cfb9",
   "metadata": {},
   "outputs": [
    {
     "name": "stdout",
     "output_type": "stream",
     "text": [
      "['Super', 'Superbad', 'Superman Returns']\n",
      "Super\n"
     ]
    }
   ],
   "source": [
    "# finding the close match for the movie name given by the user\n",
    "find_close_match = difflib.get_close_matches(movie_title, list_of_all_titles)\n",
    "print(find_close_match)\n",
    "close_match = find_close_match[0]\n",
    "print(close_match)"
   ]
  },
  {
   "cell_type": "code",
   "execution_count": 52,
   "id": "b04de45d-dde2-492e-9f7d-4fa8ac6183e2",
   "metadata": {},
   "outputs": [
    {
     "name": "stdout",
     "output_type": "stream",
     "text": [
      "938\n"
     ]
    }
   ],
   "source": [
    "# finding the index of the movie with title\n",
    "index_of_the_movie = movie[movie.Title == close_match]['Rank'].values[0]\n",
    "print(index_of_the_movie)"
   ]
  },
  {
   "cell_type": "code",
   "execution_count": 53,
   "id": "7218a01b-26ab-42d7-967e-5b0f01eed7ae",
   "metadata": {},
   "outputs": [
    {
     "name": "stdout",
     "output_type": "stream",
     "text": [
      "[(0, 0.010093927311696959), (1, 0.016320380502935102), (2, 0.01650861528618175), (3, 0.011246843950633386), (4, 0.016315894304142913), (5, 0.07361150961870715), (6, 0.007759155545601314), (7, 0.021061222614040413), (8, 0.022892068929524275), (9, 0.04638548251538995), (10, 0.012717961965963066), (11, 0.06384000392233051), (12, 0.01992035000947584), (13, 0.01229878025332043), (14, 0.02797205528159247), (15, 0.007160688658429466), (16, 0.033666832936989535), (17, 0.0181347359171835), (18, 0.031689057651487454), (19, 0.0313388238406142), (20, 0.045007739393046434), (21, 0.007653161881631385), (22, 0.016423703823706715), (23, 0.03285485290013431), (24, 0.014315657537208547), (25, 0.002811926341392989), (26, 0.01813926085054078), (27, 0.013255790034186792), (28, 0.004726988585825302), (29, 0.032857949074498315), (30, 0.03161191071936978), (31, 0.03144405956974262), (32, 0.029981933975218436), (33, 0.019138516440762046), (34, 0.04042309571008662), (35, 0.015995563195279065), (36, 0.01119146354960348), (37, 0.015859833376136986), (38, 0.0332717130258461), (39, 0.055918734500728325), (40, 0.004741616263270265), (41, 0.012478604899433293), (42, 0.010574539999772826), (43, 0.032808540455717655), (44, 0.013860333600977886), (45, 0.014434339875327768), (46, 0.08023216760901845), (47, 0.013403275708278612), (48, 0.021427438018599348), (49, 0.0070184990561453706), (50, 0.03294002392476199), (51, 0.017238708929748138), (52, 0.03421998895467904), (53, 0.03140947055824853), (54, 0.04275821927378639), (55, 0.014771480886807454), (56, 0.016878652859514044), (57, 0.01375827369814372), (58, 0.012589136244706752), (59, 0.019371181131468934), (60, 0.02165947301145761), (61, 0.07065032896492338), (62, 0.006880168543170747), (63, 0.07840558141739978), (64, 0.026029092865361522), (65, 0.019136426291024695), (66, 0.05326587307467536), (67, 0.04100987157160186), (68, 0.06091787314942138), (69, 0.04831997526518998), (70, 0.05040310318832408), (71, 0.05516627415764076), (72, 0.0147906428642123), (73, 0.022668092970969115), (74, 0.023014627635587422), (75, 0.03738352642728118), (76, 0.014359513571658267), (77, 0.03150393477086234), (78, 0.012992349608958799), (79, 0.012244193035565298), (80, 0.01172344574844322), (81, 0.02408780499540924), (82, 0.01402164725253007), (83, 0.016098748208853306), (84, 0.061267058964289106), (85, 0.009843535697228262), (86, 0.0746812124012267), (87, 0.015569888318508772), (88, 0.03284824962441711), (89, 0.02577319792436201), (90, 0.0426047959379592), (91, 0.014261308971945684), (92, 0.06322485666519967), (93, 0.015362196211801906), (94, 0.025809772909523757), (95, 0.015984164201187152), (96, 0.009600310664036936), (97, 0.002475306897823416), (98, 0.01911230704997421), (99, 0.08730670141084465), (100, 0.0699089435213604), (101, 0.01187396169054505), (102, 0.03455558236359957), (103, 0.01164770058967218), (104, 0.08966880963855003), (105, 0.02151250511670543), (106, 0.004454151671423401), (107, 0.02271125218542857), (108, 0.02768040192833032), (109, 0.012649593210950707), (110, 0.025418496539218526), (111, 0.03744052928056837), (112, 0.030865776077292295), (113, 0.016243690697455435), (114, 0.029306493706117), (115, 0.03000176897094007), (116, 0.008954587919440662), (117, 0.01797264255277925), (118, 0.01912072632447679), (119, 0.012547605390903839), (120, 0.011853779757404481), (121, 0.012385775286433438), (122, 0.006373533194331239), (123, 0.02391526968730131), (124, 0.03444772601102318), (125, 0.01996841252015514), (126, 0.038596070588817796), (127, 0.003148967486019175), (128, 0.007537449840347773), (129, 0.018988062127092697), (130, 0.020474536671732376), (131, 0.015460991314825895), (132, 0.016842698399290246), (133, 0.0026201858419701825), (134, 0.054269202438760794), (135, 0.016009956118491386), (136, 0.021438612359787185), (137, 0.012557571650083), (138, 0.04084482126657733), (139, 0.024918997842792914), (140, 0.023029540987607466), (141, 0.017163450269691027), (142, 0.02675324435450097), (143, 0.008068818698889296), (144, 0.03942605838413875), (145, 0.005903225486871749), (146, 0.002920286648733416), (147, 0.015767761893390544), (148, 0.017459074581143503), (149, 0.04174500577612436), (150, 0.023299810730672693), (151, 0.0227212629771057), (152, 0.002806565812848171), (153, 0.0427748850403866), (154, 0.021645922592457786), (155, 0.007391835650924456), (156, 0.018365988912634402), (157, 0.011908277623526699), (158, 0.02201286902424415), (159, 0.023864630414433836), (160, 0.03285788689613691), (161, 0.018811444825488972), (162, 0.02508618203534741), (163, 0.016511752644095025), (164, 0.021854925371194066), (165, 0.01623886724586092), (166, 0.05593519473477123), (167, 0.006618829085100734), (168, 0.05310199247066927), (169, 0.019409289876103276), (170, 0.023084778572705536), (171, 0.007193622920939957), (172, 0.005768933588389068), (173, 0.04072336333786299), (174, 0.016042957720183548), (175, 0.023185095615355537), (176, 0.010983966281308072), (177, 0.008645936841832676), (178, 0.013386338701844294), (179, 0.05654566569095971), (180, 0.011323832215117695), (181, 0.010681115372512987), (182, 0.007493841217340865), (183, 0.012807035177562499), (184, 0.01710936980207218), (185, 0.018317603631270846), (186, 0.013593345381423594), (187, 0.019579221821821112), (188, 0.012230588637567987), (189, 0.0028970601292318808), (190, 0.04477774918837714), (191, 0.002871697210335034), (192, 0.046525264313290904), (193, 0.049369732851139415), (194, 0.02228080706712083), (195, 0.006238773306817566), (196, 0.025088224137215086), (197, 0.014234405724882722), (198, 0.04033343461463769), (199, 0.014860864860675995), (200, 0.015398727238015431), (201, 0.025234478809272105), (202, 0.028713094469883897), (203, 0.008295012960967239), (204, 0.025209491485345986), (205, 0.03469971575073728), (206, 0.005824568027408371), (207, 0.022971079525001145), (208, 0.01413497913613034), (209, 0.023942076516583935), (210, 0.030531995782025173), (211, 0.009725075242911501), (212, 0.03744813453283972), (213, 0.01732843271273883), (214, 0.026245556774185802), (215, 0.03954838570623263), (216, 0.023676558998625353), (217, 0.007936751798467553), (218, 0.026765673792921944), (219, 0.006920810708021774), (220, 0.0202696536377392), (221, 0.013474978634910685), (222, 0.0), (223, 0.035208007385404735), (224, 0.021611488986631386), (225, 0.02353702369761376), (226, 0.04147842800803151), (227, 0.007922911494845556), (228, 0.01222005340663087), (229, 0.02249411613590567), (230, 0.012626060344528069), (231, 0.0936843859969242), (232, 0.017053988955412804), (233, 0.02197865520964429), (234, 0.014350696467159776), (235, 0.012021931739553522), (236, 0.009997754079143727), (237, 0.019278695326100253), (238, 0.019968581196201162), (239, 0.012865558870463374), (240, 0.027397234071849116), (241, 0.006973902017551061), (242, 0.006623876455510344), (243, 0.027909032165223013), (244, 0.010873188011032032), (245, 0.012256692651487556), (246, 0.03038371022948002), (247, 0.016179285765834696), (248, 0.028939740762569253), (249, 0.0067245525049811055), (250, 0.011169862184752594), (251, 0.009223285710222883), (252, 0.048625089709008286), (253, 0.03373251513533151), (254, 0.014966575183470266), (255, 0.023429071577472697), (256, 0.01807238460623453), (257, 0.037673828284203105), (258, 0.009308596393584733), (259, 0.02557954491183078), (260, 0.02198143542163276), (261, 0.01708622509537067), (262, 0.008079857425507077), (263, 0.007309850479741584), (264, 0.024186744254368734), (265, 0.014601102577287188), (266, 0.0), (267, 0.01607865287423703), (268, 0.059024785278984956), (269, 0.023557171785742244), (270, 0.019771858406035233), (271, 0.01873649254532667), (272, 0.012043505485016488), (273, 0.031251104347875876), (274, 0.01094182820411264), (275, 0.008387043130444465), (276, 0.010818588304906809), (277, 0.09449506787245025), (278, 0.010416207549287902), (279, 0.011786044334902823), (280, 0.08144792255575735), (281, 0.0737084472429734), (282, 0.006864075987339802), (283, 0.010935792019876454), (284, 0.01619825385751399), (285, 0.004986101807108611), (286, 0.008697271294059759), (287, 0.01425960961414315), (288, 0.021336485868890587), (289, 0.023130747384810912), (290, 0.013843635789702904), (291, 0.021981524896050274), (292, 0.014817317132542637), (293, 0.04498630709115761), (294, 0.024201352951083232), (295, 0.015133138680917037), (296, 0.036734220667821296), (297, 0.009879810053317598), (298, 0.0031810900396736118), (299, 0.050962304539298765), (300, 0.052831299165942446), (301, 0.033748743025511424), (302, 0.01411995561906947), (303, 0.006893413060991144), (304, 0.017509611621453283), (305, 0.010501527021838432), (306, 0.015323870455596975), (307, 0.03358532482979779), (308, 0.03430979858668495), (309, 0.0080141375451704), (310, 0.033166193445784364), (311, 0.015151817494491533), (312, 0.018909961318632436), (313, 0.0355053620833311), (314, 0.011621023250982786), (315, 0.04133494911356852), (316, 0.008390270241606382), (317, 0.023355575688050325), (318, 0.0078066270772146305), (319, 0.023821440055319554), (320, 0.018742729116406072), (321, 0.02796440139075073), (322, 0.018666406291509695), (323, 0.04531950424086398), (324, 0.05175223820601216), (325, 0.022879490820591604), (326, 0.025034822788976993), (327, 0.013899261184508132), (328, 0.007567528022599068), (329, 0.01899153994322232), (330, 0.009443632311609699), (331, 0.017348601519163738), (332, 0.024831156950368728), (333, 0.027375060281855775), (334, 0.016266547994807916), (335, 0.0060984997009025784), (336, 0.0983392361291422), (337, 0.027758315587813272), (338, 0.006807827155164297), (339, 0.005830124528066414), (340, 0.026016851192939464), (341, 0.02238137544650361), (342, 0.07699084302294198), (343, 0.00679769035290736), (344, 0.02218635070981987), (345, 0.05887383502352821), (346, 0.006575743882274233), (347, 0.05708276778149751), (348, 0.006984220970304128), (349, 0.010194699851590718), (350, 0.010938230695800282), (351, 0.015188333239971149), (352, 0.018917982181731356), (353, 0.02581913996970791), (354, 0.03499550550416527), (355, 0.02087951041810917), (356, 0.034102059552468256), (357, 0.01599073355257266), (358, 0.01109546098124864), (359, 0.016000465282432916), (360, 0.01945455971705663), (361, 0.007813401491952688), (362, 0.0367425546367318), (363, 0.007874901136376199), (364, 0.016974205679548014), (365, 0.013359608921702643), (366, 0.027487370272153974), (367, 0.024145253304555518), (368, 0.010546043990559776), (369, 0.013317741956429409), (370, 0.011655136597561056), (371, 0.01519913311806001), (372, 0.01874221991570088), (373, 0.011987093802619215), (374, 0.006694671229934242), (375, 0.021145683594425545), (376, 0.021806203618785096), (377, 0.025635521771148355), (378, 0.005937510017163398), (379, 0.035607273422159524), (380, 0.00811778430645756), (381, 0.008444313611596968), (382, 0.02571642523554489), (383, 0.05112148927419355), (384, 0.01099441154436305), (385, 0.03138475857669106), (386, 0.01892338479775431), (387, 0.04303557775387472), (388, 0.008560909413089098), (389, 0.008938625161022352), (390, 0.02388858192519106), (391, 0.10089864706674478), (392, 0.03867289651962991), (393, 0.0), (394, 0.00916574337255064), (395, 0.012558744353980402), (396, 0.01704002965268048), (397, 0.028180829349093234), (398, 0.010923655605385333), (399, 0.0062110413791464664), (400, 0.022032547335117957), (401, 0.018385611433425632), (402, 0.02543909352713845), (403, 0.020639920170467303), (404, 0.01683802084996238), (405, 0.012718643684614558), (406, 0.07485985433469731), (407, 0.014875013304969396), (408, 0.03972505372040544), (409, 0.017637464684753107), (410, 0.015046463357699295), (411, 0.01237666802912425), (412, 0.030694394805055335), (413, 0.020845917362747293), (414, 0.02514655304321944), (415, 0.027183401485378417), (416, 0.0340584123331988), (417, 0.006118362068319283), (418, 0.039777221527847476), (419, 0.016798703164719486), (420, 0.021002648631192264), (421, 0.00915191737691835), (422, 0.018962805107014976), (423, 0.05322483347668113), (424, 0.020058048110270114), (425, 0.014668200304323979), (426, 0.01934942408882815), (427, 0.036598320617432796), (428, 0.015554090521325215), (429, 0.007378486489092851), (430, 0.014426817298159141), (431, 0.01023246489575727), (432, 0.03457420035874341), (433, 0.029829722209208147), (434, 0.03209019573572133), (435, 0.03592576858856353), (436, 0.01527934642603468), (437, 0.03259772788865027), (438, 0.030260940470065757), (439, 0.0025390474699147547), (440, 0.011995723245371646), (441, 0.05819638258129328), (442, 0.0), (443, 0.007007166585027087), (444, 0.026054647803462044), (445, 0.007011122990357891), (446, 0.024943269645354524), (447, 0.012694016197925376), (448, 0.04045238892841046), (449, 0.004812452510510487), (450, 0.02721318111124209), (451, 0.0286038853240205), (452, 0.011814415899762133), (453, 0.028523866348610323), (454, 0.016068161571596115), (455, 0.007317903450673751), (456, 0.0161843108953574), (457, 0.0027439223855723464), (458, 0.002890175053473685), (459, 0.0354068574107015), (460, 0.014320834916034414), (461, 0.009112957677857705), (462, 0.008468222422970751), (463, 0.023060151867282074), (464, 0.017565015781158235), (465, 0.010807148789971714), (466, 0.010287600463387416), (467, 0.012459245319044616), (468, 0.03572156706966394), (469, 0.025051550149504533), (470, 0.020534763306944828), (471, 0.028522136923736428), (472, 0.005488954606146142), (473, 0.020000150343690515), (474, 0.033332997084242005), (475, 0.017181456940928798), (476, 0.017355015471245936), (477, 0.02345519890704032), (478, 0.013610586531096201), (479, 0.025453667399226387), (480, 0.0399430251612331), (481, 0.014588784015724665), (482, 0.04387883563297669), (483, 0.017812100641603032), (484, 0.024341858015353428), (485, 0.003194869024886316), (486, 0.0026717644336794865), (487, 0.029198575071906287), (488, 0.011981230476548789), (489, 0.006483866268351567), (490, 0.014414356201562444), (491, 0.01840619269729255), (492, 0.03228378756076841), (493, 0.004795943063133728), (494, 0.012973637226350481), (495, 0.015956203596638033), (496, 0.047973938802756966), (497, 0.038656420288843876), (498, 0.04672195282065137), (499, 0.009360595562720564), (500, 0.02686396111820607), (501, 0.04641045721729704), (502, 0.019024244007244884), (503, 0.027652987303109416), (504, 0.012164441461194175), (505, 0.017026970041771654), (506, 0.058826276113850315), (507, 0.010106408595255821), (508, 0.006989419009825873), (509, 0.015620155617523217), (510, 0.09110469631277418), (511, 0.06200661495746414), (512, 0.030095475887218223), (513, 0.011598497801817867), (514, 0.018110438430182674), (515, 0.009704231188789877), (516, 0.03236785830634845), (517, 0.0297598509037217), (518, 0.019108874802838474), (519, 0.0335709468985684), (520, 0.08229308260457008), (521, 0.03570290362595834), (522, 0.017074825080045528), (523, 0.007779828056534469), (524, 0.03442466599132703), (525, 0.013191940449998394), (526, 0.025950274286227405), (527, 0.011836480063120642), (528, 0.017404164510565603), (529, 0.016413896516887846), (530, 0.010974747399984693), (531, 0.0069844742963621476), (532, 0.027225350994376542), (533, 0.02110893996452147), (534, 0.03585885452512489), (535, 0.021126968710823563), (536, 0.005261345753569952), (537, 0.019796029412520892), (538, 0.014508597295129185), (539, 0.008626749297276758), (540, 0.014909519886718696), (541, 0.026692359108798643), (542, 0.01340273382080778), (543, 0.0054995282716054405), (544, 0.016983134739910935), (545, 0.036673775235163575), (546, 0.018855457157704508), (547, 0.015036392088553325), (548, 0.011565809700492268), (549, 0.015129785999380512), (550, 0.012510473382953344), (551, 0.04993882898780872), (552, 0.07225869494736763), (553, 0.03887001937544864), (554, 0.025529637872435545), (555, 0.010922620483496391), (556, 0.027679515677161898), (557, 0.021617558552836473), (558, 0.012055575071559195), (559, 0.016567799547968422), (560, 0.07292572730478232), (561, 0.03969858637869299), (562, 0.03811076006490707), (563, 0.006461876516216693), (564, 0.030006491329832904), (565, 0.03645234119502449), (566, 0.051087161473917765), (567, 0.059130659068442275), (568, 0.005409310450732027), (569, 0.016291874635587917), (570, 0.00906139225738458), (571, 0.012615461453296048), (572, 0.010180091975890905), (573, 0.010367423320293908), (574, 0.005616311943162406), (575, 0.03495824459154235), (576, 0.0559008067853876), (577, 0.016645323121239765), (578, 0.02413406025915819), (579, 0.009723624871488399), (580, 0.005962449134052653), (581, 0.022529055331721455), (582, 0.023787956534655295), (583, 0.013913304839596487), (584, 0.0026520131859634442), (585, 0.05443349625922701), (586, 0.019212207852130698), (587, 0.031424976518468775), (588, 0.02189111250345373), (589, 0.01869875998262068), (590, 0.02547512957757522), (591, 0.007241236008296877), (592, 0.019562039085970918), (593, 0.01282118422549703), (594, 0.018892928723443315), (595, 0.01377372687172744), (596, 0.012874235000917165), (597, 0.07435045142223538), (598, 0.008220363406980914), (599, 0.015082196895571567), (600, 0.04765565584006287), (601, 0.026085297197424008), (602, 0.017061806646332268), (603, 0.011204071689962349), (604, 0.010393339594778629), (605, 0.017071375660728708), (606, 0.002761819664990986), (607, 0.04572973614781478), (608, 0.002942583283370516), (609, 0.04481256545999859), (610, 0.005353542697512363), (611, 0.022448560297978246), (612, 0.04483294421238848), (613, 0.013143319791142336), (614, 0.015190111545173773), (615, 0.0157540271471523), (616, 0.01193363213605793), (617, 0.05698492235105641), (618, 0.01675954018469859), (619, 0.018865162145328244), (620, 0.03392123069460424), (621, 0.07232151646805737), (622, 0.013824435384036207), (623, 0.019927388222581367), (624, 0.017837028110928715), (625, 0.01466275892174164), (626, 0.012842892974536155), (627, 0.01779657585930558), (628, 0.003177295848259737), (629, 0.010097580575432977), (630, 0.007048373427591204), (631, 0.012213914603949346), (632, 0.004301369575113147), (633, 0.02657540791767796), (634, 0.010758677928360511), (635, 0.04872137700007497), (636, 0.009337587609278102), (637, 0.024853141422829683), (638, 0.006707295784091465), (639, 0.024644067275142803), (640, 0.003217003722382896), (641, 0.017453390428410518), (642, 0.003637535242209212), (643, 0.017873917457714113), (644, 0.02989620923985957), (645, 0.002377241097975311), (646, 0.01209546609761886), (647, 0.058845947901649265), (648, 0.003158569754271789), (649, 0.026172117525524032), (650, 0.01924906483563786), (651, 0.019404780628304256), (652, 0.016020762949699834), (653, 0.0028529921059313626), (654, 0.004273437791251404), (655, 0.06189331528236893), (656, 0.04595143630939136), (657, 0.009414618520586138), (658, 0.024395557494693045), (659, 0.013242910079512591), (660, 0.012626067703686095), (661, 0.01067163489854799), (662, 0.005897032568984339), (663, 0.024725032340606024), (664, 0.014953372872866764), (665, 0.01538904159822222), (666, 0.010472543501346666), (667, 0.02320005792968734), (668, 0.046235347830816745), (669, 0.017486764795305726), (670, 0.009763422230173993), (671, 0.038819291454527505), (672, 0.03500819926408705), (673, 0.06118059227350616), (674, 0.030839300926162726), (675, 0.0055759778748569), (676, 0.02605222658597022), (677, 0.007232671044998599), (678, 0.003206005120515974), (679, 0.024965068945858752), (680, 0.019634973710219213), (681, 0.01609264275938678), (682, 0.010602155213406551), (683, 0.035263700138340646), (684, 0.027736129837112072), (685, 0.022975770605213358), (686, 0.11666349848389358), (687, 0.04795057228710241), (688, 0.01387183331019198), (689, 0.0746938204621055), (690, 0.005410343181982785), (691, 0.012522875850061057), (692, 0.020567787836731063), (693, 0.024187044211012015), (694, 0.01052233580208749), (695, 0.015174550161216181), (696, 0.03595080642895396), (697, 0.016967347019687787), (698, 0.020677003991594563), (699, 0.0), (700, 0.03838712864885897), (701, 0.02765496265791702), (702, 0.01027084691603558), (703, 0.0166421744581329), (704, 0.016122308922033573), (705, 0.031008836657442067), (706, 0.01915607879767925), (707, 0.006465027027154109), (708, 0.02005373222181297), (709, 0.015590526686344105), (710, 0.035081769450103294), (711, 0.015109677317873675), (712, 0.005916869232575813), (713, 0.009458941329390411), (714, 0.003766996672527281), (715, 0.00705355166304529), (716, 0.017167646097007487), (717, 0.012219024885801425), (718, 0.012946229078254129), (719, 0.006614112930284991), (720, 0.040225129020181334), (721, 0.002926612806790281), (722, 0.0027704145716742697), (723, 0.015869692015913567), (724, 0.020810140408003754), (725, 0.005999392922063368), (726, 0.03366004968724804), (727, 0.014361167751355888), (728, 0.01925512731207239), (729, 0.020749408697267165), (730, 0.008566887685894116), (731, 0.004119168779679573), (732, 0.010144910055364935), (733, 0.02157531138514959), (734, 0.012011795063876847), (735, 0.02208318913608979), (736, 0.007852078980352636), (737, 0.07251603199409916), (738, 0.01733837537146379), (739, 0.020061761336626925), (740, 0.0022092798021051603), (741, 0.014324524349802505), (742, 0.009499219422072592), (743, 0.0035199099219274735), (744, 0.04498525495808382), (745, 0.009583226814289997), (746, 0.026561869150670235), (747, 0.010371281676913447), (748, 0.012829824873446733), (749, 0.015244821663984595), (750, 0.009930744440397873), (751, 0.003738470921148492), (752, 0.017755694266859492), (753, 0.02979082682712597), (754, 0.012208556598691512), (755, 0.011045873136307135), (756, 0.010235678539950168), (757, 0.0036060357652089427), (758, 0.05277354142567916), (759, 0.1157032791798217), (760, 0.011836509712043914), (761, 0.008212924039752404), (762, 0.020278442082394665), (763, 0.03065861245497632), (764, 0.03774504383615364), (765, 0.01190210991921969), (766, 0.037364219855204786), (767, 0.019163285515277764), (768, 0.009002584284417872), (769, 0.008872699978961557), (770, 0.018233276879156296), (771, 0.019442504066053568), (772, 0.01439699573404592), (773, 0.01700555995920704), (774, 0.016300791657732336), (775, 0.028409613779107067), (776, 0.031320876306628595), (777, 0.014652838443900945), (778, 0.0), (779, 0.026112904598092908), (780, 0.023362989223852743), (781, 0.011274192515676185), (782, 0.02264030631916816), (783, 0.006828292971904741), (784, 0.011904642180883142), (785, 0.026190861830051457), (786, 0.037982712131389484), (787, 0.01538350232298209), (788, 0.016304536757804536), (789, 0.03420379302497009), (790, 0.019087275351019135), (791, 0.016305315836644695), (792, 0.008030011086261312), (793, 0.014759702090525378), (794, 0.041938128002069947), (795, 0.0026957279501817087), (796, 0.02808085698862895), (797, 0.011909731335636971), (798, 0.006376963061665474), (799, 0.008547670436576945), (800, 0.011942452161086142), (801, 0.007061476167948963), (802, 0.016956128759506663), (803, 0.025802239903121076), (804, 0.01616987060662443), (805, 0.03255994464036273), (806, 0.020483667001697042), (807, 0.02572657623881213), (808, 0.01109409377670149), (809, 0.029055362442317947), (810, 0.02757066592933991), (811, 0.011010410234409738), (812, 0.00953953428410207), (813, 0.01669642814719042), (814, 0.023242612736242257), (815, 0.009120342816836519), (816, 0.022648099153306317), (817, 0.03546876803672408), (818, 0.007158950226995146), (819, 0.026976341272677975), (820, 0.08281782778145093), (821, 0.0), (822, 0.008083754957772625), (823, 0.026699601344164214), (824, 0.04937665948599527), (825, 0.03780726330158957), (826, 0.024589048111978908), (827, 0.024328532009254798), (828, 0.02694401163896599), (829, 0.022970299774716492), (830, 0.032204340163582895), (831, 0.0037889435541430014), (832, 0.047256598997311446), (833, 0.012650926162718196), (834, 0.00766489658930039), (835, 0.029610577842699357), (836, 0.014644726397147926), (837, 0.008732639290302019), (838, 0.012155617600740048), (839, 0.01198492536849949), (840, 0.05965961564473053), (841, 0.028036529081622685), (842, 0.009980777479785763), (843, 0.003336982589515565), (844, 0.042494347567209524), (845, 0.01335465083294216), (846, 0.01143348367402271), (847, 0.017605968217358065), (848, 0.027922918950167772), (849, 0.030146932084388397), (850, 0.021113151288037917), (851, 0.026736403854368845), (852, 0.012370027733110682), (853, 0.024225324630885427), (854, 0.04842310181180403), (855, 0.010311283893737764), (856, 0.04302660477094559), (857, 0.005668913684705998), (858, 0.058141034068206254), (859, 0.02458209109162133), (860, 0.017278493492641014), (861, 0.005394521023819194), (862, 0.010559224568330779), (863, 0.014683254579310748), (864, 0.08771510451689751), (865, 0.011053592231951001), (866, 0.01645429573840734), (867, 0.016630377132064746), (868, 0.012356793909587766), (869, 0.029258247759498156), (870, 0.00929869854944889), (871, 0.02915153690985678), (872, 0.01491682375509898), (873, 0.01623371073923594), (874, 0.006735857747396973), (875, 0.017081239430786863), (876, 0.010316381674801433), (877, 0.011356493089718863), (878, 0.017616279441349466), (879, 0.018297548623134013), (880, 0.012664640674765817), (881, 0.012120826596579298), (882, 0.003122678381218873), (883, 0.03340261075738922), (884, 0.012389403039730247), (885, 0.031303841039029424), (886, 0.030012205190607807), (887, 0.03457664805939024), (888, 0.011876358580559661), (889, 0.009453931287369599), (890, 0.010303308449586563), (891, 0.00685422358586865), (892, 0.018247198124875283), (893, 0.037130792519542426), (894, 0.018452469875116475), (895, 0.010456126025060568), (896, 0.018110676792505262), (897, 0.02121146516443989), (898, 0.005554013703967188), (899, 0.004307539601734196), (900, 0.028303269453687885), (901, 0.0234968955044577), (902, 0.02269185444156245), (903, 0.02349791980052852), (904, 0.028160813110605216), (905, 0.039351302013371565), (906, 0.01508051471202064), (907, 0.025316903369731074), (908, 0.01544917793536466), (909, 0.0239362823684792), (910, 0.02281536147879132), (911, 0.012663999136267099), (912, 0.01329016180402549), (913, 0.007164348510462961), (914, 0.013380830702227862), (915, 0.019052494387343057), (916, 0.03746790403216051), (917, 0.032838469115419995), (918, 0.015328455990619865), (919, 0.009427660887108977), (920, 0.023549026989168796), (921, 0.01303331421337146), (922, 0.005136543318266901), (923, 0.02286805526786164), (924, 0.005300942095455925), (925, 0.022276095239988976), (926, 0.018333100750584315), (927, 0.013308089158618166), (928, 0.0), (929, 0.012008791327592857), (930, 0.010906086755229066), (931, 0.04718162598085241), (932, 0.006976791856913645), (933, 0.01637059531368632), (934, 0.013354377751439188), (935, 0.048627451480263345), (936, 0.005481940220642514), (937, 0.01929395977498496), (938, 1.0000000000000007), (939, 0.044379201407355316), (940, 0.03258782148897145), (941, 0.011017302759070521), (942, 0.011785612279093818), (943, 0.0338907016786787), (944, 0.026611706674050016), (945, 0.033439981784007394), (946, 0.03070240545593038), (947, 0.045542186021582186), (948, 0.011158649696349124), (949, 0.002054001404613268), (950, 0.01257432706373985), (951, 0.01371652814428297), (952, 0.02836843601793694), (953, 0.04543810045329569), (954, 0.039990500082540736), (955, 0.014503674466228439), (956, 0.019740606920490008), (957, 0.03194433138093247), (958, 0.025281324457479933), (959, 0.018583783455511916), (960, 0.019047144026890832), (961, 0.014132214839126661), (962, 0.00844637764476567), (963, 0.028938148877544458), (964, 0.0072728126070838815), (965, 0.020818201479386834), (966, 0.007160572915607772), (967, 0.009525421036473502), (968, 0.057085918066133015), (969, 0.012881090485361717), (970, 0.016714824766899873), (971, 0.012030115314202209), (972, 0.01026578253068012), (973, 0.009238226248521287), (974, 0.007094844019628698), (975, 0.019177850356578947), (976, 0.01853533859728106), (977, 0.026087413667145922), (978, 0.003054778384504612), (979, 0.0135039362554836), (980, 0.0030235321148017916), (981, 0.03637379731954744), (982, 0.026206339999391377), (983, 0.009876555025748735), (984, 0.009164056347776856), (985, 0.0), (986, 0.007931395679420913), (987, 0.009197849954684449), (988, 0.04762159005661075), (989, 0.005721678532166971), (990, 0.031706439536995076), (991, 0.017045645956595898), (992, 0.017481557143420815), (993, 0.016590344835535946), (994, 0.0069876960463499576), (995, 0.008591053191244775), (996, 0.006465329785505826), (997, 0.010994135832116721), (998, 0.011590976769406328), (999, 0.004344263778642429)]\n"
     ]
    }
   ],
   "source": [
    "# getting a list of similar movies\n",
    "similarity_score = list(enumerate(similarity[index_of_the_movie]))\n",
    "print(similarity_score)"
   ]
  },
  {
   "cell_type": "code",
   "execution_count": 54,
   "id": "7546929b-4485-4926-807f-d2cb3c132280",
   "metadata": {},
   "outputs": [
    {
     "name": "stdout",
     "output_type": "stream",
     "text": [
      "[(938, 1.0000000000000007), (686, 0.11666349848389358), (759, 0.1157032791798217), (391, 0.10089864706674478), (336, 0.0983392361291422), (277, 0.09449506787245025), (231, 0.0936843859969242), (510, 0.09110469631277418), (104, 0.08966880963855003), (864, 0.08771510451689751), (99, 0.08730670141084465), (820, 0.08281782778145093), (520, 0.08229308260457008), (280, 0.08144792255575735), (46, 0.08023216760901845), (63, 0.07840558141739978), (342, 0.07699084302294198), (406, 0.07485985433469731), (689, 0.0746938204621055), (86, 0.0746812124012267), (597, 0.07435045142223538), (281, 0.0737084472429734), (5, 0.07361150961870715), (560, 0.07292572730478232), (737, 0.07251603199409916), (621, 0.07232151646805737), (552, 0.07225869494736763), (61, 0.07065032896492338), (100, 0.0699089435213604), (11, 0.06384000392233051), (92, 0.06322485666519967), (511, 0.06200661495746414), (655, 0.06189331528236893), (84, 0.061267058964289106), (673, 0.06118059227350616), (68, 0.06091787314942138), (840, 0.05965961564473053), (567, 0.059130659068442275), (268, 0.059024785278984956), (345, 0.05887383502352821), (647, 0.058845947901649265), (506, 0.058826276113850315), (441, 0.05819638258129328), (858, 0.058141034068206254), (968, 0.057085918066133015), (347, 0.05708276778149751), (617, 0.05698492235105641), (179, 0.05654566569095971), (166, 0.05593519473477123), (39, 0.055918734500728325), (576, 0.0559008067853876), (71, 0.05516627415764076), (585, 0.05443349625922701), (134, 0.054269202438760794), (66, 0.05326587307467536), (423, 0.05322483347668113), (168, 0.05310199247066927), (300, 0.052831299165942446), (758, 0.05277354142567916), (324, 0.05175223820601216), (383, 0.05112148927419355), (566, 0.051087161473917765), (299, 0.050962304539298765), (70, 0.05040310318832408), (551, 0.04993882898780872), (824, 0.04937665948599527), (193, 0.049369732851139415), (635, 0.04872137700007497), (935, 0.048627451480263345), (252, 0.048625089709008286), (854, 0.04842310181180403), (69, 0.04831997526518998), (496, 0.047973938802756966), (687, 0.04795057228710241), (600, 0.04765565584006287), (988, 0.04762159005661075), (832, 0.047256598997311446), (931, 0.04718162598085241), (498, 0.04672195282065137), (192, 0.046525264313290904), (501, 0.04641045721729704), (9, 0.04638548251538995), (668, 0.046235347830816745), (656, 0.04595143630939136), (607, 0.04572973614781478), (947, 0.045542186021582186), (953, 0.04543810045329569), (323, 0.04531950424086398), (20, 0.045007739393046434), (293, 0.04498630709115761), (744, 0.04498525495808382), (612, 0.04483294421238848), (609, 0.04481256545999859), (190, 0.04477774918837714), (939, 0.044379201407355316), (482, 0.04387883563297669), (387, 0.04303557775387472), (856, 0.04302660477094559), (153, 0.0427748850403866), (54, 0.04275821927378639), (90, 0.0426047959379592), (844, 0.042494347567209524), (794, 0.041938128002069947), (149, 0.04174500577612436), (226, 0.04147842800803151), (315, 0.04133494911356852), (67, 0.04100987157160186), (138, 0.04084482126657733), (173, 0.04072336333786299), (448, 0.04045238892841046), (34, 0.04042309571008662), (198, 0.04033343461463769), (720, 0.040225129020181334), (954, 0.039990500082540736), (480, 0.0399430251612331), (418, 0.039777221527847476), (408, 0.03972505372040544), (561, 0.03969858637869299), (215, 0.03954838570623263), (144, 0.03942605838413875), (905, 0.039351302013371565), (553, 0.03887001937544864), (671, 0.038819291454527505), (392, 0.03867289651962991), (497, 0.038656420288843876), (126, 0.038596070588817796), (700, 0.03838712864885897), (562, 0.03811076006490707), (786, 0.037982712131389484), (825, 0.03780726330158957), (764, 0.03774504383615364), (257, 0.037673828284203105), (916, 0.03746790403216051), (212, 0.03744813453283972), (111, 0.03744052928056837), (75, 0.03738352642728118), (766, 0.037364219855204786), (893, 0.037130792519542426), (362, 0.0367425546367318), (296, 0.036734220667821296), (545, 0.036673775235163575), (427, 0.036598320617432796), (565, 0.03645234119502449), (981, 0.03637379731954744), (696, 0.03595080642895396), (435, 0.03592576858856353), (534, 0.03585885452512489), (468, 0.03572156706966394), (521, 0.03570290362595834), (379, 0.035607273422159524), (313, 0.0355053620833311), (817, 0.03546876803672408), (459, 0.0354068574107015), (683, 0.035263700138340646), (223, 0.035208007385404735), (710, 0.035081769450103294), (672, 0.03500819926408705), (354, 0.03499550550416527), (575, 0.03495824459154235), (205, 0.03469971575073728), (887, 0.03457664805939024), (432, 0.03457420035874341), (102, 0.03455558236359957), (124, 0.03444772601102318), (524, 0.03442466599132703), (308, 0.03430979858668495), (52, 0.03421998895467904), (789, 0.03420379302497009), (356, 0.034102059552468256), (416, 0.0340584123331988), (620, 0.03392123069460424), (943, 0.0338907016786787), (301, 0.033748743025511424), (253, 0.03373251513533151), (16, 0.033666832936989535), (726, 0.03366004968724804), (307, 0.03358532482979779), (519, 0.0335709468985684), (945, 0.033439981784007394), (883, 0.03340261075738922), (474, 0.033332997084242005), (38, 0.0332717130258461), (310, 0.033166193445784364), (50, 0.03294002392476199), (29, 0.032857949074498315), (160, 0.03285788689613691), (23, 0.03285485290013431), (88, 0.03284824962441711), (917, 0.032838469115419995), (43, 0.032808540455717655), (437, 0.03259772788865027), (940, 0.03258782148897145), (805, 0.03255994464036273), (516, 0.03236785830634845), (492, 0.03228378756076841), (830, 0.032204340163582895), (434, 0.03209019573572133), (957, 0.03194433138093247), (990, 0.031706439536995076), (18, 0.031689057651487454), (30, 0.03161191071936978), (77, 0.03150393477086234), (31, 0.03144405956974262), (587, 0.031424976518468775), (53, 0.03140947055824853), (385, 0.03138475857669106), (19, 0.0313388238406142), (776, 0.031320876306628595), (885, 0.031303841039029424), (273, 0.031251104347875876), (705, 0.031008836657442067), (112, 0.030865776077292295), (674, 0.030839300926162726), (946, 0.03070240545593038), (412, 0.030694394805055335), (763, 0.03065861245497632), (210, 0.030531995782025173), (246, 0.03038371022948002), (438, 0.030260940470065757), (849, 0.030146932084388397), (512, 0.030095475887218223), (886, 0.030012205190607807), (564, 0.030006491329832904), (115, 0.03000176897094007), (32, 0.029981933975218436), (644, 0.02989620923985957), (433, 0.029829722209208147), (753, 0.02979082682712597), (517, 0.0297598509037217), (835, 0.029610577842699357), (114, 0.029306493706117), (869, 0.029258247759498156), (487, 0.029198575071906287), (871, 0.02915153690985678), (809, 0.029055362442317947), (248, 0.028939740762569253), (963, 0.028938148877544458), (202, 0.028713094469883897), (451, 0.0286038853240205), (453, 0.028523866348610323), (471, 0.028522136923736428), (775, 0.028409613779107067), (952, 0.02836843601793694), (900, 0.028303269453687885), (397, 0.028180829349093234), (904, 0.028160813110605216), (796, 0.02808085698862895), (841, 0.028036529081622685), (14, 0.02797205528159247), (321, 0.02796440139075073), (848, 0.027922918950167772), (243, 0.027909032165223013), (337, 0.027758315587813272), (684, 0.027736129837112072), (108, 0.02768040192833032), (556, 0.027679515677161898), (701, 0.02765496265791702), (503, 0.027652987303109416), (810, 0.02757066592933991), (366, 0.027487370272153974), (240, 0.027397234071849116), (333, 0.027375060281855775), (532, 0.027225350994376542), (450, 0.02721318111124209), (415, 0.027183401485378417), (819, 0.026976341272677975), (828, 0.02694401163896599), (500, 0.02686396111820607), (218, 0.026765673792921944), (142, 0.02675324435450097), (851, 0.026736403854368845), (823, 0.026699601344164214), (541, 0.026692359108798643), (944, 0.026611706674050016), (633, 0.02657540791767796), (746, 0.026561869150670235), (214, 0.026245556774185802), (982, 0.026206339999391377), (785, 0.026190861830051457), (649, 0.026172117525524032), (779, 0.026112904598092908), (977, 0.026087413667145922), (601, 0.026085297197424008), (444, 0.026054647803462044), (676, 0.02605222658597022), (64, 0.026029092865361522), (340, 0.026016851192939464), (526, 0.025950274286227405), (353, 0.02581913996970791), (94, 0.025809772909523757), (803, 0.025802239903121076), (89, 0.02577319792436201), (807, 0.02572657623881213), (382, 0.02571642523554489), (377, 0.025635521771148355), (259, 0.02557954491183078), (554, 0.025529637872435545), (590, 0.02547512957757522), (479, 0.025453667399226387), (402, 0.02543909352713845), (110, 0.025418496539218526), (907, 0.025316903369731074), (958, 0.025281324457479933), (201, 0.025234478809272105), (204, 0.025209491485345986), (414, 0.02514655304321944), (196, 0.025088224137215086), (162, 0.02508618203534741), (469, 0.025051550149504533), (326, 0.025034822788976993), (679, 0.024965068945858752), (446, 0.024943269645354524), (139, 0.024918997842792914), (637, 0.024853141422829683), (332, 0.024831156950368728), (663, 0.024725032340606024), (639, 0.024644067275142803), (826, 0.024589048111978908), (859, 0.02458209109162133), (658, 0.024395557494693045), (484, 0.024341858015353428), (827, 0.024328532009254798), (853, 0.024225324630885427), (294, 0.024201352951083232), (693, 0.024187044211012015), (264, 0.024186744254368734), (367, 0.024145253304555518), (578, 0.02413406025915819), (81, 0.02408780499540924), (209, 0.023942076516583935), (909, 0.0239362823684792), (123, 0.02391526968730131), (390, 0.02388858192519106), (159, 0.023864630414433836), (319, 0.023821440055319554), (582, 0.023787956534655295), (216, 0.023676558998625353), (269, 0.023557171785742244), (920, 0.023549026989168796), (225, 0.02353702369761376), (903, 0.02349791980052852), (901, 0.0234968955044577), (477, 0.02345519890704032), (255, 0.023429071577472697), (780, 0.023362989223852743), (317, 0.023355575688050325), (150, 0.023299810730672693), (814, 0.023242612736242257), (667, 0.02320005792968734), (175, 0.023185095615355537), (289, 0.023130747384810912), (170, 0.023084778572705536), (463, 0.023060151867282074), (140, 0.023029540987607466), (74, 0.023014627635587422), (685, 0.022975770605213358), (207, 0.022971079525001145), (829, 0.022970299774716492), (8, 0.022892068929524275), (325, 0.022879490820591604), (923, 0.02286805526786164), (910, 0.02281536147879132), (151, 0.0227212629771057), (107, 0.02271125218542857), (902, 0.02269185444156245), (73, 0.022668092970969115), (816, 0.022648099153306317), (782, 0.02264030631916816), (581, 0.022529055331721455), (229, 0.02249411613590567), (611, 0.022448560297978246), (341, 0.02238137544650361), (194, 0.02228080706712083), (925, 0.022276095239988976), (344, 0.02218635070981987), (735, 0.02208318913608979), (400, 0.022032547335117957), (158, 0.02201286902424415), (291, 0.021981524896050274), (260, 0.02198143542163276), (233, 0.02197865520964429), (588, 0.02189111250345373), (164, 0.021854925371194066), (376, 0.021806203618785096), (60, 0.02165947301145761), (154, 0.021645922592457786), (557, 0.021617558552836473), (224, 0.021611488986631386), (733, 0.02157531138514959), (105, 0.02151250511670543), (136, 0.021438612359787185), (48, 0.021427438018599348), (288, 0.021336485868890587), (897, 0.02121146516443989), (375, 0.021145683594425545), (535, 0.021126968710823563), (850, 0.021113151288037917), (533, 0.02110893996452147), (7, 0.021061222614040413), (420, 0.021002648631192264), (355, 0.02087951041810917), (413, 0.020845917362747293), (965, 0.020818201479386834), (724, 0.020810140408003754), (729, 0.020749408697267165), (698, 0.020677003991594563), (403, 0.020639920170467303), (692, 0.020567787836731063), (470, 0.020534763306944828), (806, 0.020483667001697042), (130, 0.020474536671732376), (762, 0.020278442082394665), (220, 0.0202696536377392), (739, 0.020061761336626925), (424, 0.020058048110270114), (708, 0.02005373222181297), (473, 0.020000150343690515), (238, 0.019968581196201162), (125, 0.01996841252015514), (623, 0.019927388222581367), (12, 0.01992035000947584), (537, 0.019796029412520892), (270, 0.019771858406035233), (956, 0.019740606920490008), (680, 0.019634973710219213), (187, 0.019579221821821112), (592, 0.019562039085970918), (360, 0.01945455971705663), (771, 0.019442504066053568), (169, 0.019409289876103276), (651, 0.019404780628304256), (59, 0.019371181131468934), (426, 0.01934942408882815), (937, 0.01929395977498496), (237, 0.019278695326100253), (728, 0.01925512731207239), (650, 0.01924906483563786), (586, 0.019212207852130698), (975, 0.019177850356578947), (767, 0.019163285515277764), (706, 0.01915607879767925), (33, 0.019138516440762046), (65, 0.019136426291024695), (118, 0.01912072632447679), (98, 0.01911230704997421), (518, 0.019108874802838474), (790, 0.019087275351019135), (915, 0.019052494387343057), (960, 0.019047144026890832), (502, 0.019024244007244884), (329, 0.01899153994322232), (129, 0.018988062127092697), (422, 0.018962805107014976), (386, 0.01892338479775431), (352, 0.018917982181731356), (312, 0.018909961318632436), (594, 0.018892928723443315), (619, 0.018865162145328244), (546, 0.018855457157704508), (161, 0.018811444825488972), (320, 0.018742729116406072), (372, 0.01874221991570088), (271, 0.01873649254532667), (589, 0.01869875998262068), (322, 0.018666406291509695), (959, 0.018583783455511916), (976, 0.01853533859728106), (894, 0.018452469875116475), (491, 0.01840619269729255), (401, 0.018385611433425632), (156, 0.018365988912634402), (926, 0.018333100750584315), (185, 0.018317603631270846), (879, 0.018297548623134013), (892, 0.018247198124875283), (770, 0.018233276879156296), (26, 0.01813926085054078), (17, 0.0181347359171835), (896, 0.018110676792505262), (514, 0.018110438430182674), (256, 0.01807238460623453), (117, 0.01797264255277925), (643, 0.017873917457714113), (624, 0.017837028110928715), (483, 0.017812100641603032), (627, 0.01779657585930558), (752, 0.017755694266859492), (409, 0.017637464684753107), (878, 0.017616279441349466), (847, 0.017605968217358065), (464, 0.017565015781158235), (304, 0.017509611621453283), (669, 0.017486764795305726), (992, 0.017481557143420815), (148, 0.017459074581143503), (641, 0.017453390428410518), (528, 0.017404164510565603), (476, 0.017355015471245936), (331, 0.017348601519163738), (738, 0.01733837537146379), (213, 0.01732843271273883), (860, 0.017278493492641014), (51, 0.017238708929748138), (475, 0.017181456940928798), (716, 0.017167646097007487), (141, 0.017163450269691027), (184, 0.01710936980207218), (261, 0.01708622509537067), (875, 0.017081239430786863), (522, 0.017074825080045528), (605, 0.017071375660728708), (602, 0.017061806646332268), (232, 0.017053988955412804), (991, 0.017045645956595898), (396, 0.01704002965268048), (505, 0.017026970041771654), (773, 0.01700555995920704), (544, 0.016983134739910935), (364, 0.016974205679548014), (697, 0.016967347019687787), (802, 0.016956128759506663), (56, 0.016878652859514044), (132, 0.016842698399290246), (404, 0.01683802084996238), (419, 0.016798703164719486), (618, 0.01675954018469859), (970, 0.016714824766899873), (813, 0.01669642814719042), (577, 0.016645323121239765), (703, 0.0166421744581329), (867, 0.016630377132064746), (993, 0.016590344835535946), (559, 0.016567799547968422), (163, 0.016511752644095025), (2, 0.01650861528618175), (866, 0.01645429573840734), (22, 0.016423703823706715), (529, 0.016413896516887846), (933, 0.01637059531368632), (1, 0.016320380502935102), (4, 0.016315894304142913), (791, 0.016305315836644695), (788, 0.016304536757804536), (774, 0.016300791657732336), (569, 0.016291874635587917), (334, 0.016266547994807916), (113, 0.016243690697455435), (165, 0.01623886724586092), (873, 0.01623371073923594), (284, 0.01619825385751399), (456, 0.0161843108953574), (247, 0.016179285765834696), (804, 0.01616987060662443), (704, 0.016122308922033573), (83, 0.016098748208853306), (681, 0.01609264275938678), (267, 0.01607865287423703), (454, 0.016068161571596115), (174, 0.016042957720183548), (652, 0.016020762949699834), (135, 0.016009956118491386), (359, 0.016000465282432916), (35, 0.015995563195279065), (357, 0.01599073355257266), (95, 0.015984164201187152), (495, 0.015956203596638033), (723, 0.015869692015913567), (37, 0.015859833376136986), (147, 0.015767761893390544), (615, 0.0157540271471523), (509, 0.015620155617523217), (709, 0.015590526686344105), (87, 0.015569888318508772), (428, 0.015554090521325215), (131, 0.015460991314825895), (908, 0.01544917793536466), (200, 0.015398727238015431), (665, 0.01538904159822222), (787, 0.01538350232298209), (93, 0.015362196211801906), (918, 0.015328455990619865), (306, 0.015323870455596975), (436, 0.01527934642603468), (749, 0.015244821663984595), (371, 0.01519913311806001), (614, 0.015190111545173773), (351, 0.015188333239971149), (695, 0.015174550161216181), (311, 0.015151817494491533), (295, 0.015133138680917037), (549, 0.015129785999380512), (711, 0.015109677317873675), (599, 0.015082196895571567), (906, 0.01508051471202064), (410, 0.015046463357699295), (547, 0.015036392088553325), (254, 0.014966575183470266), (664, 0.014953372872866764), (872, 0.01491682375509898), (540, 0.014909519886718696), (407, 0.014875013304969396), (199, 0.014860864860675995), (292, 0.014817317132542637), (72, 0.0147906428642123), (55, 0.014771480886807454), (793, 0.014759702090525378), (863, 0.014683254579310748), (425, 0.014668200304323979), (625, 0.01466275892174164), (777, 0.014652838443900945), (836, 0.014644726397147926), (265, 0.014601102577287188), (481, 0.014588784015724665), (538, 0.014508597295129185), (955, 0.014503674466228439), (45, 0.014434339875327768), (430, 0.014426817298159141), (490, 0.014414356201562444), (772, 0.01439699573404592), (727, 0.014361167751355888), (76, 0.014359513571658267), (234, 0.014350696467159776), (741, 0.014324524349802505), (460, 0.014320834916034414), (24, 0.014315657537208547), (91, 0.014261308971945684), (287, 0.01425960961414315), (197, 0.014234405724882722), (208, 0.01413497913613034), (961, 0.014132214839126661), (302, 0.01411995561906947), (82, 0.01402164725253007), (583, 0.013913304839596487), (327, 0.013899261184508132), (688, 0.01387183331019198), (44, 0.013860333600977886), (290, 0.013843635789702904), (622, 0.013824435384036207), (595, 0.01377372687172744), (57, 0.01375827369814372), (951, 0.01371652814428297), (478, 0.013610586531096201), (186, 0.013593345381423594), (979, 0.0135039362554836), (221, 0.013474978634910685), (47, 0.013403275708278612), (542, 0.01340273382080778), (178, 0.013386338701844294), (914, 0.013380830702227862), (365, 0.013359608921702643), (845, 0.01335465083294216), (934, 0.013354377751439188), (369, 0.013317741956429409), (927, 0.013308089158618166), (912, 0.01329016180402549), (27, 0.013255790034186792), (659, 0.013242910079512591), (525, 0.013191940449998394), (613, 0.013143319791142336), (921, 0.01303331421337146), (78, 0.012992349608958799), (494, 0.012973637226350481), (718, 0.012946229078254129), (969, 0.012881090485361717), (596, 0.012874235000917165), (239, 0.012865558870463374), (626, 0.012842892974536155), (748, 0.012829824873446733), (593, 0.01282118422549703), (183, 0.012807035177562499), (405, 0.012718643684614558), (10, 0.012717961965963066), (447, 0.012694016197925376), (880, 0.012664640674765817), (911, 0.012663999136267099), (833, 0.012650926162718196), (109, 0.012649593210950707), (660, 0.012626067703686095), (230, 0.012626060344528069), (571, 0.012615461453296048), (58, 0.012589136244706752), (950, 0.01257432706373985), (395, 0.012558744353980402), (137, 0.012557571650083), (119, 0.012547605390903839), (691, 0.012522875850061057), (550, 0.012510473382953344), (41, 0.012478604899433293), (467, 0.012459245319044616), (884, 0.012389403039730247), (121, 0.012385775286433438), (411, 0.01237666802912425), (852, 0.012370027733110682), (868, 0.012356793909587766), (13, 0.01229878025332043), (245, 0.012256692651487556), (79, 0.012244193035565298), (188, 0.012230588637567987), (228, 0.01222005340663087), (717, 0.012219024885801425), (631, 0.012213914603949346), (754, 0.012208556598691512), (504, 0.012164441461194175), (838, 0.012155617600740048), (881, 0.012120826596579298), (646, 0.01209546609761886), (558, 0.012055575071559195), (272, 0.012043505485016488), (971, 0.012030115314202209), (235, 0.012021931739553522), (734, 0.012011795063876847), (929, 0.012008791327592857), (440, 0.011995723245371646), (373, 0.011987093802619215), (839, 0.01198492536849949), (488, 0.011981230476548789), (800, 0.011942452161086142), (616, 0.01193363213605793), (797, 0.011909731335636971), (157, 0.011908277623526699), (784, 0.011904642180883142), (765, 0.01190210991921969), (888, 0.011876358580559661), (101, 0.01187396169054505), (120, 0.011853779757404481), (760, 0.011836509712043914), (527, 0.011836480063120642), (452, 0.011814415899762133), (279, 0.011786044334902823), (942, 0.011785612279093818), (80, 0.01172344574844322), (370, 0.011655136597561056), (103, 0.01164770058967218), (314, 0.011621023250982786), (513, 0.011598497801817867), (998, 0.011590976769406328), (548, 0.011565809700492268), (846, 0.01143348367402271), (877, 0.011356493089718863), (180, 0.011323832215117695), (781, 0.011274192515676185), (3, 0.011246843950633386), (603, 0.011204071689962349), (36, 0.01119146354960348), (250, 0.011169862184752594), (948, 0.011158649696349124), (358, 0.01109546098124864), (808, 0.01109409377670149), (865, 0.011053592231951001), (755, 0.011045873136307135), (941, 0.011017302759070521), (811, 0.011010410234409738), (384, 0.01099441154436305), (997, 0.010994135832116721), (176, 0.010983966281308072), (530, 0.010974747399984693), (274, 0.01094182820411264), (350, 0.010938230695800282), (283, 0.010935792019876454), (398, 0.010923655605385333), (555, 0.010922620483496391), (930, 0.010906086755229066), (244, 0.010873188011032032), (276, 0.010818588304906809), (465, 0.010807148789971714), (634, 0.010758677928360511), (181, 0.010681115372512987), (661, 0.01067163489854799), (682, 0.010602155213406551), (42, 0.010574539999772826), (862, 0.010559224568330779), (368, 0.010546043990559776), (694, 0.01052233580208749), (305, 0.010501527021838432), (666, 0.010472543501346666), (895, 0.010456126025060568), (278, 0.010416207549287902), (604, 0.010393339594778629), (747, 0.010371281676913447), (573, 0.010367423320293908), (876, 0.010316381674801433), (855, 0.010311283893737764), (890, 0.010303308449586563), (466, 0.010287600463387416), (702, 0.01027084691603558), (972, 0.01026578253068012), (756, 0.010235678539950168), (431, 0.01023246489575727), (349, 0.010194699851590718), (572, 0.010180091975890905), (732, 0.010144910055364935), (507, 0.010106408595255821), (629, 0.010097580575432977), (0, 0.010093927311696959), (236, 0.009997754079143727), (842, 0.009980777479785763), (750, 0.009930744440397873), (297, 0.009879810053317598), (983, 0.009876555025748735), (85, 0.009843535697228262), (670, 0.009763422230173993), (211, 0.009725075242911501), (579, 0.009723624871488399), (515, 0.009704231188789877), (96, 0.009600310664036936), (745, 0.009583226814289997), (812, 0.00953953428410207), (967, 0.009525421036473502), (742, 0.009499219422072592), (713, 0.009458941329390411), (889, 0.009453931287369599), (330, 0.009443632311609699), (919, 0.009427660887108977), (657, 0.009414618520586138), (499, 0.009360595562720564), (636, 0.009337587609278102), (258, 0.009308596393584733), (870, 0.00929869854944889), (973, 0.009238226248521287), (251, 0.009223285710222883), (987, 0.009197849954684449), (394, 0.00916574337255064), (984, 0.009164056347776856), (421, 0.00915191737691835), (815, 0.009120342816836519), (461, 0.009112957677857705), (570, 0.00906139225738458), (768, 0.009002584284417872), (116, 0.008954587919440662), (389, 0.008938625161022352), (769, 0.008872699978961557), (837, 0.008732639290302019), (286, 0.008697271294059759), (177, 0.008645936841832676), (539, 0.008626749297276758), (995, 0.008591053191244775), (730, 0.008566887685894116), (388, 0.008560909413089098), (799, 0.008547670436576945), (462, 0.008468222422970751), (962, 0.00844637764476567), (381, 0.008444313611596968), (316, 0.008390270241606382), (275, 0.008387043130444465), (203, 0.008295012960967239), (598, 0.008220363406980914), (761, 0.008212924039752404), (380, 0.00811778430645756), (822, 0.008083754957772625), (262, 0.008079857425507077), (143, 0.008068818698889296), (792, 0.008030011086261312), (309, 0.0080141375451704), (217, 0.007936751798467553), (986, 0.007931395679420913), (227, 0.007922911494845556), (363, 0.007874901136376199), (736, 0.007852078980352636), (361, 0.007813401491952688), (318, 0.0078066270772146305), (523, 0.007779828056534469), (6, 0.007759155545601314), (834, 0.00766489658930039), (21, 0.007653161881631385), (328, 0.007567528022599068), (128, 0.007537449840347773), (182, 0.007493841217340865), (155, 0.007391835650924456), (429, 0.007378486489092851), (455, 0.007317903450673751), (263, 0.007309850479741584), (964, 0.0072728126070838815), (591, 0.007241236008296877), (677, 0.007232671044998599), (171, 0.007193622920939957), (913, 0.007164348510462961), (15, 0.007160688658429466), (966, 0.007160572915607772), (818, 0.007158950226995146), (974, 0.007094844019628698), (801, 0.007061476167948963), (715, 0.00705355166304529), (630, 0.007048373427591204), (49, 0.0070184990561453706), (445, 0.007011122990357891), (443, 0.007007166585027087), (508, 0.006989419009825873), (994, 0.0069876960463499576), (531, 0.0069844742963621476), (348, 0.006984220970304128), (932, 0.006976791856913645), (241, 0.006973902017551061), (219, 0.006920810708021774), (303, 0.006893413060991144), (62, 0.006880168543170747), (282, 0.006864075987339802), (891, 0.00685422358586865), (783, 0.006828292971904741), (338, 0.006807827155164297), (343, 0.00679769035290736), (874, 0.006735857747396973), (249, 0.0067245525049811055), (638, 0.006707295784091465), (374, 0.006694671229934242), (242, 0.006623876455510344), (167, 0.006618829085100734), (719, 0.006614112930284991), (346, 0.006575743882274233), (489, 0.006483866268351567), (996, 0.006465329785505826), (707, 0.006465027027154109), (563, 0.006461876516216693), (798, 0.006376963061665474), (122, 0.006373533194331239), (195, 0.006238773306817566), (399, 0.0062110413791464664), (417, 0.006118362068319283), (335, 0.0060984997009025784), (725, 0.005999392922063368), (580, 0.005962449134052653), (378, 0.005937510017163398), (712, 0.005916869232575813), (145, 0.005903225486871749), (662, 0.005897032568984339), (339, 0.005830124528066414), (206, 0.005824568027408371), (172, 0.005768933588389068), (989, 0.005721678532166971), (857, 0.005668913684705998), (574, 0.005616311943162406), (675, 0.0055759778748569), (898, 0.005554013703967188), (543, 0.0054995282716054405), (472, 0.005488954606146142), (936, 0.005481940220642514), (690, 0.005410343181982785), (568, 0.005409310450732027), (861, 0.005394521023819194), (610, 0.005353542697512363), (924, 0.005300942095455925), (536, 0.005261345753569952), (922, 0.005136543318266901), (285, 0.004986101807108611), (449, 0.004812452510510487), (493, 0.004795943063133728), (40, 0.004741616263270265), (28, 0.004726988585825302), (106, 0.004454151671423401), (999, 0.004344263778642429), (899, 0.004307539601734196), (632, 0.004301369575113147), (654, 0.004273437791251404), (731, 0.004119168779679573), (831, 0.0037889435541430014), (714, 0.003766996672527281), (751, 0.003738470921148492), (642, 0.003637535242209212), (757, 0.0036060357652089427), (743, 0.0035199099219274735), (843, 0.003336982589515565), (640, 0.003217003722382896), (678, 0.003206005120515974), (485, 0.003194869024886316), (298, 0.0031810900396736118), (628, 0.003177295848259737), (648, 0.003158569754271789), (127, 0.003148967486019175), (882, 0.003122678381218873), (978, 0.003054778384504612), (980, 0.0030235321148017916), (608, 0.002942583283370516), (721, 0.002926612806790281), (146, 0.002920286648733416), (189, 0.0028970601292318808), (458, 0.002890175053473685), (191, 0.002871697210335034), (653, 0.0028529921059313626), (25, 0.002811926341392989), (152, 0.002806565812848171), (722, 0.0027704145716742697), (606, 0.002761819664990986), (457, 0.0027439223855723464), (795, 0.0026957279501817087), (486, 0.0026717644336794865), (584, 0.0026520131859634442), (133, 0.0026201858419701825), (439, 0.0025390474699147547), (97, 0.002475306897823416), (645, 0.002377241097975311), (740, 0.0022092798021051603), (949, 0.002054001404613268), (222, 0.0), (266, 0.0), (393, 0.0), (442, 0.0), (699, 0.0), (778, 0.0), (821, 0.0), (928, 0.0), (985, 0.0)]\n"
     ]
    }
   ],
   "source": [
    "# sorting the movies based on their similarity score\n",
    "sorted_similar_movies = sorted(similarity_score, key = lambda x:x[1], reverse = True) \n",
    "print(sorted_similar_movies)"
   ]
  },
  {
   "cell_type": "markdown",
   "id": "20151d85-8d20-47e1-b688-c73bf85f4d2c",
   "metadata": {},
   "source": [
    "# print the name of similar movies based on the index\n"
   ]
  },
  {
   "cell_type": "code",
   "execution_count": 55,
   "id": "3ce1bca0-cab7-42bf-9a57-31fdc63f096b",
   "metadata": {},
   "outputs": [
    {
     "name": "stdout",
     "output_type": "stream",
     "text": [
      "Movies suggested for you:\n",
      "\n",
      "1. The Siege of Jadotville\n",
      "2. Hunger\n",
      "3. The Fighter\n",
      "4. The Gunman\n",
      "5. Silver Linings Playbook\n",
      "6. Zodiac\n",
      "7. A Kind of Murder\n",
      "8. The Boy in the Striped Pyjamas\n",
      "9. The Man from U.N.C.L.E.\n"
     ]
    }
   ],
   "source": [
    "print('Movies suggested for you:\\n')\n",
    "i = 1\n",
    "for movies in sorted_similar_movies:\n",
    "    index = movies[0]\n",
    "    title_from_index = movie.loc[index, 'Title']  \n",
    "    print(f\"{i}. {title_from_index}\")\n",
    "    i += 1\n",
    "    if i >= 10:\n",
    "        break \n"
   ]
  },
  {
   "cell_type": "code",
   "execution_count": null,
   "id": "a5fc30e5-792f-4052-9389-b014e9397997",
   "metadata": {},
   "outputs": [],
   "source": []
  },
  {
   "cell_type": "markdown",
   "id": "fb45a74e-d1a2-4212-b289-11ddd825b66a",
   "metadata": {},
   "source": [
    "# Movie recommendation system "
   ]
  },
  {
   "cell_type": "code",
   "execution_count": null,
   "id": "6838344a-5ffb-4314-92e3-1f3cc0131943",
   "metadata": {},
   "outputs": [],
   "source": [
    "movie_title = input(\"Please Input a title of movie: \")\n",
    "list_of_all_titles = movie['Title'].tolist()\n",
    "find_close_match = difflib.get_close_matches(movie_title, list_of_all_titles)\n",
    "close_match = find_close_match[0]\n",
    "index_of_the_movie = movie[movie.Title == close_match]['Rank'].values[0]\n",
    "similarity_score = list(enumerate(similarity[index_of_the_movie]))\n",
    "sorted_similar_movies = sorted(similarity_score, key = lambda x:x[1], reverse = True)\n",
    "\n",
    "print('Movies suggested for you:\\n')\n",
    "\n",
    "i = 1\n",
    "for movies in sorted_similar_movies:\n",
    "    index = movies[0]\n",
    "    title_from_index = movie.loc[index, 'Title']\n",
    "    \n",
    "    print(f\"{i}. {title_from_index}\")\n",
    "\n",
    "    i += 1\n",
    "    if i > 10:\n",
    "        break "
   ]
  },
  {
   "cell_type": "code",
   "execution_count": null,
   "id": "04507b96-07e2-45b1-8615-611ff6395a9e",
   "metadata": {},
   "outputs": [],
   "source": []
  }
 ],
 "metadata": {
  "kernelspec": {
   "display_name": "Python 3 (ipykernel)",
   "language": "python",
   "name": "python3"
  },
  "language_info": {
   "codemirror_mode": {
    "name": "ipython",
    "version": 3
   },
   "file_extension": ".py",
   "mimetype": "text/x-python",
   "name": "python",
   "nbconvert_exporter": "python",
   "pygments_lexer": "ipython3",
   "version": "3.11.5"
  }
 },
 "nbformat": 4,
 "nbformat_minor": 5
}
